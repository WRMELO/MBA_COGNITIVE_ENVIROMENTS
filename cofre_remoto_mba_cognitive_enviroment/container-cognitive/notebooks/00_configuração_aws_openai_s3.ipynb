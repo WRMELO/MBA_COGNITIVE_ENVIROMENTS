{
 "cells": [
  {
   "cell_type": "code",
   "execution_count": 1,
   "id": "a9225d39",
   "metadata": {},
   "outputs": [
    {
     "name": "stdout",
     "output_type": "stream",
     "text": [
      "Requirement already satisfied: pip in /usr/local/lib/python3.10/site-packages (25.1.1)\n",
      "\u001b[33mWARNING: Running pip as the 'root' user can result in broken permissions and conflicting behaviour with the system package manager, possibly rendering your system unusable. It is recommended to use a virtual environment instead: https://pip.pypa.io/warnings/venv. Use the --root-user-action option if you know what you are doing and want to suppress this warning.\u001b[0m\u001b[33m\n",
      "\u001b[0mRequirement already satisfied: boto3 in /usr/local/lib/python3.10/site-packages (1.34.79)\n",
      "Requirement already satisfied: openai in /usr/local/lib/python3.10/site-packages (1.85.0)\n",
      "Requirement already satisfied: python-dotenv in /usr/local/lib/python3.10/site-packages (1.0.1)\n",
      "Requirement already satisfied: botocore<1.35.0,>=1.34.79 in /usr/local/lib/python3.10/site-packages (from boto3) (1.34.162)\n",
      "Requirement already satisfied: jmespath<2.0.0,>=0.7.1 in /usr/local/lib/python3.10/site-packages (from boto3) (1.0.1)\n",
      "Requirement already satisfied: s3transfer<0.11.0,>=0.10.0 in /usr/local/lib/python3.10/site-packages (from boto3) (0.10.4)\n",
      "Requirement already satisfied: python-dateutil<3.0.0,>=2.1 in /usr/local/lib/python3.10/site-packages (from botocore<1.35.0,>=1.34.79->boto3) (2.9.0.post0)\n",
      "Requirement already satisfied: urllib3!=2.2.0,<3,>=1.25.4 in /usr/local/lib/python3.10/site-packages (from botocore<1.35.0,>=1.34.79->boto3) (2.4.0)\n",
      "Requirement already satisfied: six>=1.5 in /usr/local/lib/python3.10/site-packages (from python-dateutil<3.0.0,>=2.1->botocore<1.35.0,>=1.34.79->boto3) (1.17.0)\n",
      "Requirement already satisfied: anyio<5,>=3.5.0 in /usr/local/lib/python3.10/site-packages (from openai) (4.9.0)\n",
      "Requirement already satisfied: distro<2,>=1.7.0 in /usr/local/lib/python3.10/site-packages (from openai) (1.9.0)\n",
      "Requirement already satisfied: httpx<1,>=0.23.0 in /usr/local/lib/python3.10/site-packages (from openai) (0.28.1)\n",
      "Requirement already satisfied: jiter<1,>=0.4.0 in /usr/local/lib/python3.10/site-packages (from openai) (0.10.0)\n",
      "Requirement already satisfied: pydantic<3,>=1.9.0 in /usr/local/lib/python3.10/site-packages (from openai) (2.11.5)\n",
      "Requirement already satisfied: sniffio in /usr/local/lib/python3.10/site-packages (from openai) (1.3.1)\n",
      "Requirement already satisfied: tqdm>4 in /usr/local/lib/python3.10/site-packages (from openai) (4.67.1)\n",
      "Requirement already satisfied: typing-extensions<5,>=4.11 in /usr/local/lib/python3.10/site-packages (from openai) (4.14.0)\n",
      "Requirement already satisfied: exceptiongroup>=1.0.2 in /usr/local/lib/python3.10/site-packages (from anyio<5,>=3.5.0->openai) (1.3.0)\n",
      "Requirement already satisfied: idna>=2.8 in /usr/local/lib/python3.10/site-packages (from anyio<5,>=3.5.0->openai) (3.10)\n",
      "Requirement already satisfied: certifi in /usr/local/lib/python3.10/site-packages (from httpx<1,>=0.23.0->openai) (2025.4.26)\n",
      "Requirement already satisfied: httpcore==1.* in /usr/local/lib/python3.10/site-packages (from httpx<1,>=0.23.0->openai) (1.0.9)\n",
      "Requirement already satisfied: h11>=0.16 in /usr/local/lib/python3.10/site-packages (from httpcore==1.*->httpx<1,>=0.23.0->openai) (0.16.0)\n",
      "Requirement already satisfied: annotated-types>=0.6.0 in /usr/local/lib/python3.10/site-packages (from pydantic<3,>=1.9.0->openai) (0.7.0)\n",
      "Requirement already satisfied: pydantic-core==2.33.2 in /usr/local/lib/python3.10/site-packages (from pydantic<3,>=1.9.0->openai) (2.33.2)\n",
      "Requirement already satisfied: typing-inspection>=0.4.0 in /usr/local/lib/python3.10/site-packages (from pydantic<3,>=1.9.0->openai) (0.4.1)\n",
      "\u001b[33mWARNING: Running pip as the 'root' user can result in broken permissions and conflicting behaviour with the system package manager, possibly rendering your system unusable. It is recommended to use a virtual environment instead: https://pip.pypa.io/warnings/venv. Use the --root-user-action option if you know what you are doing and want to suppress this warning.\u001b[0m\u001b[33m\n",
      "\u001b[0m"
     ]
    }
   ],
   "source": [
    "# CÉLULA 1 — Instalar bibliotecas essenciais, se ainda não estiverem disponíveis\n",
    "!pip install --upgrade pip\n",
    "!pip install boto3 openai python-dotenv\n"
   ]
  },
  {
   "cell_type": "code",
   "execution_count": 3,
   "id": "0b4f3887",
   "metadata": {},
   "outputs": [
    {
     "name": "stdout",
     "output_type": "stream",
     "text": [
      "✅ Arquivo .env criado com sucesso em: /app/.env\n"
     ]
    }
   ],
   "source": [
    "# CÉLULA 2 — Gera o .env automaticamente a partir dos arquivos enviados\n",
    "\n",
    "from pathlib import Path\n",
    "import pandas as pd\n",
    "\n",
    "# Caminhos esperados dos arquivos (assumindo que estão na raiz do projeto ou /app)\n",
    "aws_csv_path = Path(\"/app/WRMELO_accessKeys.csv\")\n",
    "openai_key_path = Path(\"/app/OPEN AI - CHAVE.md\")\n",
    "env_path = Path(\"/app/.env\")\n",
    "\n",
    "# Leitura das credenciais AWS\n",
    "aws_df = pd.read_csv(aws_csv_path)\n",
    "aws_access_key = aws_df[\"Access key ID\"].iloc[0].strip()\n",
    "aws_secret_key = aws_df[\"Secret access key\"].iloc[0].strip()\n",
    "\n",
    "# Leitura da chave OpenAI\n",
    "openai_key = Path(openai_key_path).read_text().strip()\n",
    "\n",
    "# Região e bucket fixos\n",
    "aws_region = \"us-east-1\"\n",
    "s3_bucket = \"staging-face-text\"\n",
    "\n",
    "# Escrita do .env\n",
    "env_content = f\"\"\"AWS_ACCESS_KEY_ID={aws_access_key}\n",
    "AWS_SECRET_ACCESS_KEY={aws_secret_key}\n",
    "AWS_REGION={aws_region}\n",
    "OPENAI_API_KEY={openai_key}\n",
    "S3_BUCKET={s3_bucket}\n",
    "\"\"\"\n",
    "\n",
    "env_path.write_text(env_content)\n",
    "print(\"✅ Arquivo .env criado com sucesso em:\", env_path)\n"
   ]
  },
  {
   "cell_type": "code",
   "execution_count": 4,
   "id": "0fe5ade3",
   "metadata": {},
   "outputs": [
    {
     "name": "stdout",
     "output_type": "stream",
     "text": [
      "✅ Variáveis de ambiente carregadas com sucesso:\n",
      "\n",
      "AWS_ACCESS_KEY_ID: ***QZPP\n",
      "AWS_SECRET_ACCESS_KEY: ***pdvz\n",
      "AWS_REGION: ***st-1\n",
      "OPENAI_API_KEY: ***Z_UA\n",
      "S3_BUCKET: ***text\n"
     ]
    }
   ],
   "source": [
    "# CÉLULA 3 — Carrega o .env e verifica as variáveis obrigatórias\n",
    "\n",
    "from dotenv import load_dotenv\n",
    "import os\n",
    "\n",
    "load_dotenv(dotenv_path=\"/app/.env\")\n",
    "\n",
    "required_vars = [\n",
    "    \"AWS_ACCESS_KEY_ID\",\n",
    "    \"AWS_SECRET_ACCESS_KEY\",\n",
    "    \"AWS_REGION\",\n",
    "    \"OPENAI_API_KEY\",\n",
    "    \"S3_BUCKET\"\n",
    "]\n",
    "\n",
    "missing = [var for var in required_vars if not os.getenv(var)]\n",
    "if missing:\n",
    "    raise EnvironmentError(f\"❌ Variáveis faltando no .env: {missing}\")\n",
    "\n",
    "print(\"✅ Variáveis de ambiente carregadas com sucesso:\\n\")\n",
    "for var in required_vars:\n",
    "    print(f\"{var}: {'***' + os.getenv(var)[-4:]}\")\n"
   ]
  },
  {
   "cell_type": "code",
   "execution_count": 10,
   "id": "4b380556",
   "metadata": {},
   "outputs": [
    {
     "name": "stdout",
     "output_type": "stream",
     "text": [
      "✅ Conexão AWS S3 OK — Acesso confirmado ao bucket 'staging-face-text'\n",
      "✅ Conexão OpenAI OK — 50 modelos disponíveis\n"
     ]
    }
   ],
   "source": [
    "# CÉLULA 4 (REVISADA) — Teste real com AWS e OpenAI adaptado\n",
    "\n",
    "import boto3\n",
    "import openai\n",
    "import os\n",
    "\n",
    "# AWS S3 — testa acesso ao bucket especificado\n",
    "try:\n",
    "    s3 = boto3.client(\n",
    "        \"s3\",\n",
    "        aws_access_key_id=os.getenv(\"AWS_ACCESS_KEY_ID\"),\n",
    "        aws_secret_access_key=os.getenv(\"AWS_SECRET_ACCESS_KEY\"),\n",
    "        region_name=os.getenv(\"AWS_REGION\")\n",
    "    )\n",
    "    bucket_name = os.getenv(\"S3_BUCKET\")\n",
    "    s3.head_bucket(Bucket=bucket_name)\n",
    "    print(f\"✅ Conexão AWS S3 OK — Acesso confirmado ao bucket '{bucket_name}'\")\n",
    "except Exception as e:\n",
    "    print(f\"❌ Falha ao acessar bucket '{bucket_name}':\", e)\n",
    "\n",
    "# OpenAI — nova API, converte para lista\n",
    "try:\n",
    "    openai.api_key = os.getenv(\"OPENAI_API_KEY\")\n",
    "    models = list(openai.models.list())\n",
    "    print(f\"✅ Conexão OpenAI OK — {len(models)} modelos disponíveis\")\n",
    "except Exception as e:\n",
    "    print(\"❌ Erro na conexão com OpenAI:\", e)\n"
   ]
  },
  {
   "cell_type": "code",
   "execution_count": 11,
   "id": "7663867d",
   "metadata": {},
   "outputs": [
    {
     "name": "stdout",
     "output_type": "stream",
     "text": [
      "✅ Bucket 'staging-face-text' já existe.\n"
     ]
    }
   ],
   "source": [
    "# CÉLULA 5 — Criação do bucket 'staging-face-text' se ele não existir\n",
    "\n",
    "import botocore.exceptions\n",
    "\n",
    "bucket_name = os.getenv(\"S3_BUCKET\")\n",
    "\n",
    "try:\n",
    "    s3.head_bucket(Bucket=bucket_name)\n",
    "    print(f\"✅ Bucket '{bucket_name}' já existe.\")\n",
    "except botocore.exceptions.ClientError as e:\n",
    "    error_code = int(e.response['Error']['Code'])\n",
    "    if error_code == 404:\n",
    "        print(f\"⚠️ Bucket '{bucket_name}' não encontrado. Tentando criar...\")\n",
    "        try:\n",
    "            s3.create_bucket(Bucket=bucket_name)\n",
    "            print(f\"✅ Bucket '{bucket_name}' criado com sucesso.\")\n",
    "        except Exception as create_err:\n",
    "            print(f\"❌ Falha ao criar bucket '{bucket_name}':\", create_err)\n",
    "    else:\n",
    "        print(f\"❌ Erro ao verificar o bucket '{bucket_name}':\", e)\n"
   ]
  }
 ],
 "metadata": {
  "kernelspec": {
   "display_name": "Python 3",
   "language": "python",
   "name": "python3"
  },
  "language_info": {
   "codemirror_mode": {
    "name": "ipython",
    "version": 3
   },
   "file_extension": ".py",
   "mimetype": "text/x-python",
   "name": "python",
   "nbconvert_exporter": "python",
   "pygments_lexer": "ipython3",
   "version": "3.10.18"
  }
 },
 "nbformat": 4,
 "nbformat_minor": 5
}
