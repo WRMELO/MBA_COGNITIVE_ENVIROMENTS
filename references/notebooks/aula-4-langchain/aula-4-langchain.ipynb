{
  "cells": [
    {
      "cell_type": "markdown",
      "metadata": {
        "id": "1DOIAO0FM9Js"
      },
      "source": [
        "# Cloud Cognitive Environments\n",
        "Aplicações com modelos LLM"
      ]
    },
    {
      "cell_type": "markdown",
      "metadata": {
        "id": "nSN6nGEFOP0-"
      },
      "source": [
        "## Requerimentos\n",
        "\n",
        "* Langchain\n",
        "* OpenAI\n",
        "* Pandas\n",
        "* Python Display\n",
        "* DocArray\n",
        "* Wikipedia\n",
        "* XML to Dict"
      ]
    },
    {
      "cell_type": "code",
      "execution_count": null,
      "metadata": {
        "id": "Elj8jNRMwgp9"
      },
      "outputs": [],
      "source": [
        "# Apagar pasta do repositório\n",
        "# Faça somente isso se não tenha clonado antes\n",
        "!rm -rf fiap-ds-cloud-cognitive-environments"
      ]
    },
    {
      "cell_type": "code",
      "execution_count": 1,
      "metadata": {
        "colab": {
          "base_uri": "https://localhost:8080/"
        },
        "id": "RK_HRx7Hwg11",
        "outputId": "2f2a49cc-58ef-4a89-e754-ca48ceb2d07f"
      },
      "outputs": [
        {
          "name": "stdout",
          "output_type": "stream",
          "text": [
            "Cloning into 'fiap-ds-cloud-cognitive-environments'...\n",
            "remote: Enumerating objects: 241, done.\u001b[K\n",
            "remote: Counting objects: 100% (69/69), done.\u001b[K\n",
            "remote: Compressing objects: 100% (53/53), done.\u001b[K\n",
            "remote: Total 241 (delta 26), reused 52 (delta 16), pack-reused 172\u001b[K\n",
            "Receiving objects: 100% (241/241), 186.80 MiB | 12.93 MiB/s, done.\n",
            "Resolving deltas: 100% (77/77), done.\n",
            "Updating files: 100% (62/62), done.\n"
          ]
        }
      ],
      "source": [
        "# Clonar o repositório da aula\n",
        "!git clone https://github.com/michelpf/fiap-ds-cloud-cognitive-environments"
      ]
    },
    {
      "cell_type": "code",
      "execution_count": 85,
      "metadata": {
        "colab": {
          "base_uri": "https://localhost:8080/"
        },
        "id": "wa_WC3wXwjDa",
        "outputId": "cd6a6ed8-c401-4b91-a77d-5fac662cbba0"
      },
      "outputs": [
        {
          "name": "stdout",
          "output_type": "stream",
          "text": [
            "/content/fiap-ds-cloud-cognitive-environments/aula-4-langchain\n"
          ]
        }
      ],
      "source": [
        "%cd fiap-ds-cloud-cognitive-environments/aula-4-langchain/"
      ]
    },
    {
      "cell_type": "code",
      "execution_count": 85,
      "metadata": {
        "colab": {
          "base_uri": "https://localhost:8080/"
        },
        "id": "wVBU0-JUOUeP",
        "outputId": "6761f1c2-ad5f-4111-e934-439ab62a933b"
      },
      "outputs": [
        {
          "name": "stdout",
          "output_type": "stream",
          "text": [
            "Requirement already satisfied: openai in /Users/michelpf/.pyenv/versions/3.10.13/lib/python3.10/site-packages (1.76.2)\n",
            "Requirement already satisfied: langchain-community in /Users/michelpf/.pyenv/versions/3.10.13/lib/python3.10/site-packages (0.3.23)\n",
            "Requirement already satisfied: langchain-core in /Users/michelpf/.pyenv/versions/3.10.13/lib/python3.10/site-packages (0.3.56)\n",
            "Requirement already satisfied: langchain in /Users/michelpf/.pyenv/versions/3.10.13/lib/python3.10/site-packages (0.3.24)\n",
            "Requirement already satisfied: tiktoken in /Users/michelpf/.pyenv/versions/3.10.13/lib/python3.10/site-packages (0.9.0)\n",
            "Requirement already satisfied: docarray in /Users/michelpf/.pyenv/versions/3.10.13/lib/python3.10/site-packages (0.41.0)\n",
            "Requirement already satisfied: wikipedia in /Users/michelpf/.pyenv/versions/3.10.13/lib/python3.10/site-packages (1.4.0)\n",
            "Requirement already satisfied: xmltodict in /Users/michelpf/.pyenv/versions/3.10.13/lib/python3.10/site-packages (0.14.2)\n",
            "Requirement already satisfied: langchain-openai in /Users/michelpf/.pyenv/versions/3.10.13/lib/python3.10/site-packages (0.3.15)\n",
            "Collecting chromadb\n",
            "  Downloading chromadb-1.0.7-cp39-abi3-macosx_11_0_arm64.whl.metadata (6.9 kB)\n",
            "Requirement already satisfied: anyio<5,>=3.5.0 in /Users/michelpf/.pyenv/versions/3.10.13/lib/python3.10/site-packages (from openai) (4.3.0)\n",
            "Requirement already satisfied: distro<2,>=1.7.0 in /Users/michelpf/.pyenv/versions/3.10.13/lib/python3.10/site-packages (from openai) (1.9.0)\n",
            "Requirement already satisfied: httpx<1,>=0.23.0 in /Users/michelpf/.pyenv/versions/3.10.13/lib/python3.10/site-packages (from openai) (0.27.0)\n",
            "Requirement already satisfied: jiter<1,>=0.4.0 in /Users/michelpf/.pyenv/versions/3.10.13/lib/python3.10/site-packages (from openai) (0.9.0)\n",
            "Requirement already satisfied: pydantic<3,>=1.9.0 in /Users/michelpf/.pyenv/versions/3.10.13/lib/python3.10/site-packages (from openai) (2.11.4)\n",
            "Requirement already satisfied: sniffio in /Users/michelpf/.pyenv/versions/3.10.13/lib/python3.10/site-packages (from openai) (1.3.1)\n",
            "Requirement already satisfied: tqdm>4 in /Users/michelpf/.pyenv/versions/3.10.13/lib/python3.10/site-packages (from openai) (4.66.2)\n",
            "Requirement already satisfied: typing-extensions<5,>=4.11 in /Users/michelpf/.pyenv/versions/3.10.13/lib/python3.10/site-packages (from openai) (4.13.2)\n",
            "Requirement already satisfied: idna>=2.8 in /Users/michelpf/.pyenv/versions/3.10.13/lib/python3.10/site-packages (from anyio<5,>=3.5.0->openai) (3.6)\n",
            "Requirement already satisfied: exceptiongroup>=1.0.2 in /Users/michelpf/.pyenv/versions/3.10.13/lib/python3.10/site-packages (from anyio<5,>=3.5.0->openai) (1.2.0)\n",
            "Requirement already satisfied: certifi in /Users/michelpf/.pyenv/versions/3.10.13/lib/python3.10/site-packages (from httpx<1,>=0.23.0->openai) (2024.2.2)\n",
            "Requirement already satisfied: httpcore==1.* in /Users/michelpf/.pyenv/versions/3.10.13/lib/python3.10/site-packages (from httpx<1,>=0.23.0->openai) (1.0.4)\n",
            "Requirement already satisfied: h11<0.15,>=0.13 in /Users/michelpf/.pyenv/versions/3.10.13/lib/python3.10/site-packages (from httpcore==1.*->httpx<1,>=0.23.0->openai) (0.14.0)\n",
            "Requirement already satisfied: annotated-types>=0.6.0 in /Users/michelpf/.pyenv/versions/3.10.13/lib/python3.10/site-packages (from pydantic<3,>=1.9.0->openai) (0.6.0)\n",
            "Requirement already satisfied: pydantic-core==2.33.2 in /Users/michelpf/.pyenv/versions/3.10.13/lib/python3.10/site-packages (from pydantic<3,>=1.9.0->openai) (2.33.2)\n",
            "Requirement already satisfied: typing-inspection>=0.4.0 in /Users/michelpf/.pyenv/versions/3.10.13/lib/python3.10/site-packages (from pydantic<3,>=1.9.0->openai) (0.4.0)\n",
            "Requirement already satisfied: SQLAlchemy<3,>=1.4 in /Users/michelpf/.pyenv/versions/3.10.13/lib/python3.10/site-packages (from langchain-community) (2.0.40)\n",
            "Requirement already satisfied: requests<3,>=2 in /Users/michelpf/.pyenv/versions/3.10.13/lib/python3.10/site-packages (from langchain-community) (2.31.0)\n",
            "Requirement already satisfied: PyYAML>=5.3 in /Users/michelpf/.pyenv/versions/3.10.13/lib/python3.10/site-packages (from langchain-community) (6.0.1)\n",
            "Requirement already satisfied: aiohttp<4.0.0,>=3.8.3 in /Users/michelpf/.pyenv/versions/3.10.13/lib/python3.10/site-packages (from langchain-community) (3.9.3)\n",
            "Requirement already satisfied: tenacity!=8.4.0,<10,>=8.1.0 in /Users/michelpf/.pyenv/versions/3.10.13/lib/python3.10/site-packages (from langchain-community) (8.5.0)\n",
            "Requirement already satisfied: dataclasses-json<0.7,>=0.5.7 in /Users/michelpf/.pyenv/versions/3.10.13/lib/python3.10/site-packages (from langchain-community) (0.6.7)\n",
            "Requirement already satisfied: pydantic-settings<3.0.0,>=2.4.0 in /Users/michelpf/.pyenv/versions/3.10.13/lib/python3.10/site-packages (from langchain-community) (2.9.1)\n",
            "Requirement already satisfied: langsmith<0.4,>=0.1.125 in /Users/michelpf/.pyenv/versions/3.10.13/lib/python3.10/site-packages (from langchain-community) (0.3.39)\n",
            "Requirement already satisfied: httpx-sse<1.0.0,>=0.4.0 in /Users/michelpf/.pyenv/versions/3.10.13/lib/python3.10/site-packages (from langchain-community) (0.4.0)\n",
            "Requirement already satisfied: numpy>=1.26.2 in /Users/michelpf/.pyenv/versions/3.10.13/lib/python3.10/site-packages (from langchain-community) (2.2.5)\n",
            "Requirement already satisfied: jsonpatch<2.0,>=1.33 in /Users/michelpf/.pyenv/versions/3.10.13/lib/python3.10/site-packages (from langchain-core) (1.33)\n",
            "Requirement already satisfied: packaging<25,>=23.2 in /Users/michelpf/.pyenv/versions/3.10.13/lib/python3.10/site-packages (from langchain-core) (23.2)\n",
            "Requirement already satisfied: langchain-text-splitters<1.0.0,>=0.3.8 in /Users/michelpf/.pyenv/versions/3.10.13/lib/python3.10/site-packages (from langchain) (0.3.8)\n",
            "Requirement already satisfied: async-timeout<5.0.0,>=4.0.0 in /Users/michelpf/.pyenv/versions/3.10.13/lib/python3.10/site-packages (from langchain) (4.0.3)\n",
            "Requirement already satisfied: aiosignal>=1.1.2 in /Users/michelpf/.pyenv/versions/3.10.13/lib/python3.10/site-packages (from aiohttp<4.0.0,>=3.8.3->langchain-community) (1.3.1)\n",
            "Requirement already satisfied: attrs>=17.3.0 in /Users/michelpf/.pyenv/versions/3.10.13/lib/python3.10/site-packages (from aiohttp<4.0.0,>=3.8.3->langchain-community) (23.2.0)\n",
            "Requirement already satisfied: frozenlist>=1.1.1 in /Users/michelpf/.pyenv/versions/3.10.13/lib/python3.10/site-packages (from aiohttp<4.0.0,>=3.8.3->langchain-community) (1.4.1)\n",
            "Requirement already satisfied: multidict<7.0,>=4.5 in /Users/michelpf/.pyenv/versions/3.10.13/lib/python3.10/site-packages (from aiohttp<4.0.0,>=3.8.3->langchain-community) (6.0.5)\n",
            "Requirement already satisfied: yarl<2.0,>=1.0 in /Users/michelpf/.pyenv/versions/3.10.13/lib/python3.10/site-packages (from aiohttp<4.0.0,>=3.8.3->langchain-community) (1.9.4)\n",
            "Requirement already satisfied: marshmallow<4.0.0,>=3.18.0 in /Users/michelpf/.pyenv/versions/3.10.13/lib/python3.10/site-packages (from dataclasses-json<0.7,>=0.5.7->langchain-community) (3.26.1)\n",
            "Requirement already satisfied: typing-inspect<1,>=0.4.0 in /Users/michelpf/.pyenv/versions/3.10.13/lib/python3.10/site-packages (from dataclasses-json<0.7,>=0.5.7->langchain-community) (0.9.0)\n",
            "Requirement already satisfied: jsonpointer>=1.9 in /Users/michelpf/.pyenv/versions/3.10.13/lib/python3.10/site-packages (from jsonpatch<2.0,>=1.33->langchain-core) (2.4)\n",
            "Requirement already satisfied: orjson<4.0.0,>=3.9.14 in /Users/michelpf/.pyenv/versions/3.10.13/lib/python3.10/site-packages (from langsmith<0.4,>=0.1.125->langchain-community) (3.9.14)\n",
            "Requirement already satisfied: requests-toolbelt<2.0.0,>=1.0.0 in /Users/michelpf/.pyenv/versions/3.10.13/lib/python3.10/site-packages (from langsmith<0.4,>=0.1.125->langchain-community) (1.0.0)\n",
            "Requirement already satisfied: zstandard<0.24.0,>=0.23.0 in /Users/michelpf/.pyenv/versions/3.10.13/lib/python3.10/site-packages (from langsmith<0.4,>=0.1.125->langchain-community) (0.23.0)\n",
            "Requirement already satisfied: python-dotenv>=0.21.0 in /Users/michelpf/.pyenv/versions/3.10.13/lib/python3.10/site-packages (from pydantic-settings<3.0.0,>=2.4.0->langchain-community) (1.0.0)\n",
            "Requirement already satisfied: charset-normalizer<4,>=2 in /Users/michelpf/.pyenv/versions/3.10.13/lib/python3.10/site-packages (from requests<3,>=2->langchain-community) (3.3.2)\n",
            "Requirement already satisfied: urllib3<3,>=1.21.1 in /Users/michelpf/.pyenv/versions/3.10.13/lib/python3.10/site-packages (from requests<3,>=2->langchain-community) (2.0.7)\n",
            "Requirement already satisfied: mypy-extensions>=0.3.0 in /Users/michelpf/.pyenv/versions/3.10.13/lib/python3.10/site-packages (from typing-inspect<1,>=0.4.0->dataclasses-json<0.7,>=0.5.7->langchain-community) (1.1.0)\n",
            "Requirement already satisfied: regex>=2022.1.18 in /Users/michelpf/.pyenv/versions/3.10.13/lib/python3.10/site-packages (from tiktoken) (2024.11.6)\n",
            "Requirement already satisfied: rich>=13.1.0 in /Users/michelpf/.pyenv/versions/3.10.13/lib/python3.10/site-packages (from docarray) (13.7.0)\n",
            "Requirement already satisfied: types-requests>=2.28.11.6 in /Users/michelpf/.pyenv/versions/3.10.13/lib/python3.10/site-packages (from docarray) (2.32.0.20250328)\n",
            "Requirement already satisfied: beautifulsoup4 in /Users/michelpf/.pyenv/versions/3.10.13/lib/python3.10/site-packages (from wikipedia) (4.12.3)\n",
            "Collecting build>=1.0.3 (from chromadb)\n",
            "  Downloading build-1.2.2.post1-py3-none-any.whl.metadata (6.5 kB)\n",
            "Collecting chroma-hnswlib==0.7.6 (from chromadb)\n",
            "  Downloading chroma_hnswlib-0.7.6-cp310-cp310-macosx_11_0_arm64.whl.metadata (252 bytes)\n",
            "Collecting fastapi==0.115.9 (from chromadb)\n",
            "  Downloading fastapi-0.115.9-py3-none-any.whl.metadata (27 kB)\n",
            "Collecting uvicorn>=0.18.3 (from uvicorn[standard]>=0.18.3->chromadb)\n",
            "  Downloading uvicorn-0.34.2-py3-none-any.whl.metadata (6.5 kB)\n",
            "Collecting posthog>=2.4.0 (from chromadb)\n",
            "  Downloading posthog-4.0.1-py2.py3-none-any.whl.metadata (3.0 kB)\n",
            "Collecting onnxruntime>=1.14.1 (from chromadb)\n",
            "  Downloading onnxruntime-1.21.1-cp310-cp310-macosx_13_0_universal2.whl.metadata (4.5 kB)\n",
            "Collecting opentelemetry-api>=1.2.0 (from chromadb)\n",
            "  Downloading opentelemetry_api-1.32.1-py3-none-any.whl.metadata (1.6 kB)\n",
            "Collecting opentelemetry-exporter-otlp-proto-grpc>=1.2.0 (from chromadb)\n",
            "  Downloading opentelemetry_exporter_otlp_proto_grpc-1.32.1-py3-none-any.whl.metadata (2.5 kB)\n",
            "Collecting opentelemetry-instrumentation-fastapi>=0.41b0 (from chromadb)\n",
            "  Downloading opentelemetry_instrumentation_fastapi-0.53b1-py3-none-any.whl.metadata (2.2 kB)\n",
            "Collecting opentelemetry-sdk>=1.2.0 (from chromadb)\n",
            "  Downloading opentelemetry_sdk-1.32.1-py3-none-any.whl.metadata (1.6 kB)\n",
            "Collecting tokenizers>=0.13.2 (from chromadb)\n",
            "  Downloading tokenizers-0.21.1-cp39-abi3-macosx_11_0_arm64.whl.metadata (6.8 kB)\n",
            "Collecting pypika>=0.48.9 (from chromadb)\n",
            "  Downloading PyPika-0.48.9.tar.gz (67 kB)\n",
            "  Installing build dependencies ... \u001b[?25ldone\n",
            "\u001b[?25h  Getting requirements to build wheel ... \u001b[?25ldone\n",
            "\u001b[?25h  Preparing metadata (pyproject.toml) ... \u001b[?25ldone\n",
            "\u001b[?25hRequirement already satisfied: overrides>=7.3.1 in /Users/michelpf/.pyenv/versions/3.10.13/lib/python3.10/site-packages (from chromadb) (7.7.0)\n",
            "Collecting importlib-resources (from chromadb)\n",
            "  Downloading importlib_resources-6.5.2-py3-none-any.whl.metadata (3.9 kB)\n",
            "Requirement already satisfied: grpcio>=1.58.0 in /Users/michelpf/.pyenv/versions/3.10.13/lib/python3.10/site-packages (from chromadb) (1.65.4)\n",
            "Collecting bcrypt>=4.0.1 (from chromadb)\n",
            "  Downloading bcrypt-4.3.0-cp39-abi3-macosx_10_12_universal2.whl.metadata (10 kB)\n",
            "Requirement already satisfied: typer>=0.9.0 in /Users/michelpf/.pyenv/versions/3.10.13/lib/python3.10/site-packages (from chromadb) (0.9.0)\n",
            "Collecting kubernetes>=28.1.0 (from chromadb)\n",
            "  Downloading kubernetes-32.0.1-py2.py3-none-any.whl.metadata (1.7 kB)\n",
            "Collecting mmh3>=4.0.1 (from chromadb)\n",
            "  Downloading mmh3-5.1.0-cp310-cp310-macosx_11_0_arm64.whl.metadata (16 kB)\n",
            "Requirement already satisfied: jsonschema>=4.19.0 in /Users/michelpf/.pyenv/versions/3.10.13/lib/python3.10/site-packages (from chromadb) (4.21.1)\n",
            "Collecting starlette<0.46.0,>=0.40.0 (from fastapi==0.115.9->chromadb)\n",
            "  Downloading starlette-0.45.3-py3-none-any.whl.metadata (6.3 kB)\n",
            "Collecting pyproject_hooks (from build>=1.0.3->chromadb)\n",
            "  Downloading pyproject_hooks-1.2.0-py3-none-any.whl.metadata (1.3 kB)\n",
            "Requirement already satisfied: tomli>=1.1.0 in /Users/michelpf/.pyenv/versions/3.10.13/lib/python3.10/site-packages (from build>=1.0.3->chromadb) (2.0.1)\n",
            "Requirement already satisfied: jsonschema-specifications>=2023.03.6 in /Users/michelpf/.pyenv/versions/3.10.13/lib/python3.10/site-packages (from jsonschema>=4.19.0->chromadb) (2023.12.1)\n",
            "Requirement already satisfied: referencing>=0.28.4 in /Users/michelpf/.pyenv/versions/3.10.13/lib/python3.10/site-packages (from jsonschema>=4.19.0->chromadb) (0.33.0)\n",
            "Requirement already satisfied: rpds-py>=0.7.1 in /Users/michelpf/.pyenv/versions/3.10.13/lib/python3.10/site-packages (from jsonschema>=4.19.0->chromadb) (0.18.0)\n",
            "Requirement already satisfied: six>=1.9.0 in /Users/michelpf/.pyenv/versions/3.10.13/lib/python3.10/site-packages (from kubernetes>=28.1.0->chromadb) (1.16.0)\n",
            "Requirement already satisfied: python-dateutil>=2.5.3 in /Users/michelpf/.pyenv/versions/3.10.13/lib/python3.10/site-packages (from kubernetes>=28.1.0->chromadb) (2.8.2)\n",
            "Collecting google-auth>=1.0.1 (from kubernetes>=28.1.0->chromadb)\n",
            "  Downloading google_auth-2.39.0-py2.py3-none-any.whl.metadata (6.2 kB)\n",
            "Requirement already satisfied: websocket-client!=0.40.0,!=0.41.*,!=0.42.*,>=0.32.0 in /Users/michelpf/.pyenv/versions/3.10.13/lib/python3.10/site-packages (from kubernetes>=28.1.0->chromadb) (1.7.0)\n",
            "Collecting requests-oauthlib (from kubernetes>=28.1.0->chromadb)\n",
            "  Downloading requests_oauthlib-2.0.0-py2.py3-none-any.whl.metadata (11 kB)\n",
            "Collecting oauthlib>=3.2.2 (from kubernetes>=28.1.0->chromadb)\n",
            "  Downloading oauthlib-3.2.2-py3-none-any.whl.metadata (7.5 kB)\n",
            "Collecting durationpy>=0.7 (from kubernetes>=28.1.0->chromadb)\n",
            "  Downloading durationpy-0.9-py3-none-any.whl.metadata (338 bytes)\n",
            "Requirement already satisfied: cachetools<6.0,>=2.0.0 in /Users/michelpf/.pyenv/versions/3.10.13/lib/python3.10/site-packages (from google-auth>=1.0.1->kubernetes>=28.1.0->chromadb) (5.4.0)\n",
            "Collecting pyasn1-modules>=0.2.1 (from google-auth>=1.0.1->kubernetes>=28.1.0->chromadb)\n",
            "  Downloading pyasn1_modules-0.4.2-py3-none-any.whl.metadata (3.5 kB)\n",
            "Collecting rsa<5,>=3.1.4 (from google-auth>=1.0.1->kubernetes>=28.1.0->chromadb)\n",
            "  Downloading rsa-4.9.1-py3-none-any.whl.metadata (5.6 kB)\n",
            "Collecting pyasn1>=0.1.3 (from rsa<5,>=3.1.4->google-auth>=1.0.1->kubernetes>=28.1.0->chromadb)\n",
            "  Downloading pyasn1-0.6.1-py3-none-any.whl.metadata (8.4 kB)\n",
            "Collecting coloredlogs (from onnxruntime>=1.14.1->chromadb)\n",
            "  Downloading coloredlogs-15.0.1-py2.py3-none-any.whl.metadata (12 kB)\n",
            "Requirement already satisfied: flatbuffers in /Users/michelpf/.pyenv/versions/3.10.13/lib/python3.10/site-packages (from onnxruntime>=1.14.1->chromadb) (24.3.25)\n",
            "Requirement already satisfied: protobuf in /Users/michelpf/.pyenv/versions/3.10.13/lib/python3.10/site-packages (from onnxruntime>=1.14.1->chromadb) (4.25.4)\n",
            "Collecting sympy (from onnxruntime>=1.14.1->chromadb)\n",
            "  Downloading sympy-1.14.0-py3-none-any.whl.metadata (12 kB)\n",
            "Collecting deprecated>=1.2.6 (from opentelemetry-api>=1.2.0->chromadb)\n",
            "  Downloading Deprecated-1.2.18-py2.py3-none-any.whl.metadata (5.7 kB)\n",
            "Requirement already satisfied: importlib-metadata<8.7.0,>=6.0 in /Users/michelpf/.pyenv/versions/3.10.13/lib/python3.10/site-packages (from opentelemetry-api>=1.2.0->chromadb) (7.2.1)\n",
            "Requirement already satisfied: zipp>=0.5 in /Users/michelpf/.pyenv/versions/3.10.13/lib/python3.10/site-packages (from importlib-metadata<8.7.0,>=6.0->opentelemetry-api>=1.2.0->chromadb) (3.21.0)\n",
            "Requirement already satisfied: wrapt<2,>=1.10 in /Users/michelpf/.pyenv/versions/3.10.13/lib/python3.10/site-packages (from deprecated>=1.2.6->opentelemetry-api>=1.2.0->chromadb) (1.16.0)\n",
            "Collecting googleapis-common-protos~=1.52 (from opentelemetry-exporter-otlp-proto-grpc>=1.2.0->chromadb)\n",
            "  Downloading googleapis_common_protos-1.70.0-py3-none-any.whl.metadata (9.3 kB)\n",
            "Collecting opentelemetry-exporter-otlp-proto-common==1.32.1 (from opentelemetry-exporter-otlp-proto-grpc>=1.2.0->chromadb)\n",
            "  Downloading opentelemetry_exporter_otlp_proto_common-1.32.1-py3-none-any.whl.metadata (1.9 kB)\n",
            "Collecting opentelemetry-proto==1.32.1 (from opentelemetry-exporter-otlp-proto-grpc>=1.2.0->chromadb)\n",
            "  Downloading opentelemetry_proto-1.32.1-py3-none-any.whl.metadata (2.4 kB)\n",
            "Collecting protobuf (from onnxruntime>=1.14.1->chromadb)\n",
            "  Downloading protobuf-5.29.4-cp38-abi3-macosx_10_9_universal2.whl.metadata (592 bytes)\n",
            "Collecting opentelemetry-semantic-conventions==0.53b1 (from opentelemetry-sdk>=1.2.0->chromadb)\n",
            "  Downloading opentelemetry_semantic_conventions-0.53b1-py3-none-any.whl.metadata (2.5 kB)\n",
            "Collecting opentelemetry-instrumentation-asgi==0.53b1 (from opentelemetry-instrumentation-fastapi>=0.41b0->chromadb)\n",
            "  Downloading opentelemetry_instrumentation_asgi-0.53b1-py3-none-any.whl.metadata (2.1 kB)\n",
            "Collecting opentelemetry-instrumentation==0.53b1 (from opentelemetry-instrumentation-fastapi>=0.41b0->chromadb)\n",
            "  Downloading opentelemetry_instrumentation-0.53b1-py3-none-any.whl.metadata (6.8 kB)\n",
            "Collecting opentelemetry-util-http==0.53b1 (from opentelemetry-instrumentation-fastapi>=0.41b0->chromadb)\n",
            "  Downloading opentelemetry_util_http-0.53b1-py3-none-any.whl.metadata (2.6 kB)\n",
            "Collecting asgiref~=3.0 (from opentelemetry-instrumentation-asgi==0.53b1->opentelemetry-instrumentation-fastapi>=0.41b0->chromadb)\n",
            "  Downloading asgiref-3.8.1-py3-none-any.whl.metadata (9.3 kB)\n",
            "Collecting backoff>=1.10.0 (from posthog>=2.4.0->chromadb)\n",
            "  Downloading backoff-2.2.1-py3-none-any.whl.metadata (14 kB)\n",
            "Requirement already satisfied: markdown-it-py>=2.2.0 in /Users/michelpf/.pyenv/versions/3.10.13/lib/python3.10/site-packages (from rich>=13.1.0->docarray) (3.0.0)\n",
            "Requirement already satisfied: pygments<3.0.0,>=2.13.0 in /Users/michelpf/.pyenv/versions/3.10.13/lib/python3.10/site-packages (from rich>=13.1.0->docarray) (2.17.2)\n",
            "Requirement already satisfied: mdurl~=0.1 in /Users/michelpf/.pyenv/versions/3.10.13/lib/python3.10/site-packages (from markdown-it-py>=2.2.0->rich>=13.1.0->docarray) (0.1.2)\n",
            "Collecting huggingface-hub<1.0,>=0.16.4 (from tokenizers>=0.13.2->chromadb)\n",
            "  Downloading huggingface_hub-0.30.2-py3-none-any.whl.metadata (13 kB)\n",
            "Requirement already satisfied: filelock in /Users/michelpf/.pyenv/versions/3.10.13/lib/python3.10/site-packages (from huggingface-hub<1.0,>=0.16.4->tokenizers>=0.13.2->chromadb) (3.13.1)\n",
            "Requirement already satisfied: fsspec>=2023.5.0 in /Users/michelpf/.pyenv/versions/3.10.13/lib/python3.10/site-packages (from huggingface-hub<1.0,>=0.16.4->tokenizers>=0.13.2->chromadb) (2024.2.0)\n",
            "Requirement already satisfied: click<9.0.0,>=7.1.1 in /Users/michelpf/.pyenv/versions/3.10.13/lib/python3.10/site-packages (from typer>=0.9.0->chromadb) (8.1.7)\n",
            "Collecting httptools>=0.6.3 (from uvicorn[standard]>=0.18.3->chromadb)\n",
            "  Downloading httptools-0.6.4-cp310-cp310-macosx_11_0_arm64.whl.metadata (3.6 kB)\n",
            "Collecting uvloop!=0.15.0,!=0.15.1,>=0.14.0 (from uvicorn[standard]>=0.18.3->chromadb)\n",
            "  Downloading uvloop-0.21.0-cp310-cp310-macosx_10_9_universal2.whl.metadata (4.9 kB)\n",
            "Collecting watchfiles>=0.13 (from uvicorn[standard]>=0.18.3->chromadb)\n",
            "  Downloading watchfiles-1.0.5-cp310-cp310-macosx_11_0_arm64.whl.metadata (4.9 kB)\n",
            "Collecting websockets>=10.4 (from uvicorn[standard]>=0.18.3->chromadb)\n",
            "  Downloading websockets-15.0.1-cp310-cp310-macosx_11_0_arm64.whl.metadata (6.8 kB)\n",
            "Requirement already satisfied: soupsieve>1.2 in /Users/michelpf/.pyenv/versions/3.10.13/lib/python3.10/site-packages (from beautifulsoup4->wikipedia) (2.5)\n",
            "Collecting humanfriendly>=9.1 (from coloredlogs->onnxruntime>=1.14.1->chromadb)\n",
            "  Downloading humanfriendly-10.0-py2.py3-none-any.whl.metadata (9.2 kB)\n",
            "Collecting mpmath<1.4,>=1.1.0 (from sympy->onnxruntime>=1.14.1->chromadb)\n",
            "  Downloading mpmath-1.3.0-py3-none-any.whl.metadata (8.6 kB)\n",
            "Downloading chromadb-1.0.7-cp39-abi3-macosx_11_0_arm64.whl (16.9 MB)\n",
            "\u001b[2K   \u001b[90m━━━━━━━━━━━━━━━━━━━━━━━━━━━━━━━━━━━━━━━━\u001b[0m \u001b[32m16.9/16.9 MB\u001b[0m \u001b[31m10.7 MB/s\u001b[0m eta \u001b[36m0:00:00\u001b[0ma \u001b[36m0:00:01\u001b[0m\n",
            "\u001b[?25hDownloading chroma_hnswlib-0.7.6-cp310-cp310-macosx_11_0_arm64.whl (183 kB)\n",
            "Downloading fastapi-0.115.9-py3-none-any.whl (94 kB)\n",
            "Downloading starlette-0.45.3-py3-none-any.whl (71 kB)\n",
            "Downloading bcrypt-4.3.0-cp39-abi3-macosx_10_12_universal2.whl (498 kB)\n",
            "Downloading build-1.2.2.post1-py3-none-any.whl (22 kB)\n",
            "Downloading kubernetes-32.0.1-py2.py3-none-any.whl (2.0 MB)\n",
            "\u001b[2K   \u001b[90m━━━━━━━━━━━━━━━━━━━━━━━━━━━━━━━━━━━━━━━━\u001b[0m \u001b[32m2.0/2.0 MB\u001b[0m \u001b[31m11.6 MB/s\u001b[0m eta \u001b[36m0:00:00\u001b[0m\n",
            "\u001b[?25hDownloading durationpy-0.9-py3-none-any.whl (3.5 kB)\n",
            "Downloading google_auth-2.39.0-py2.py3-none-any.whl (212 kB)\n",
            "Downloading rsa-4.9.1-py3-none-any.whl (34 kB)\n",
            "Downloading mmh3-5.1.0-cp310-cp310-macosx_11_0_arm64.whl (40 kB)\n",
            "Downloading oauthlib-3.2.2-py3-none-any.whl (151 kB)\n",
            "Downloading onnxruntime-1.21.1-cp310-cp310-macosx_13_0_universal2.whl (33.6 MB)\n",
            "\u001b[2K   \u001b[90m━━━━━━━━━━━━━━━━━━━━━━━━━━━━━━━━━━━━━━━━\u001b[0m \u001b[32m33.6/33.6 MB\u001b[0m \u001b[31m7.9 MB/s\u001b[0m eta \u001b[36m0:00:00\u001b[0m00:01\u001b[0m00:01\u001b[0m\n",
            "\u001b[?25hDownloading opentelemetry_api-1.32.1-py3-none-any.whl (65 kB)\n",
            "Downloading Deprecated-1.2.18-py2.py3-none-any.whl (10.0 kB)\n",
            "Downloading opentelemetry_exporter_otlp_proto_grpc-1.32.1-py3-none-any.whl (18 kB)\n",
            "Downloading opentelemetry_exporter_otlp_proto_common-1.32.1-py3-none-any.whl (18 kB)\n",
            "Downloading opentelemetry_proto-1.32.1-py3-none-any.whl (55 kB)\n",
            "Downloading googleapis_common_protos-1.70.0-py3-none-any.whl (294 kB)\n",
            "Downloading opentelemetry_sdk-1.32.1-py3-none-any.whl (118 kB)\n",
            "Downloading opentelemetry_semantic_conventions-0.53b1-py3-none-any.whl (188 kB)\n",
            "Downloading protobuf-5.29.4-cp38-abi3-macosx_10_9_universal2.whl (417 kB)\n",
            "Downloading opentelemetry_instrumentation_fastapi-0.53b1-py3-none-any.whl (12 kB)\n",
            "Downloading opentelemetry_instrumentation-0.53b1-py3-none-any.whl (30 kB)\n",
            "Downloading opentelemetry_instrumentation_asgi-0.53b1-py3-none-any.whl (16 kB)\n",
            "Downloading opentelemetry_util_http-0.53b1-py3-none-any.whl (7.3 kB)\n",
            "Downloading asgiref-3.8.1-py3-none-any.whl (23 kB)\n",
            "Downloading posthog-4.0.1-py2.py3-none-any.whl (92 kB)\n",
            "Downloading backoff-2.2.1-py3-none-any.whl (15 kB)\n",
            "Downloading pyasn1-0.6.1-py3-none-any.whl (83 kB)\n",
            "Downloading pyasn1_modules-0.4.2-py3-none-any.whl (181 kB)\n",
            "Downloading tokenizers-0.21.1-cp39-abi3-macosx_11_0_arm64.whl (2.7 MB)\n",
            "\u001b[2K   \u001b[90m━━━━━━━━━━━━━━━━━━━━━━━━━━━━━━━━━━━━━━━━\u001b[0m \u001b[32m2.7/2.7 MB\u001b[0m \u001b[31m8.0 MB/s\u001b[0m eta \u001b[36m0:00:00\u001b[0ma \u001b[36m0:00:01\u001b[0m\n",
            "\u001b[?25hDownloading huggingface_hub-0.30.2-py3-none-any.whl (481 kB)\n",
            "Downloading uvicorn-0.34.2-py3-none-any.whl (62 kB)\n",
            "Downloading httptools-0.6.4-cp310-cp310-macosx_11_0_arm64.whl (103 kB)\n",
            "Downloading uvloop-0.21.0-cp310-cp310-macosx_10_9_universal2.whl (1.4 MB)\n",
            "\u001b[2K   \u001b[90m━━━━━━━━━━━━━━━━━━━━━━━━━━━━━━━━━━━━━━━━\u001b[0m \u001b[32m1.4/1.4 MB\u001b[0m \u001b[31m7.1 MB/s\u001b[0m eta \u001b[36m0:00:00\u001b[0m\n",
            "\u001b[?25hDownloading watchfiles-1.0.5-cp310-cp310-macosx_11_0_arm64.whl (395 kB)\n",
            "Downloading websockets-15.0.1-cp310-cp310-macosx_11_0_arm64.whl (173 kB)\n",
            "Downloading coloredlogs-15.0.1-py2.py3-none-any.whl (46 kB)\n",
            "Downloading humanfriendly-10.0-py2.py3-none-any.whl (86 kB)\n",
            "Downloading importlib_resources-6.5.2-py3-none-any.whl (37 kB)\n",
            "Downloading pyproject_hooks-1.2.0-py3-none-any.whl (10 kB)\n",
            "Downloading requests_oauthlib-2.0.0-py2.py3-none-any.whl (24 kB)\n",
            "Downloading sympy-1.14.0-py3-none-any.whl (6.3 MB)\n",
            "\u001b[2K   \u001b[90m━━━━━━━━━━━━━━━━━━━━━━━━━━━━━━━━━━━━━━━━\u001b[0m \u001b[32m6.3/6.3 MB\u001b[0m \u001b[31m9.6 MB/s\u001b[0m eta \u001b[36m0:00:00\u001b[0ma \u001b[36m0:00:01\u001b[0mm\n",
            "\u001b[?25hDownloading mpmath-1.3.0-py3-none-any.whl (536 kB)\n",
            "\u001b[2K   \u001b[90m━━━━━━━━━━━━━━━━━━━━━━━━━━━━━━━━━━━━━━━━\u001b[0m \u001b[32m536.2/536.2 kB\u001b[0m \u001b[31m9.6 MB/s\u001b[0m eta \u001b[36m0:00:00\u001b[0m\n",
            "\u001b[?25hBuilding wheels for collected packages: pypika\n",
            "  Building wheel for pypika (pyproject.toml) ... \u001b[?25ldone\n",
            "\u001b[?25h  Created wheel for pypika: filename=pypika-0.48.9-py2.py3-none-any.whl size=53800 sha256=28ee388aa1f64c5ef6f29aa61524fc29da452268f15fc38138d994eb0eac6d69\n",
            "  Stored in directory: /Users/michelpf/Library/Caches/pip/wheels/e1/26/51/d0bffb3d2fd82256676d7ad3003faea3bd6dddc9577af665f4\n",
            "Successfully built pypika\n",
            "Installing collected packages: pypika, mpmath, durationpy, websockets, uvloop, uvicorn, sympy, pyproject_hooks, pyasn1, protobuf, opentelemetry-util-http, oauthlib, mmh3, importlib-resources, humanfriendly, httptools, deprecated, chroma-hnswlib, bcrypt, backoff, asgiref, watchfiles, starlette, rsa, requests-oauthlib, pyasn1-modules, posthog, opentelemetry-proto, opentelemetry-api, huggingface-hub, googleapis-common-protos, coloredlogs, build, tokenizers, opentelemetry-semantic-conventions, opentelemetry-exporter-otlp-proto-common, onnxruntime, google-auth, fastapi, opentelemetry-sdk, opentelemetry-instrumentation, kubernetes, opentelemetry-instrumentation-asgi, opentelemetry-exporter-otlp-proto-grpc, opentelemetry-instrumentation-fastapi, chromadb\n",
            "\u001b[2K  Attempting uninstall: protobuf━━━━━━━━━━━━━━━━━━━━━━━━━━━━━━━━━━\u001b[0m \u001b[32m 6/46\u001b[0m [sympy]\n",
            "\u001b[2K    Found existing installation: protobuf 4.25.4━━━━━━━━━━━━━━\u001b[0m \u001b[32m 6/46\u001b[0m [sympy]\n",
            "\u001b[2K    Uninstalling protobuf-4.25.4:━━━━━━━━━━━━━━━━━━━━━━━━━━━━━\u001b[0m \u001b[32m 6/46\u001b[0m [sympy]\n",
            "\u001b[2K      Successfully uninstalled protobuf-4.25.4━━━━━━━━━━━━━━━━\u001b[0m \u001b[32m 6/46\u001b[0m [sympy]\n",
            "\u001b[2K   \u001b[90m━━━━━━━━━━━━━━━━━━━━━━━━━━━━━━━━━━━━━━━━\u001b[0m \u001b[32m46/46\u001b[0m [chromadb]chromadb]lemetry-instrumentation-asgi]\n",
            "\u001b[1A\u001b[2K\u001b[31mERROR: pip's dependency resolver does not currently take into account all the packages that are installed. This behaviour is the source of the following dependency conflicts.\n",
            "streamlit 1.30.0 requires numpy<2,>=1.19.3, but you have numpy 2.2.5 which is incompatible.\n",
            "streamlit 1.30.0 requires protobuf<5,>=3.20, but you have protobuf 5.29.4 which is incompatible.\n",
            "tensorboard 2.17.0 requires protobuf!=4.24.0,<5.0.0,>=3.19.6, but you have protobuf 5.29.4 which is incompatible.\n",
            "tensorflow 2.17.0 requires numpy<2.0.0,>=1.23.5; python_version <= \"3.11\", but you have numpy 2.2.5 which is incompatible.\n",
            "tensorflow 2.17.0 requires protobuf!=4.21.0,!=4.21.1,!=4.21.2,!=4.21.3,!=4.21.4,!=4.21.5,<5.0.0dev,>=3.20.3, but you have protobuf 5.29.4 which is incompatible.\u001b[0m\u001b[31m\n",
            "\u001b[0mSuccessfully installed asgiref-3.8.1 backoff-2.2.1 bcrypt-4.3.0 build-1.2.2.post1 chroma-hnswlib-0.7.6 chromadb-1.0.7 coloredlogs-15.0.1 deprecated-1.2.18 durationpy-0.9 fastapi-0.115.9 google-auth-2.39.0 googleapis-common-protos-1.70.0 httptools-0.6.4 huggingface-hub-0.30.2 humanfriendly-10.0 importlib-resources-6.5.2 kubernetes-32.0.1 mmh3-5.1.0 mpmath-1.3.0 oauthlib-3.2.2 onnxruntime-1.21.1 opentelemetry-api-1.32.1 opentelemetry-exporter-otlp-proto-common-1.32.1 opentelemetry-exporter-otlp-proto-grpc-1.32.1 opentelemetry-instrumentation-0.53b1 opentelemetry-instrumentation-asgi-0.53b1 opentelemetry-instrumentation-fastapi-0.53b1 opentelemetry-proto-1.32.1 opentelemetry-sdk-1.32.1 opentelemetry-semantic-conventions-0.53b1 opentelemetry-util-http-0.53b1 posthog-4.0.1 protobuf-5.29.4 pyasn1-0.6.1 pyasn1-modules-0.4.2 pypika-0.48.9 pyproject_hooks-1.2.0 requests-oauthlib-2.0.0 rsa-4.9.1 starlette-0.45.3 sympy-1.14.0 tokenizers-0.21.1 uvicorn-0.34.2 uvloop-0.21.0 watchfiles-1.0.5 websockets-15.0.1\n"
          ]
        }
      ],
      "source": [
        "!pip install openai langchain-community langchain-core langchain tiktoken docarray wikipedia xmltodict langchain-openai chromadb"
      ]
    },
    {
      "cell_type": "code",
      "execution_count": 1,
      "metadata": {
        "id": "tTUcVshkNC3a"
      },
      "outputs": [],
      "source": [
        "import os\n",
        "from openai import OpenAI\n",
        "import langchain\n",
        "from IPython.display import display, Markdown as display_markdown\n",
        "import json\n",
        "import pandas as pd"
      ]
    },
    {
      "cell_type": "markdown",
      "metadata": {
        "id": "OvjQBB7JpSZV"
      },
      "source": [
        "# Modelos de base"
      ]
    },
    {
      "cell_type": "markdown",
      "metadata": {
        "id": "MsoCMkkDpSZW"
      },
      "source": [
        "## OpenAI\n",
        "\n",
        "Inscreva-se no [site](www.openai.com) para obter uma chave de API. No registro você terá 30 dias de uso gratuito.\n",
        "Para experimentações pequenas o custo é baixo. Avalie com cuidado ao lançar uma aplicação em produção para incluir limites máximos de gastos."
      ]
    },
    {
      "cell_type": "code",
      "execution_count": 187,
      "metadata": {
        "id": "GBOPJ5xHpSZW"
      },
      "outputs": [],
      "source": [
        "os.environ[\"OPENAI_API_KEY\"] = \"CHAVE\""
      ]
    },
    {
      "cell_type": "markdown",
      "metadata": {
        "id": "zxXyxVc2pSZX"
      },
      "source": [
        "Utilizaremos o modelo fundacional do ChatGPT 4.1 mini é ```gpt-4.1-mini``` conforme [documentação](https://platform.openai.com/docs/models/gpt-4.1-mini). Sempre revise a documentação pois os modelos podem se tornar obsoletos para a entrada de outros mais novos."
      ]
    },
    {
      "cell_type": "markdown",
      "metadata": {
        "id": "-0vbY_b3pSZX"
      },
      "source": [
        "## Chat Completion\n",
        "\n",
        "Permite criar prompts que conversam com o modelo selecionado. Por meio de roles definidas, podemos criar um prompt mais completo, especificando:\n",
        "\n",
        "1. ```System```: papel de sistema, ajuda na formatação do tipo de resposta e de como o modelo deve se comportar. Definimos com esse papel aspectos de entrada e saída.\n",
        "2. ```User```: papel de usuário, neste caso é a informação desejada pelo usuário, que vai seguir as regras definidas no papel anteriormente definido.\n",
        "2. ```Assistant```: papel de assistente virtual (próprio modelo). Neste caso serve para definir um aspecto de memória."
      ]
    },
    {
      "cell_type": "code",
      "execution_count": 3,
      "metadata": {
        "id": "-W3smf74sqVm"
      },
      "outputs": [],
      "source": [
        "client = OpenAI(\n",
        "    api_key=os.environ.get(\"OPENAI_API_KEY\"),\n",
        ")"
      ]
    },
    {
      "cell_type": "code",
      "execution_count": 4,
      "metadata": {
        "id": "7jRR5Yg6pSZX"
      },
      "outputs": [],
      "source": [
        "model = \"gpt-4.1-mini\""
      ]
    },
    {
      "cell_type": "code",
      "execution_count": 5,
      "metadata": {
        "id": "zkZRqY7zpSZY"
      },
      "outputs": [],
      "source": [
        "messages=[\n",
        "        {\"role\": \"system\", \"content\": \"Você é um professor de visão computacional que leciona para crianças de até 10 anos.\"},\n",
        "        {\"role\": \"user\", \"content\": \"Como funciona um detector de bordas de Canny, de forma bem resumida?\"},\n",
        "        {\"role\": \"system\", \"content\": \"O resultado precisa ser formatado como Markdown.\"}\n",
        "    ]"
      ]
    },
    {
      "cell_type": "code",
      "execution_count": 6,
      "metadata": {
        "colab": {
          "base_uri": "https://localhost:8080/"
        },
        "id": "sAhC8mg4pSZY",
        "outputId": "de50722d-7617-4e31-c349-05a40853a3e4"
      },
      "outputs": [
        {
          "data": {
            "text/plain": [
              "ChatCompletion(id='chatcmpl-BSZS0IeAmp98xvnD0yLwbEYmIG8hJ', choices=[Choice(finish_reason='stop', index=0, logprobs=None, message=ChatCompletionMessage(content='Claro! Aqui vai uma explicação bem simples sobre o detector de bordas de Canny:\\n\\n---\\n\\n# Detector de Bordas de Canny (Explicação para crianças)\\n\\nImagina que você tem um desenho e quer encontrar onde as linhas começam e terminam. O detector de bordas de Canny é como um superdetetive que ajuda o computador a achar essas linhas no desenho.\\n\\nEle faz isso em 4 passos:\\n\\n1. **Deixar o desenho mais suave**: Apaga um pouco os detalhes para não confundir.\\n2. **Encontrar mudanças fortes**: Procura onde a cor ou o brilho muda bastante, porque isso pode ser uma borda.\\n3. **Achar as bordas mais importantes**: Decide quais mudanças são realmente bordas e quais são só barulho.\\n4. **Conectar as bordas**: Junta as partes das linhas para formar bordas completas.\\n\\nAssim, o computador consegue ver as linhas do desenho, igual a gente!\\n\\n---\\n\\nSe quiser, posso explicar mais! 😊', refusal=None, role='assistant', annotations=[], audio=None, function_call=None, tool_calls=None))], created=1746149156, model='gpt-4.1-mini-2025-04-14', object='chat.completion', service_tier='default', system_fingerprint='fp_79b79be41f', usage=CompletionUsage(completion_tokens=209, prompt_tokens=61, total_tokens=270, completion_tokens_details=CompletionTokensDetails(accepted_prediction_tokens=0, audio_tokens=0, reasoning_tokens=0, rejected_prediction_tokens=0), prompt_tokens_details=PromptTokensDetails(audio_tokens=0, cached_tokens=0)))"
            ]
          },
          "execution_count": 6,
          "metadata": {},
          "output_type": "execute_result"
        }
      ],
      "source": [
        "response = client.chat.completions.create(\n",
        "    model=model,\n",
        "    messages=messages,\n",
        "    temperature=0,\n",
        ")\n",
        "response"
      ]
    },
    {
      "cell_type": "code",
      "execution_count": 7,
      "metadata": {
        "colab": {
          "base_uri": "https://localhost:8080/",
          "height": 122
        },
        "id": "Cn77FZKgtHOG",
        "outputId": "8972e70a-bc98-48dd-e86c-62d8116aa6d8"
      },
      "outputs": [
        {
          "data": {
            "text/plain": [
              "'Claro! Aqui vai uma explicação bem simples sobre o detector de bordas de Canny:\\n\\n---\\n\\n# Detector de Bordas de Canny (Explicação para crianças)\\n\\nImagina que você tem um desenho e quer encontrar onde as linhas começam e terminam. O detector de bordas de Canny é como um superdetetive que ajuda o computador a achar essas linhas no desenho.\\n\\nEle faz isso em 4 passos:\\n\\n1. **Deixar o desenho mais suave**: Apaga um pouco os detalhes para não confundir.\\n2. **Encontrar mudanças fortes**: Procura onde a cor ou o brilho muda bastante, porque isso pode ser uma borda.\\n3. **Achar as bordas mais importantes**: Decide quais mudanças são realmente bordas e quais são só barulho.\\n4. **Conectar as bordas**: Junta as partes das linhas para formar bordas completas.\\n\\nAssim, o computador consegue ver as linhas do desenho, igual a gente!\\n\\n---\\n\\nSe quiser, posso explicar mais! 😊'"
            ]
          },
          "execution_count": 7,
          "metadata": {},
          "output_type": "execute_result"
        }
      ],
      "source": [
        "response.choices[0].message.content"
      ]
    },
    {
      "cell_type": "code",
      "execution_count": 8,
      "metadata": {
        "colab": {
          "base_uri": "https://localhost:8080/",
          "height": 172
        },
        "id": "4WpVE5FUpSZZ",
        "outputId": "8f6c2052-d12c-4e1b-8868-9fb8b7184a0f"
      },
      "outputs": [
        {
          "data": {
            "text/markdown": [
              "Claro! Aqui vai uma explicação bem simples sobre o detector de bordas de Canny:\n",
              "\n",
              "---\n",
              "\n",
              "# Detector de Bordas de Canny (Explicação para crianças)\n",
              "\n",
              "Imagina que você tem um desenho e quer encontrar onde as linhas começam e terminam. O detector de bordas de Canny é como um superdetetive que ajuda o computador a achar essas linhas no desenho.\n",
              "\n",
              "Ele faz isso em 4 passos:\n",
              "\n",
              "1. **Deixar o desenho mais suave**: Apaga um pouco os detalhes para não confundir.\n",
              "2. **Encontrar mudanças fortes**: Procura onde a cor ou o brilho muda bastante, porque isso pode ser uma borda.\n",
              "3. **Achar as bordas mais importantes**: Decide quais mudanças são realmente bordas e quais são só barulho.\n",
              "4. **Conectar as bordas**: Junta as partes das linhas para formar bordas completas.\n",
              "\n",
              "Assim, o computador consegue ver as linhas do desenho, igual a gente!\n",
              "\n",
              "---\n",
              "\n",
              "Se quiser, posso explicar mais! 😊"
            ],
            "text/plain": [
              "<IPython.core.display.Markdown object>"
            ]
          },
          "execution_count": 8,
          "metadata": {},
          "output_type": "execute_result"
        }
      ],
      "source": [
        "display_markdown(response.choices[0].message.content)"
      ]
    },
    {
      "cell_type": "code",
      "execution_count": 9,
      "metadata": {
        "id": "msKqv7COpSZZ"
      },
      "outputs": [],
      "source": [
        "messages=[\n",
        "        {\"role\": \"system\", \"content\": \"Você é um sistema que extrai 2 informações de um texto, primeiro se a frase for um elogio deverá armazenar is_compliment=True\"},\n",
        "        {\"role\": \"system\", \"content\": \"Indique qual o elogio em uma variável compliment, por exemplo em 'A pessoa é bonita', is_compliment=True e compliment='bonita'. \"},\n",
        "        {\"role\": \"user\", \"content\": \"Os carros elétricos são incríveis.\"},\n",
        "        {\"role\": \"system\", \"content\": \"O resultado precisa ser formatado como JSON.\"}\n",
        "    ]"
      ]
    },
    {
      "cell_type": "code",
      "execution_count": 10,
      "metadata": {
        "colab": {
          "base_uri": "https://localhost:8080/"
        },
        "id": "laS2GtncpSZZ",
        "outputId": "e15d6593-aa1a-47f1-f2dd-3a3b6ac8c858"
      },
      "outputs": [
        {
          "data": {
            "text/plain": [
              "ChatCompletion(id='chatcmpl-BSZS9yma4mrBhmNJIgM2s1HRWbG9T', choices=[Choice(finish_reason='stop', index=0, logprobs=None, message=ChatCompletionMessage(content='{\\n  \"is_compliment\": true,\\n  \"compliment\": \"incríveis\"\\n}', refusal=None, role='assistant', annotations=[], audio=None, function_call=None, tool_calls=None))], created=1746149165, model='gpt-4.1-mini-2025-04-14', object='chat.completion', service_tier='default', system_fingerprint='fp_79b79be41f', usage=CompletionUsage(completion_tokens=22, prompt_tokens=97, total_tokens=119, completion_tokens_details=CompletionTokensDetails(accepted_prediction_tokens=0, audio_tokens=0, reasoning_tokens=0, rejected_prediction_tokens=0), prompt_tokens_details=PromptTokensDetails(audio_tokens=0, cached_tokens=0)))"
            ]
          },
          "execution_count": 10,
          "metadata": {},
          "output_type": "execute_result"
        }
      ],
      "source": [
        "response = client.chat.completions.create(\n",
        "    model=model,\n",
        "    messages=messages,\n",
        "    temperature=0,\n",
        ")\n",
        "response"
      ]
    },
    {
      "cell_type": "code",
      "execution_count": 11,
      "metadata": {
        "colab": {
          "base_uri": "https://localhost:8080/",
          "height": 36
        },
        "id": "sCrp5kPFpSZa",
        "outputId": "63cf363b-519b-40de-f0a8-4efc87861ca1"
      },
      "outputs": [
        {
          "data": {
            "text/plain": [
              "'{\\n  \"is_compliment\": true,\\n  \"compliment\": \"incríveis\"\\n}'"
            ]
          },
          "execution_count": 11,
          "metadata": {},
          "output_type": "execute_result"
        }
      ],
      "source": [
        "response.choices[0].message.content"
      ]
    },
    {
      "cell_type": "code",
      "execution_count": 12,
      "metadata": {
        "colab": {
          "base_uri": "https://localhost:8080/"
        },
        "id": "Z2uzN-xVpSZa",
        "outputId": "a16b9497-af2a-4258-d3c3-bcd57a21fbfc"
      },
      "outputs": [
        {
          "data": {
            "text/plain": [
              "{'is_compliment': True, 'compliment': 'incríveis'}"
            ]
          },
          "execution_count": 12,
          "metadata": {},
          "output_type": "execute_result"
        }
      ],
      "source": [
        "result = json.loads(response.choices[0].message.content)\n",
        "result"
      ]
    },
    {
      "cell_type": "markdown",
      "metadata": {
        "id": "uvv8_BoMNLlx"
      },
      "source": [
        "# Langchain"
      ]
    },
    {
      "cell_type": "markdown",
      "metadata": {
        "id": "xlo8cQW1ytQk"
      },
      "source": [
        "É um framework com foco em integrar diferentes _foundationals model_, dentre eles o GPT (da OpenAI), Bard (do Google), WatsonX (da IBM) e outros mais. cada modelo e plataformas tem algumas particularidades, mas há um bom espaço para abstrações. É nesse nicho que o framework faz o seu papel de utilizar componentes e serviços comum a todos os modelos como encadeamento de ações, memória, acesso e dados externos e utilização de agentes."
      ]
    },
    {
      "cell_type": "code",
      "execution_count": 14,
      "metadata": {},
      "outputs": [
        {
          "name": "stdout",
          "output_type": "stream",
          "text": [
            "Collecting langchain_openai\n",
            "  Downloading langchain_openai-0.3.15-py3-none-any.whl.metadata (2.3 kB)\n",
            "Requirement already satisfied: langchain-core<1.0.0,>=0.3.56 in /Users/michelpf/.pyenv/versions/3.10.13/lib/python3.10/site-packages (from langchain_openai) (0.3.56)\n",
            "Requirement already satisfied: openai<2.0.0,>=1.68.2 in /Users/michelpf/.pyenv/versions/3.10.13/lib/python3.10/site-packages (from langchain_openai) (1.76.2)\n",
            "Requirement already satisfied: tiktoken<1,>=0.7 in /Users/michelpf/.pyenv/versions/3.10.13/lib/python3.10/site-packages (from langchain_openai) (0.9.0)\n",
            "Requirement already satisfied: langsmith<0.4,>=0.1.125 in /Users/michelpf/.pyenv/versions/3.10.13/lib/python3.10/site-packages (from langchain-core<1.0.0,>=0.3.56->langchain_openai) (0.3.39)\n",
            "Requirement already satisfied: tenacity!=8.4.0,<10.0.0,>=8.1.0 in /Users/michelpf/.pyenv/versions/3.10.13/lib/python3.10/site-packages (from langchain-core<1.0.0,>=0.3.56->langchain_openai) (8.5.0)\n",
            "Requirement already satisfied: jsonpatch<2.0,>=1.33 in /Users/michelpf/.pyenv/versions/3.10.13/lib/python3.10/site-packages (from langchain-core<1.0.0,>=0.3.56->langchain_openai) (1.33)\n",
            "Requirement already satisfied: PyYAML>=5.3 in /Users/michelpf/.pyenv/versions/3.10.13/lib/python3.10/site-packages (from langchain-core<1.0.0,>=0.3.56->langchain_openai) (6.0.1)\n",
            "Requirement already satisfied: packaging<25,>=23.2 in /Users/michelpf/.pyenv/versions/3.10.13/lib/python3.10/site-packages (from langchain-core<1.0.0,>=0.3.56->langchain_openai) (23.2)\n",
            "Requirement already satisfied: typing-extensions>=4.7 in /Users/michelpf/.pyenv/versions/3.10.13/lib/python3.10/site-packages (from langchain-core<1.0.0,>=0.3.56->langchain_openai) (4.13.2)\n",
            "Requirement already satisfied: pydantic<3.0.0,>=2.5.2 in /Users/michelpf/.pyenv/versions/3.10.13/lib/python3.10/site-packages (from langchain-core<1.0.0,>=0.3.56->langchain_openai) (2.11.4)\n",
            "Requirement already satisfied: jsonpointer>=1.9 in /Users/michelpf/.pyenv/versions/3.10.13/lib/python3.10/site-packages (from jsonpatch<2.0,>=1.33->langchain-core<1.0.0,>=0.3.56->langchain_openai) (2.4)\n",
            "Requirement already satisfied: httpx<1,>=0.23.0 in /Users/michelpf/.pyenv/versions/3.10.13/lib/python3.10/site-packages (from langsmith<0.4,>=0.1.125->langchain-core<1.0.0,>=0.3.56->langchain_openai) (0.27.0)\n",
            "Requirement already satisfied: orjson<4.0.0,>=3.9.14 in /Users/michelpf/.pyenv/versions/3.10.13/lib/python3.10/site-packages (from langsmith<0.4,>=0.1.125->langchain-core<1.0.0,>=0.3.56->langchain_openai) (3.9.14)\n",
            "Requirement already satisfied: requests<3,>=2 in /Users/michelpf/.pyenv/versions/3.10.13/lib/python3.10/site-packages (from langsmith<0.4,>=0.1.125->langchain-core<1.0.0,>=0.3.56->langchain_openai) (2.31.0)\n",
            "Requirement already satisfied: requests-toolbelt<2.0.0,>=1.0.0 in /Users/michelpf/.pyenv/versions/3.10.13/lib/python3.10/site-packages (from langsmith<0.4,>=0.1.125->langchain-core<1.0.0,>=0.3.56->langchain_openai) (1.0.0)\n",
            "Requirement already satisfied: zstandard<0.24.0,>=0.23.0 in /Users/michelpf/.pyenv/versions/3.10.13/lib/python3.10/site-packages (from langsmith<0.4,>=0.1.125->langchain-core<1.0.0,>=0.3.56->langchain_openai) (0.23.0)\n",
            "Requirement already satisfied: anyio in /Users/michelpf/.pyenv/versions/3.10.13/lib/python3.10/site-packages (from httpx<1,>=0.23.0->langsmith<0.4,>=0.1.125->langchain-core<1.0.0,>=0.3.56->langchain_openai) (4.3.0)\n",
            "Requirement already satisfied: certifi in /Users/michelpf/.pyenv/versions/3.10.13/lib/python3.10/site-packages (from httpx<1,>=0.23.0->langsmith<0.4,>=0.1.125->langchain-core<1.0.0,>=0.3.56->langchain_openai) (2024.2.2)\n",
            "Requirement already satisfied: httpcore==1.* in /Users/michelpf/.pyenv/versions/3.10.13/lib/python3.10/site-packages (from httpx<1,>=0.23.0->langsmith<0.4,>=0.1.125->langchain-core<1.0.0,>=0.3.56->langchain_openai) (1.0.4)\n",
            "Requirement already satisfied: idna in /Users/michelpf/.pyenv/versions/3.10.13/lib/python3.10/site-packages (from httpx<1,>=0.23.0->langsmith<0.4,>=0.1.125->langchain-core<1.0.0,>=0.3.56->langchain_openai) (3.6)\n",
            "Requirement already satisfied: sniffio in /Users/michelpf/.pyenv/versions/3.10.13/lib/python3.10/site-packages (from httpx<1,>=0.23.0->langsmith<0.4,>=0.1.125->langchain-core<1.0.0,>=0.3.56->langchain_openai) (1.3.1)\n",
            "Requirement already satisfied: h11<0.15,>=0.13 in /Users/michelpf/.pyenv/versions/3.10.13/lib/python3.10/site-packages (from httpcore==1.*->httpx<1,>=0.23.0->langsmith<0.4,>=0.1.125->langchain-core<1.0.0,>=0.3.56->langchain_openai) (0.14.0)\n",
            "Requirement already satisfied: distro<2,>=1.7.0 in /Users/michelpf/.pyenv/versions/3.10.13/lib/python3.10/site-packages (from openai<2.0.0,>=1.68.2->langchain_openai) (1.9.0)\n",
            "Requirement already satisfied: jiter<1,>=0.4.0 in /Users/michelpf/.pyenv/versions/3.10.13/lib/python3.10/site-packages (from openai<2.0.0,>=1.68.2->langchain_openai) (0.9.0)\n",
            "Requirement already satisfied: tqdm>4 in /Users/michelpf/.pyenv/versions/3.10.13/lib/python3.10/site-packages (from openai<2.0.0,>=1.68.2->langchain_openai) (4.66.2)\n",
            "Requirement already satisfied: exceptiongroup>=1.0.2 in /Users/michelpf/.pyenv/versions/3.10.13/lib/python3.10/site-packages (from anyio->httpx<1,>=0.23.0->langsmith<0.4,>=0.1.125->langchain-core<1.0.0,>=0.3.56->langchain_openai) (1.2.0)\n",
            "Requirement already satisfied: annotated-types>=0.6.0 in /Users/michelpf/.pyenv/versions/3.10.13/lib/python3.10/site-packages (from pydantic<3.0.0,>=2.5.2->langchain-core<1.0.0,>=0.3.56->langchain_openai) (0.6.0)\n",
            "Requirement already satisfied: pydantic-core==2.33.2 in /Users/michelpf/.pyenv/versions/3.10.13/lib/python3.10/site-packages (from pydantic<3.0.0,>=2.5.2->langchain-core<1.0.0,>=0.3.56->langchain_openai) (2.33.2)\n",
            "Requirement already satisfied: typing-inspection>=0.4.0 in /Users/michelpf/.pyenv/versions/3.10.13/lib/python3.10/site-packages (from pydantic<3.0.0,>=2.5.2->langchain-core<1.0.0,>=0.3.56->langchain_openai) (0.4.0)\n",
            "Requirement already satisfied: charset-normalizer<4,>=2 in /Users/michelpf/.pyenv/versions/3.10.13/lib/python3.10/site-packages (from requests<3,>=2->langsmith<0.4,>=0.1.125->langchain-core<1.0.0,>=0.3.56->langchain_openai) (3.3.2)\n",
            "Requirement already satisfied: urllib3<3,>=1.21.1 in /Users/michelpf/.pyenv/versions/3.10.13/lib/python3.10/site-packages (from requests<3,>=2->langsmith<0.4,>=0.1.125->langchain-core<1.0.0,>=0.3.56->langchain_openai) (2.0.7)\n",
            "Requirement already satisfied: regex>=2022.1.18 in /Users/michelpf/.pyenv/versions/3.10.13/lib/python3.10/site-packages (from tiktoken<1,>=0.7->langchain_openai) (2024.11.6)\n",
            "Downloading langchain_openai-0.3.15-py3-none-any.whl (62 kB)\n",
            "Installing collected packages: langchain_openai\n",
            "Successfully installed langchain_openai-0.3.15\n"
          ]
        }
      ],
      "source": [
        "!pip install langchain_openai"
      ]
    },
    {
      "cell_type": "code",
      "execution_count": 15,
      "metadata": {
        "id": "pfnFTqDCNM24"
      },
      "outputs": [],
      "source": [
        "from langchain_openai import ChatOpenAI"
      ]
    },
    {
      "cell_type": "markdown",
      "metadata": {
        "id": "vKU3gD0MpSZa"
      },
      "source": [
        "## Templates de prompt"
      ]
    },
    {
      "cell_type": "markdown",
      "metadata": {
        "id": "9wS8cBcbpSZb"
      },
      "source": [
        "Templates ajudam a criar uma forma padronizada sempre que for utilizado um determindo prompt para atividades repetitivas. Por exemplo, traduções, resumos, modificações de tom, etc.\n",
        "\n",
        "Utilizaremos nos templates parâmetros que são inseridos dentro dos prompts que trazem os dados que são dinâmicos, enquanto parte do prompt continua constante."
      ]
    },
    {
      "cell_type": "markdown",
      "metadata": {
        "id": "ZwcjrAESpSZb"
      },
      "source": [
        "A _temperatura_ do chat é o grau de criatividade dado a conversão. Quanto menor, menor menos criativo e randômico ele será, em tese diminui as possibilidades de alucinações, embora os resultados podem ficar mais simples.\n",
        "\n",
        "Vamos manter zero para extrair o máximo de informação útil, com o mínimo de ruídos."
      ]
    },
    {
      "cell_type": "code",
      "execution_count": 16,
      "metadata": {
        "colab": {
          "base_uri": "https://localhost:8080/"
        },
        "id": "5YmZskfKpSZb",
        "outputId": "573a5961-436b-4b64-cc3d-8541a5441259"
      },
      "outputs": [
        {
          "data": {
            "text/plain": [
              "ChatOpenAI(client=<openai.resources.chat.completions.completions.Completions object at 0x10ec5ff40>, async_client=<openai.resources.chat.completions.completions.AsyncCompletions object at 0x10ef06350>, root_client=<openai.OpenAI object at 0x10dadc700>, root_async_client=<openai.AsyncOpenAI object at 0x10ec5ffa0>, model_name='gpt-4.1-mini', temperature=0.0, model_kwargs={}, openai_api_key=SecretStr('**********'))"
            ]
          },
          "execution_count": 16,
          "metadata": {},
          "output_type": "execute_result"
        }
      ],
      "source": [
        "openai_chat = ChatOpenAI(temperature=0.0, model=model)\n",
        "openai_chat"
      ]
    },
    {
      "cell_type": "markdown",
      "metadata": {
        "id": "QEsky76kpSZb"
      },
      "source": [
        "Vamos criar prompts para analisar comentários de clientes de modo a toda avaliação seja excluído palavras de ofensa."
      ]
    },
    {
      "cell_type": "code",
      "execution_count": 17,
      "metadata": {
        "id": "7GSwsZ65pSZb"
      },
      "outputs": [],
      "source": [
        "style = \"\"\"\n",
        "Tom calmo, sintético e respeitoso, sem incluir nenhuma ofensa ou algo parecido.\n",
        "\"\"\""
      ]
    },
    {
      "cell_type": "code",
      "execution_count": 18,
      "metadata": {
        "id": "0dedVnO6pSZe"
      },
      "outputs": [],
      "source": [
        "template_string = \"\"\"\n",
        "Analise a revisão de cliente para que sejam resumidas em no máximo 300 caracteres.\n",
        "Utilize o seguinte estilo {style}.\n",
        "A revisão é a seguinte: {customer_review}\n",
        "\"\"\""
      ]
    },
    {
      "cell_type": "code",
      "execution_count": 19,
      "metadata": {
        "id": "fjIO6IK2pSZe"
      },
      "outputs": [],
      "source": [
        "from langchain.prompts import ChatPromptTemplate\n",
        "\n",
        "prompt_template = ChatPromptTemplate.from_template(template_string)"
      ]
    },
    {
      "cell_type": "code",
      "execution_count": 20,
      "metadata": {
        "colab": {
          "base_uri": "https://localhost:8080/"
        },
        "id": "6InwqtOwpSZf",
        "outputId": "b709e31f-6b41-44a2-a8e6-3b39107f51e6"
      },
      "outputs": [
        {
          "data": {
            "text/plain": [
              "PromptTemplate(input_variables=['customer_review', 'style'], input_types={}, partial_variables={}, template='\\nAnalise a revisão de cliente para que sejam resumidas em no máximo 300 caracteres.\\nUtilize o seguinte estilo {style}.\\nA revisão é a seguinte: {customer_review}\\n')"
            ]
          },
          "execution_count": 20,
          "metadata": {},
          "output_type": "execute_result"
        }
      ],
      "source": [
        "prompt_template.messages[0].prompt"
      ]
    },
    {
      "cell_type": "code",
      "execution_count": 21,
      "metadata": {
        "colab": {
          "base_uri": "https://localhost:8080/"
        },
        "id": "AHInW9r7pSZf",
        "outputId": "2ea5c192-03e6-45a8-cef6-d3a985a5334b"
      },
      "outputs": [
        {
          "data": {
            "text/plain": [
              "['customer_review', 'style']"
            ]
          },
          "execution_count": 21,
          "metadata": {},
          "output_type": "execute_result"
        }
      ],
      "source": [
        "prompt_template.messages[0].prompt.input_variables"
      ]
    },
    {
      "cell_type": "code",
      "execution_count": 22,
      "metadata": {
        "id": "OS24vq1JpSZf"
      },
      "outputs": [],
      "source": [
        "customer_review = \"\"\"\n",
        "Comprei um brinquedo que não presta! Utilizei todas as instruções\n",
        "mas não funcionada nada! Que droga!\n",
        "Se soubesse que fosse assim não teria comprado nessa loja ruim!!!\n",
        "\"\"\""
      ]
    },
    {
      "cell_type": "code",
      "execution_count": 23,
      "metadata": {
        "id": "vpfzVYC4pSZg"
      },
      "outputs": [],
      "source": [
        "customer_messages = prompt_template.format_messages(\n",
        "                    style=style,\n",
        "                    customer_review=customer_review)"
      ]
    },
    {
      "cell_type": "markdown",
      "metadata": {
        "id": "Zqbs2vQ9pSZg"
      },
      "source": [
        "Analisando o resultado com a avaliação de exemplo."
      ]
    },
    {
      "cell_type": "code",
      "execution_count": 25,
      "metadata": {
        "colab": {
          "base_uri": "https://localhost:8080/"
        },
        "id": "klpOOsSDpSZg",
        "outputId": "46a931f8-28f2-47ec-f90b-94c55fab95ef"
      },
      "outputs": [
        {
          "data": {
            "text/plain": [
              "[HumanMessage(content='\\nAnalise a revisão de cliente para que sejam resumidas em no máximo 300 caracteres.\\nUtilize o seguinte estilo \\nTom calmo, sintético e respeitoso, sem incluir nenhuma ofensa ou algo parecido.\\n.\\nA revisão é a seguinte: \\nComprei um brinquedo que não presta! Utilizei todas as instruções\\nmas não funcionada nada! Que droga!\\nSe soubesse que fosse assim não teria comprado nessa loja ruim!!!\\n\\n', additional_kwargs={}, response_metadata={})]"
            ]
          },
          "execution_count": 25,
          "metadata": {},
          "output_type": "execute_result"
        }
      ],
      "source": [
        "customer_messages"
      ]
    },
    {
      "cell_type": "code",
      "execution_count": 26,
      "metadata": {
        "id": "o_yHXu9ZpSZh"
      },
      "outputs": [],
      "source": [
        "customer_response = openai_chat.invoke(customer_messages)"
      ]
    },
    {
      "cell_type": "code",
      "execution_count": 27,
      "metadata": {
        "colab": {
          "base_uri": "https://localhost:8080/",
          "height": 53
        },
        "id": "Gnk7tEoHpSZh",
        "outputId": "5494c328-52d9-4c61-9c33-b08567257be4"
      },
      "outputs": [
        {
          "data": {
            "text/plain": [
              "'O produto não funcionou conforme as instruções, o que gerou insatisfação. Esperava uma experiência melhor ao comprar na loja.'"
            ]
          },
          "execution_count": 27,
          "metadata": {},
          "output_type": "execute_result"
        }
      ],
      "source": [
        "customer_response.content"
      ]
    },
    {
      "cell_type": "markdown",
      "metadata": {
        "id": "ILi0aHgQpSZh"
      },
      "source": [
        "Vamos obter uma base de revisões de clientes em sites de comércio eletrônico.\n",
        "Com esta base vamos sintetizar as reclamações para padronizar análises, removendo palavras e expressões que impactariam muito pouco na avaliação como um todo."
      ]
    },
    {
      "cell_type": "code",
      "execution_count": 28,
      "metadata": {
        "colab": {
          "base_uri": "https://localhost:8080/"
        },
        "id": "iJsqQ6USpSZh",
        "outputId": "34dfc69f-2dbc-4042-d97c-93e137524421"
      },
      "outputs": [
        {
          "name": "stdout",
          "output_type": "stream",
          "text": [
            "Cloning into 'dataset-customer-evaluations'...\n",
            "remote: Enumerating objects: 11, done.\u001b[K\n",
            "remote: Counting objects: 100% (11/11), done.\u001b[K\n",
            "remote: Compressing objects: 100% (10/10), done.\u001b[K\n",
            "remote: Total 11 (delta 1), reused 7 (delta 0), pack-reused 0 (from 0)\u001b[K\n",
            "Receiving objects: 100% (11/11), 2.52 MiB | 6.33 MiB/s, done.\n",
            "Resolving deltas: 100% (1/1), done.\n"
          ]
        }
      ],
      "source": [
        "!git clone https://github.com/michelpf/dataset-customer-evaluations"
      ]
    },
    {
      "cell_type": "code",
      "execution_count": 29,
      "metadata": {
        "colab": {
          "base_uri": "https://localhost:8080/",
          "height": 310
        },
        "id": "5ldCpIdNpSZv",
        "outputId": "ea3a3d6e-a3d0-4f9b-96c7-aec2f87670e0"
      },
      "outputs": [
        {
          "data": {
            "text/html": [
              "<div>\n",
              "<style scoped>\n",
              "    .dataframe tbody tr th:only-of-type {\n",
              "        vertical-align: middle;\n",
              "    }\n",
              "\n",
              "    .dataframe tbody tr th {\n",
              "        vertical-align: top;\n",
              "    }\n",
              "\n",
              "    .dataframe thead th {\n",
              "        text-align: right;\n",
              "    }\n",
              "</style>\n",
              "<table border=\"1\" class=\"dataframe\">\n",
              "  <thead>\n",
              "    <tr style=\"text-align: right;\">\n",
              "      <th></th>\n",
              "      <th>Search Query</th>\n",
              "      <th>Product Title</th>\n",
              "      <th>Link</th>\n",
              "      <th>Review</th>\n",
              "    </tr>\n",
              "  </thead>\n",
              "  <tbody>\n",
              "    <tr>\n",
              "      <th>0</th>\n",
              "      <td>smartphone</td>\n",
              "      <td>Smartphone Xiaomi Note 12 4G 128GB 6GB Ram (VE...</td>\n",
              "      <td>https://www.amazon.com.br/dp/B0BZ7RJDHD</td>\n",
              "      <td>Com a necessidade de comprar um celular custo ...</td>\n",
              "    </tr>\n",
              "    <tr>\n",
              "      <th>1</th>\n",
              "      <td>smartphone</td>\n",
              "      <td>Smartphone Xiaomi Note 12 4G 128GB 6GB Ram (VE...</td>\n",
              "      <td>https://www.amazon.com.br/dp/B0BZ7RJDHD</td>\n",
              "      <td>Minha experiência de 10 dias de uso com o Xiao...</td>\n",
              "    </tr>\n",
              "    <tr>\n",
              "      <th>2</th>\n",
              "      <td>smartphone</td>\n",
              "      <td>Smartphone Xiaomi Note 12 4G 128GB 6GB Ram (VE...</td>\n",
              "      <td>https://www.amazon.com.br/dp/B0BZ7RJDHD</td>\n",
              "      <td>Smartphone de qualidade como já esperava, boas...</td>\n",
              "    </tr>\n",
              "    <tr>\n",
              "      <th>3</th>\n",
              "      <td>smartphone</td>\n",
              "      <td>Smartphone Xiaomi Note 12 4G 128GB 6GB Ram (VE...</td>\n",
              "      <td>https://www.amazon.com.br/dp/B0BZ7RJDHD</td>\n",
              "      <td>atendeu mto minhas expectativas. Antes  eu usa...</td>\n",
              "    </tr>\n",
              "    <tr>\n",
              "      <th>4</th>\n",
              "      <td>smartphone</td>\n",
              "      <td>Smartphone Xiaomi Note 12 4G 128GB 6GB Ram (VE...</td>\n",
              "      <td>https://www.amazon.com.br/dp/B0BZ7RJDHD</td>\n",
              "      <td>Gostei muito do celular, tem resposta rápida e...</td>\n",
              "    </tr>\n",
              "  </tbody>\n",
              "</table>\n",
              "</div>"
            ],
            "text/plain": [
              "  Search Query                                      Product Title  \\\n",
              "0   smartphone  Smartphone Xiaomi Note 12 4G 128GB 6GB Ram (VE...   \n",
              "1   smartphone  Smartphone Xiaomi Note 12 4G 128GB 6GB Ram (VE...   \n",
              "2   smartphone  Smartphone Xiaomi Note 12 4G 128GB 6GB Ram (VE...   \n",
              "3   smartphone  Smartphone Xiaomi Note 12 4G 128GB 6GB Ram (VE...   \n",
              "4   smartphone  Smartphone Xiaomi Note 12 4G 128GB 6GB Ram (VE...   \n",
              "\n",
              "                                      Link  \\\n",
              "0  https://www.amazon.com.br/dp/B0BZ7RJDHD   \n",
              "1  https://www.amazon.com.br/dp/B0BZ7RJDHD   \n",
              "2  https://www.amazon.com.br/dp/B0BZ7RJDHD   \n",
              "3  https://www.amazon.com.br/dp/B0BZ7RJDHD   \n",
              "4  https://www.amazon.com.br/dp/B0BZ7RJDHD   \n",
              "\n",
              "                                              Review  \n",
              "0  Com a necessidade de comprar um celular custo ...  \n",
              "1  Minha experiência de 10 dias de uso com o Xiao...  \n",
              "2  Smartphone de qualidade como já esperava, boas...  \n",
              "3  atendeu mto minhas expectativas. Antes  eu usa...  \n",
              "4  Gostei muito do celular, tem resposta rápida e...  "
            ]
          },
          "execution_count": 29,
          "metadata": {},
          "output_type": "execute_result"
        }
      ],
      "source": [
        "df = pd.read_csv(\"dataset-customer-evaluations/dataset/am_scrape_final.csv\")\n",
        "df.head()"
      ]
    },
    {
      "cell_type": "markdown",
      "metadata": {
        "id": "np9S3VPXpSZw"
      },
      "source": [
        "Note que as revisões podem ser extensas, mas não necessáriamente contém informações relevantes em todas as frases."
      ]
    },
    {
      "cell_type": "code",
      "execution_count": 30,
      "metadata": {
        "colab": {
          "base_uri": "https://localhost:8080/",
          "height": 174
        },
        "id": "3tHoRoj5pSZw",
        "outputId": "b94add0d-bf56-4507-8602-92421836282f"
      },
      "outputs": [
        {
          "data": {
            "text/plain": [
              "'Com a necessidade de comprar um celular custo benefício comecei pesquisando os modelos que mais vendem no mercado e me deparei com os líderes de sempre: Samsung, Motorola...Apple não é custo-benefício aqui no Brasil.Eu já tive smartphones dessas marcas supracitadas, mas nunca da Xiaomi.Por conseguinte, analisei vários vídeos e tinham varias opções (não cabem ser citadas agora) que entregavam uma boa qualidade de apenas algumas características, porém o conjunto completo deixava sempre a desejar.Partindo da premissa que eu saí de um celular no seguinte estado:-Marca: Samsung-Modelo: Gran prime-Ano de lançamento: 2015-Armazenamento: apenas 8gb de memória interna.Considerando também o valor do mercado atual dos Smartphones: CATASTRÓFICO.Associo que a escolha da marca condiz com o meu objetivo:- Precisava de uma boa tela ( essa tela é a melhor do mercado para esses celulares de entrada).- Tinha a necessidade de uma boa bateria ( essa faz jus à marca, sem contar com o carregamento ultra rápido que eles ainda oferecem).- Buscava uma boa câmera ( não tira as melhores fotos do mercado, mas nenhum dos celulares dessa categoria vem com as mesmas funções dos top de linha).- Visava um celular que não travasse ( esse tem 6gb de memória ram, roda até os jogos mais pesados da play story como: Call Of Duty, Genshin Impact, bem como já cheguei até a jogar um pouco de The Legend of Neverland, não roda com os gráficos no máximo sem leg, pois essa não é uma das propostas da faixa de preço desse aparelho, mas dá pra jogar todos os jogos tranquilamente em modo mais light).Portanto, a aquisição desse aparelho está suprindo minhas necessidades e veio melhor do que eu pensava.Já fiz até a aquisição de outro para uma amiga.Comprem sem medo e boa sorte com o produto.'"
            ]
          },
          "execution_count": 30,
          "metadata": {},
          "output_type": "execute_result"
        }
      ],
      "source": [
        "df.iloc[0][\"Review\"]"
      ]
    },
    {
      "cell_type": "code",
      "execution_count": 33,
      "metadata": {
        "id": "B5Jz78SVpSZw"
      },
      "outputs": [],
      "source": [
        "customer_messages = prompt_template.format_messages(\n",
        "                    style=style,\n",
        "                    customer_review=df.iloc[0][\"Review\"])\n",
        "\n",
        "customer_response = openai_chat.invoke(customer_messages)"
      ]
    },
    {
      "cell_type": "code",
      "execution_count": 34,
      "metadata": {
        "colab": {
          "base_uri": "https://localhost:8080/",
          "height": 53
        },
        "id": "Qf7BrSkGpSZw",
        "outputId": "43e8ba9e-3567-42a6-8ef7-c635b1a7bafa"
      },
      "outputs": [
        {
          "data": {
            "text/plain": [
              "'O celular escolhido oferece boa tela, bateria duradoura com carregamento rápido e desempenho satisfatório para jogos leves, atendendo bem às necessidades do usuário. Apesar de não ter a melhor câmera, o aparelho supera expectativas na faixa de preço. Recomendo a compra com confiança.'"
            ]
          },
          "execution_count": 34,
          "metadata": {},
          "output_type": "execute_result"
        }
      ],
      "source": [
        "customer_response.content"
      ]
    },
    {
      "cell_type": "code",
      "execution_count": 35,
      "metadata": {
        "colab": {
          "base_uri": "https://localhost:8080/",
          "height": 157
        },
        "id": "Fc-AW9TPpSZw",
        "outputId": "bb12c9ae-6d2b-4661-82fd-51c54d2a1889"
      },
      "outputs": [
        {
          "data": {
            "text/plain": [
              "'Gente, é barato e muito bom mesmo; pelo menos até o momento rs. Comprei com 6 g RAM e estou amando, o bicho tá parecendo um foguete de rápido kkkkk.  Estou usando há um mês e meio; o verde é lindo 😍, e uma das coisas que mais me chamou atenção até o momento, é a durabilidade da bateria. Castiguei ele com aplicativos que consomem muita energia e a bateria aguentou 20 horas numa boa, coloquei para carregar pq iria sair e não queria levar o carregador, mas dura muuuuuito, o meu anterior (Zenfone, que tbm é muito bom, a bateria não aguentava 10 horas ou menos). Para carregar, também é mega rápido. E como utilizo o celular na maior parte do tempo para trabalho, consigo visualizar diversos documentos na gigante tela dele rs. Enfim ... até o momento, só elogios para o aparelho, vale a pena comprar.Obs* apenas demora par reiniciar, se estiver com pressa, ferrou! Mas considero isso um inconveniente bobo rs.'"
            ]
          },
          "execution_count": 35,
          "metadata": {},
          "output_type": "execute_result"
        }
      ],
      "source": [
        "df.iloc[5][\"Review\"]"
      ]
    },
    {
      "cell_type": "markdown",
      "metadata": {
        "id": "AE2T9nFnpSZw"
      },
      "source": [
        "Passando no prompt para resumir e também remover eventuais expressões e agressões."
      ]
    },
    {
      "cell_type": "code",
      "execution_count": 36,
      "metadata": {
        "colab": {
          "base_uri": "https://localhost:8080/",
          "height": 53
        },
        "id": "Tu2jEKVXpSZx",
        "outputId": "5289936e-2549-48d2-d04f-7b6d9d528f3b"
      },
      "outputs": [
        {
          "data": {
            "text/plain": [
              "'O aparelho é rápido, com 6 GB de RAM e bateria duradoura, aguentando até 20 horas mesmo com uso intenso. A tela grande facilita o trabalho e o carregamento é rápido. O design verde é bonito. O único ponto negativo é a demora para reiniciar, mas não compromete a experiência.'"
            ]
          },
          "execution_count": 36,
          "metadata": {},
          "output_type": "execute_result"
        }
      ],
      "source": [
        "customer_messages = prompt_template.format_messages(\n",
        "                    style=style,\n",
        "                    customer_review=df.iloc[5][\"Review\"])\n",
        "\n",
        "customer_response = openai_chat.invoke(customer_messages)\n",
        "customer_response.content"
      ]
    },
    {
      "cell_type": "markdown",
      "metadata": {
        "id": "nC5BH4VyNYjo"
      },
      "source": [
        "## Memória e contexto"
      ]
    },
    {
      "cell_type": "markdown",
      "metadata": {
        "id": "bJX8AQ8kUADA"
      },
      "source": [
        "Adiciona um efeito de contexto sobre as conversas realizadas, tornando a conversa (modelo chat) mais integrado podendo controlar a janela de memória em cada interação.\n",
        "\n",
        "A memória sempre é passada ao modelo de LLM, portanto existem técnicas que tornam essa passagem mais inteligente, como a limitação de posições, tokens ou até mesmo o uso de sumários."
      ]
    },
    {
      "cell_type": "code",
      "execution_count": 60,
      "metadata": {
        "id": "-9CtVeuVNZ5G"
      },
      "outputs": [],
      "source": [
        "from langchain.chains import ConversationChain\n",
        "from langchain.memory import ConversationBufferMemory"
      ]
    },
    {
      "cell_type": "code",
      "execution_count": 88,
      "metadata": {
        "id": "1MgGyIop_nXd"
      },
      "outputs": [],
      "source": [
        "model = \"gpt-3.5-turbo\""
      ]
    },
    {
      "cell_type": "markdown",
      "metadata": {
        "id": "1dM6WHRgUaIk"
      },
      "source": [
        "Conversação com memória simples."
      ]
    },
    {
      "cell_type": "code",
      "execution_count": 93,
      "metadata": {
        "id": "fSz-XX6p_ggQ"
      },
      "outputs": [],
      "source": [
        "chat_openai = ChatOpenAI(temperature=0.0, model=model)\n",
        "\n",
        "memory = ConversationBufferMemory()\n",
        "\n",
        "conversation = ConversationChain(llm = chat_openai, memory = memory, verbose=True)"
      ]
    },
    {
      "cell_type": "code",
      "execution_count": 62,
      "metadata": {
        "colab": {
          "base_uri": "https://localhost:8080/",
          "height": 264
        },
        "id": "zQIvQ97c_gim",
        "outputId": "a2c3ce2e-742a-4b4a-80d6-e3a7dc0e0dd2"
      },
      "outputs": [
        {
          "name": "stdout",
          "output_type": "stream",
          "text": [
            "\n",
            "\n",
            "\u001b[1m> Entering new ConversationChain chain...\u001b[0m\n",
            "Prompt after formatting:\n",
            "\u001b[32;1m\u001b[1;3mThe following is a friendly conversation between a human and an AI. The AI is talkative and provides lots of specific details from its context. If the AI does not know the answer to a question, it truthfully says it does not know.\n",
            "\n",
            "Current conversation:\n",
            "\n",
            "Human: Olá, meu nome é Michel e sou o professor na FIAP\n",
            "AI:\u001b[0m\n",
            "\n",
            "\u001b[1m> Finished chain.\u001b[0m\n"
          ]
        },
        {
          "data": {
            "text/plain": [
              "'Olá, Michel! Que prazer falar com você. A FIAP é uma instituição incrível, conhecida por sua excelência em tecnologia e inovação. Como professor aí, você deve estar envolvido com muitos projetos interessantes. Em que área você atua? Posso ajudar com algo específico relacionado ao seu trabalho ou à FIAP?'"
            ]
          },
          "execution_count": 62,
          "metadata": {},
          "output_type": "execute_result"
        }
      ],
      "source": [
        "conversation.predict(input=\"Olá, meu nome é Michel e sou o professor na FIAP\")"
      ]
    },
    {
      "cell_type": "code",
      "execution_count": 63,
      "metadata": {
        "colab": {
          "base_uri": "https://localhost:8080/",
          "height": 316
        },
        "id": "Vj0hCk0HAPwd",
        "outputId": "621ed4ad-b930-468b-d88e-3b6ee66b2e45"
      },
      "outputs": [
        {
          "name": "stdout",
          "output_type": "stream",
          "text": [
            "\n",
            "\n",
            "\u001b[1m> Entering new ConversationChain chain...\u001b[0m\n",
            "Prompt after formatting:\n",
            "\u001b[32;1m\u001b[1;3mThe following is a friendly conversation between a human and an AI. The AI is talkative and provides lots of specific details from its context. If the AI does not know the answer to a question, it truthfully says it does not know.\n",
            "\n",
            "Current conversation:\n",
            "Human: Olá, meu nome é Michel e sou o professor na FIAP\n",
            "AI: Olá, Michel! Que prazer falar com você. A FIAP é uma instituição incrível, conhecida por sua excelência em tecnologia e inovação. Como professor aí, você deve estar envolvido com muitos projetos interessantes. Em que área você atua? Posso ajudar com algo específico relacionado ao seu trabalho ou à FIAP?\n",
            "Human: Você conhece a FIAP?\n",
            "AI:\u001b[0m\n",
            "\n",
            "\u001b[1m> Finished chain.\u001b[0m\n"
          ]
        },
        {
          "data": {
            "text/plain": [
              "'Sim, conheço a FIAP! A FIAP, ou Faculdade de Informática e Administração Paulista, é uma instituição de ensino superior bastante renomada no Brasil, especialmente nas áreas de tecnologia, inovação e negócios. Fundada em 1972, a FIAP tem uma forte reputação por seus cursos de graduação, pós-graduação e MBA, além de ser reconhecida por sua conexão com o mercado de trabalho e parcerias com empresas de tecnologia. A instituição também é conhecida por incentivar o empreendedorismo e a pesquisa aplicada, oferecendo laboratórios modernos e programas de incubação de startups. Você gostaria que eu falasse mais sobre algum curso específico, projetos de pesquisa ou iniciativas da FIAP?'"
            ]
          },
          "execution_count": 63,
          "metadata": {},
          "output_type": "execute_result"
        }
      ],
      "source": [
        "conversation.predict(input=\"Você conhece a FIAP?\")"
      ]
    },
    {
      "cell_type": "code",
      "execution_count": 64,
      "metadata": {
        "colab": {
          "base_uri": "https://localhost:8080/",
          "height": 351
        },
        "id": "6AXe9TQAAVwS",
        "outputId": "715125b5-daa5-4ff8-89a8-f7a99e2e130d"
      },
      "outputs": [
        {
          "name": "stdout",
          "output_type": "stream",
          "text": [
            "\n",
            "\n",
            "\u001b[1m> Entering new ConversationChain chain...\u001b[0m\n",
            "Prompt after formatting:\n",
            "\u001b[32;1m\u001b[1;3mThe following is a friendly conversation between a human and an AI. The AI is talkative and provides lots of specific details from its context. If the AI does not know the answer to a question, it truthfully says it does not know.\n",
            "\n",
            "Current conversation:\n",
            "Human: Olá, meu nome é Michel e sou o professor na FIAP\n",
            "AI: Olá, Michel! Que prazer falar com você. A FIAP é uma instituição incrível, conhecida por sua excelência em tecnologia e inovação. Como professor aí, você deve estar envolvido com muitos projetos interessantes. Em que área você atua? Posso ajudar com algo específico relacionado ao seu trabalho ou à FIAP?\n",
            "Human: Você conhece a FIAP?\n",
            "AI: Sim, conheço a FIAP! A FIAP, ou Faculdade de Informática e Administração Paulista, é uma instituição de ensino superior bastante renomada no Brasil, especialmente nas áreas de tecnologia, inovação e negócios. Fundada em 1972, a FIAP tem uma forte reputação por seus cursos de graduação, pós-graduação e MBA, além de ser reconhecida por sua conexão com o mercado de trabalho e parcerias com empresas de tecnologia. A instituição também é conhecida por incentivar o empreendedorismo e a pesquisa aplicada, oferecendo laboratórios modernos e programas de incubação de startups. Você gostaria que eu falasse mais sobre algum curso específico, projetos de pesquisa ou iniciativas da FIAP?\n",
            "Human: Qual é o meu nome e onde eu trabalho?\n",
            "AI:\u001b[0m\n",
            "\n",
            "\u001b[1m> Finished chain.\u001b[0m\n"
          ]
        },
        {
          "data": {
            "text/plain": [
              "'Seu nome é Michel e você trabalha como professor na FIAP. Posso ajudar com mais alguma coisa relacionada ao seu trabalho ou à instituição?'"
            ]
          },
          "execution_count": 64,
          "metadata": {},
          "output_type": "execute_result"
        }
      ],
      "source": [
        "conversation.predict(input=\"Qual é o meu nome e onde eu trabalho?\")"
      ]
    },
    {
      "cell_type": "code",
      "execution_count": 65,
      "metadata": {
        "colab": {
          "base_uri": "https://localhost:8080/"
        },
        "id": "D7JZ1WkOAauY",
        "outputId": "c963a9cb-e29b-4444-831f-614a3f20e913"
      },
      "outputs": [
        {
          "name": "stdout",
          "output_type": "stream",
          "text": [
            "Human: Olá, meu nome é Michel e sou o professor na FIAP\n",
            "AI: Olá, Michel! Que prazer falar com você. A FIAP é uma instituição incrível, conhecida por sua excelência em tecnologia e inovação. Como professor aí, você deve estar envolvido com muitos projetos interessantes. Em que área você atua? Posso ajudar com algo específico relacionado ao seu trabalho ou à FIAP?\n",
            "Human: Você conhece a FIAP?\n",
            "AI: Sim, conheço a FIAP! A FIAP, ou Faculdade de Informática e Administração Paulista, é uma instituição de ensino superior bastante renomada no Brasil, especialmente nas áreas de tecnologia, inovação e negócios. Fundada em 1972, a FIAP tem uma forte reputação por seus cursos de graduação, pós-graduação e MBA, além de ser reconhecida por sua conexão com o mercado de trabalho e parcerias com empresas de tecnologia. A instituição também é conhecida por incentivar o empreendedorismo e a pesquisa aplicada, oferecendo laboratórios modernos e programas de incubação de startups. Você gostaria que eu falasse mais sobre algum curso específico, projetos de pesquisa ou iniciativas da FIAP?\n",
            "Human: Qual é o meu nome e onde eu trabalho?\n",
            "AI: Seu nome é Michel e você trabalha como professor na FIAP. Posso ajudar com mais alguma coisa relacionada ao seu trabalho ou à instituição?\n"
          ]
        }
      ],
      "source": [
        "print(memory.buffer)"
      ]
    },
    {
      "cell_type": "code",
      "execution_count": 66,
      "metadata": {
        "colab": {
          "base_uri": "https://localhost:8080/"
        },
        "id": "g3IZoKeo_gk6",
        "outputId": "79e01e56-0a05-425c-9df3-b9a214a25a1f"
      },
      "outputs": [
        {
          "data": {
            "text/plain": [
              "{'history': 'Human: Olá, meu nome é Michel e sou o professor na FIAP\\nAI: Olá, Michel! Que prazer falar com você. A FIAP é uma instituição incrível, conhecida por sua excelência em tecnologia e inovação. Como professor aí, você deve estar envolvido com muitos projetos interessantes. Em que área você atua? Posso ajudar com algo específico relacionado ao seu trabalho ou à FIAP?\\nHuman: Você conhece a FIAP?\\nAI: Sim, conheço a FIAP! A FIAP, ou Faculdade de Informática e Administração Paulista, é uma instituição de ensino superior bastante renomada no Brasil, especialmente nas áreas de tecnologia, inovação e negócios. Fundada em 1972, a FIAP tem uma forte reputação por seus cursos de graduação, pós-graduação e MBA, além de ser reconhecida por sua conexão com o mercado de trabalho e parcerias com empresas de tecnologia. A instituição também é conhecida por incentivar o empreendedorismo e a pesquisa aplicada, oferecendo laboratórios modernos e programas de incubação de startups. Você gostaria que eu falasse mais sobre algum curso específico, projetos de pesquisa ou iniciativas da FIAP?\\nHuman: Qual é o meu nome e onde eu trabalho?\\nAI: Seu nome é Michel e você trabalha como professor na FIAP. Posso ajudar com mais alguma coisa relacionada ao seu trabalho ou à instituição?'}"
            ]
          },
          "execution_count": 66,
          "metadata": {},
          "output_type": "execute_result"
        }
      ],
      "source": [
        "memory.load_memory_variables({})"
      ]
    },
    {
      "cell_type": "code",
      "execution_count": 67,
      "metadata": {
        "id": "_QvPWqVz_gnN"
      },
      "outputs": [],
      "source": [
        "memory.save_context({\"input\": \"Eu tenho dois filhos, uma de 10 anos e um de 6 anos.\"},\n",
        "                    {\"output\": \"Legal, então você tem um casal.\"})"
      ]
    },
    {
      "cell_type": "code",
      "execution_count": 68,
      "metadata": {
        "colab": {
          "base_uri": "https://localhost:8080/"
        },
        "id": "3o59T1xnBE9_",
        "outputId": "87135b0f-4a9b-453f-9294-76f651f7e365"
      },
      "outputs": [
        {
          "data": {
            "text/plain": [
              "{'history': 'Human: Olá, meu nome é Michel e sou o professor na FIAP\\nAI: Olá, Michel! Que prazer falar com você. A FIAP é uma instituição incrível, conhecida por sua excelência em tecnologia e inovação. Como professor aí, você deve estar envolvido com muitos projetos interessantes. Em que área você atua? Posso ajudar com algo específico relacionado ao seu trabalho ou à FIAP?\\nHuman: Você conhece a FIAP?\\nAI: Sim, conheço a FIAP! A FIAP, ou Faculdade de Informática e Administração Paulista, é uma instituição de ensino superior bastante renomada no Brasil, especialmente nas áreas de tecnologia, inovação e negócios. Fundada em 1972, a FIAP tem uma forte reputação por seus cursos de graduação, pós-graduação e MBA, além de ser reconhecida por sua conexão com o mercado de trabalho e parcerias com empresas de tecnologia. A instituição também é conhecida por incentivar o empreendedorismo e a pesquisa aplicada, oferecendo laboratórios modernos e programas de incubação de startups. Você gostaria que eu falasse mais sobre algum curso específico, projetos de pesquisa ou iniciativas da FIAP?\\nHuman: Qual é o meu nome e onde eu trabalho?\\nAI: Seu nome é Michel e você trabalha como professor na FIAP. Posso ajudar com mais alguma coisa relacionada ao seu trabalho ou à instituição?\\nHuman: Eu tenho dois filhos, uma de 10 anos e um de 6 anos.\\nAI: Legal, então você tem um casal.'}"
            ]
          },
          "execution_count": 68,
          "metadata": {},
          "output_type": "execute_result"
        }
      ],
      "source": [
        "memory.load_memory_variables({})"
      ]
    },
    {
      "cell_type": "code",
      "execution_count": 69,
      "metadata": {
        "colab": {
          "base_uri": "https://localhost:8080/",
          "height": 403
        },
        "id": "i6qG77wKBFAt",
        "outputId": "990feab4-ea4b-4ace-cee7-ffbd3bfbb120"
      },
      "outputs": [
        {
          "name": "stdout",
          "output_type": "stream",
          "text": [
            "\n",
            "\n",
            "\u001b[1m> Entering new ConversationChain chain...\u001b[0m\n",
            "Prompt after formatting:\n",
            "\u001b[32;1m\u001b[1;3mThe following is a friendly conversation between a human and an AI. The AI is talkative and provides lots of specific details from its context. If the AI does not know the answer to a question, it truthfully says it does not know.\n",
            "\n",
            "Current conversation:\n",
            "Human: Olá, meu nome é Michel e sou o professor na FIAP\n",
            "AI: Olá, Michel! Que prazer falar com você. A FIAP é uma instituição incrível, conhecida por sua excelência em tecnologia e inovação. Como professor aí, você deve estar envolvido com muitos projetos interessantes. Em que área você atua? Posso ajudar com algo específico relacionado ao seu trabalho ou à FIAP?\n",
            "Human: Você conhece a FIAP?\n",
            "AI: Sim, conheço a FIAP! A FIAP, ou Faculdade de Informática e Administração Paulista, é uma instituição de ensino superior bastante renomada no Brasil, especialmente nas áreas de tecnologia, inovação e negócios. Fundada em 1972, a FIAP tem uma forte reputação por seus cursos de graduação, pós-graduação e MBA, além de ser reconhecida por sua conexão com o mercado de trabalho e parcerias com empresas de tecnologia. A instituição também é conhecida por incentivar o empreendedorismo e a pesquisa aplicada, oferecendo laboratórios modernos e programas de incubação de startups. Você gostaria que eu falasse mais sobre algum curso específico, projetos de pesquisa ou iniciativas da FIAP?\n",
            "Human: Qual é o meu nome e onde eu trabalho?\n",
            "AI: Seu nome é Michel e você trabalha como professor na FIAP. Posso ajudar com mais alguma coisa relacionada ao seu trabalho ou à instituição?\n",
            "Human: Eu tenho dois filhos, uma de 10 anos e um de 6 anos.\n",
            "AI: Legal, então você tem um casal.\n",
            "Human: Em que ano meus filhos nasceram, sabendo que estamos em 2023?\n",
            "AI:\u001b[0m\n",
            "\n",
            "\u001b[1m> Finished chain.\u001b[0m\n"
          ]
        },
        {
          "data": {
            "text/plain": [
              "'Se estamos em 2023, seu filho de 10 anos provavelmente nasceu em 2013, e sua filha de 6 anos provavelmente nasceu em 2017. Claro, isso pode variar um pouco dependendo do mês de nascimento deles, mas essas seriam as estimativas mais prováveis! Posso ajudar com mais alguma coisa?'"
            ]
          },
          "execution_count": 69,
          "metadata": {},
          "output_type": "execute_result"
        }
      ],
      "source": [
        "conversation.predict(input=\"Em que ano meus filhos nasceram, sabendo que estamos em 2023?\")"
      ]
    },
    {
      "cell_type": "code",
      "execution_count": 70,
      "metadata": {
        "id": "Il6VNB9OBgRy"
      },
      "outputs": [],
      "source": [
        "from langchain.memory import ConversationBufferWindowMemory"
      ]
    },
    {
      "cell_type": "markdown",
      "metadata": {
        "id": "xM8Y1nIZUfB5"
      },
      "source": [
        "Adicionando limitação de entradas (valor k)."
      ]
    },
    {
      "cell_type": "code",
      "execution_count": 71,
      "metadata": {
        "id": "zdVl12KgBgdQ"
      },
      "outputs": [],
      "source": [
        "memory_limited = ConversationBufferWindowMemory(k=1)"
      ]
    },
    {
      "cell_type": "code",
      "execution_count": 72,
      "metadata": {
        "id": "FoagJ6PtBgko"
      },
      "outputs": [],
      "source": [
        "memory_limited.save_context({\"input\": \"Estudei Engenharia Elétrica na FEI em São Bernardo do Campo.\"},\n",
        "                    {\"output\": \"Muito bom! É uma faculdade reconhecida nesta área.\"})\n",
        "\n",
        "memory_limited.save_context({\"input\": \"Eu nasci na cidade de São Paulo.\"},\n",
        "                    {\"output\": \"Legal!\"})"
      ]
    },
    {
      "cell_type": "code",
      "execution_count": 73,
      "metadata": {
        "colab": {
          "base_uri": "https://localhost:8080/"
        },
        "id": "zNGQvSlRCC-5",
        "outputId": "64961267-38d2-4940-e681-298e28898766"
      },
      "outputs": [
        {
          "data": {
            "text/plain": [
              "{'history': 'Human: Eu nasci na cidade de São Paulo.\\nAI: Legal!'}"
            ]
          },
          "execution_count": 73,
          "metadata": {},
          "output_type": "execute_result"
        }
      ],
      "source": [
        "memory_limited.load_memory_variables({})"
      ]
    },
    {
      "cell_type": "code",
      "execution_count": 74,
      "metadata": {
        "id": "mFca_NQ9CRXZ"
      },
      "outputs": [],
      "source": [
        "conversation = ConversationChain(llm = chat_openai, memory = memory_limited, verbose=True)"
      ]
    },
    {
      "cell_type": "code",
      "execution_count": 75,
      "metadata": {
        "colab": {
          "base_uri": "https://localhost:8080/",
          "height": 281
        },
        "id": "cPhxmXjRCUEX",
        "outputId": "bd4594e4-db47-4fab-e57a-a8f874be4d0d"
      },
      "outputs": [
        {
          "name": "stdout",
          "output_type": "stream",
          "text": [
            "\n",
            "\n",
            "\u001b[1m> Entering new ConversationChain chain...\u001b[0m\n",
            "Prompt after formatting:\n",
            "\u001b[32;1m\u001b[1;3mThe following is a friendly conversation between a human and an AI. The AI is talkative and provides lots of specific details from its context. If the AI does not know the answer to a question, it truthfully says it does not know.\n",
            "\n",
            "Current conversation:\n",
            "Human: Eu nasci na cidade de São Paulo.\n",
            "AI: Legal!\n",
            "Human: Onde eu me estudei?\n",
            "AI:\u001b[0m\n",
            "\n",
            "\u001b[1m> Finished chain.\u001b[0m\n"
          ]
        },
        {
          "data": {
            "text/plain": [
              "'Eu não sei onde você estudou, mas posso te contar que São Paulo tem muitas opções de escolas e universidades renomadas, como a Universidade de São Paulo (USP), a Universidade Estadual Paulista (UNESP) e o Colégio Bandeirantes, que é bastante tradicional. Se quiser, posso ajudar a encontrar informações sobre instituições de ensino na sua região!'"
            ]
          },
          "execution_count": 75,
          "metadata": {},
          "output_type": "execute_result"
        }
      ],
      "source": [
        "conversation.predict(input=\"Onde eu me estudei?\")"
      ]
    },
    {
      "cell_type": "code",
      "execution_count": 76,
      "metadata": {
        "colab": {
          "base_uri": "https://localhost:8080/",
          "height": 281
        },
        "id": "7JqnJAnoCUHT",
        "outputId": "e714ddbd-1ac5-442a-ad47-60c4f1eaffb7"
      },
      "outputs": [
        {
          "name": "stdout",
          "output_type": "stream",
          "text": [
            "\n",
            "\n",
            "\u001b[1m> Entering new ConversationChain chain...\u001b[0m\n",
            "Prompt after formatting:\n",
            "\u001b[32;1m\u001b[1;3mThe following is a friendly conversation between a human and an AI. The AI is talkative and provides lots of specific details from its context. If the AI does not know the answer to a question, it truthfully says it does not know.\n",
            "\n",
            "Current conversation:\n",
            "Human: Onde eu me estudei?\n",
            "AI: Eu não sei onde você estudou, mas posso te contar que São Paulo tem muitas opções de escolas e universidades renomadas, como a Universidade de São Paulo (USP), a Universidade Estadual Paulista (UNESP) e o Colégio Bandeirantes, que é bastante tradicional. Se quiser, posso ajudar a encontrar informações sobre instituições de ensino na sua região!\n",
            "Human: Onde eu nasci?\n",
            "AI:\u001b[0m\n",
            "\n",
            "\u001b[1m> Finished chain.\u001b[0m\n"
          ]
        },
        {
          "data": {
            "text/plain": [
              "'Eu não sei onde você nasceu, pois não tenho acesso a informações pessoais suas. Mas, se quiser, posso compartilhar curiosidades sobre diferentes cidades e estados do Brasil, ou ajudar a encontrar dados históricos e culturais sobre o lugar onde você nasceu!'"
            ]
          },
          "execution_count": 76,
          "metadata": {},
          "output_type": "execute_result"
        }
      ],
      "source": [
        "conversation.predict(input=\"Onde eu nasci?\")"
      ]
    },
    {
      "cell_type": "code",
      "execution_count": 77,
      "metadata": {
        "id": "-N573MCRCy1I"
      },
      "outputs": [],
      "source": [
        "from langchain.memory import ConversationTokenBufferMemory"
      ]
    },
    {
      "cell_type": "markdown",
      "metadata": {
        "id": "7P-mUyJyUiO6"
      },
      "source": [
        "Adicioando limitação por tokens."
      ]
    },
    {
      "cell_type": "code",
      "execution_count": 94,
      "metadata": {
        "id": "RvJGreyZCy4x"
      },
      "outputs": [],
      "source": [
        "memory_limited = ConversationTokenBufferMemory(llm=chat_openai, max_token_limit=10)"
      ]
    },
    {
      "cell_type": "code",
      "execution_count": 95,
      "metadata": {
        "id": "98zc3YnJCy7V"
      },
      "outputs": [],
      "source": [
        "memory_limited.save_context({\"input\": \"Estudei Engenharia Elétrica na FEI em São Bernardo do Campo.\"},\n",
        "                    {\"output\": \"Muito bom! É uma faculdade reconhecida nesta área.\"})\n",
        "\n",
        "memory_limited.save_context({\"input\": \"Eu nasci na cidade de São Paulo.\"},\n",
        "                    {\"output\": \"Legal!\"})"
      ]
    },
    {
      "cell_type": "code",
      "execution_count": 96,
      "metadata": {
        "colab": {
          "base_uri": "https://localhost:8080/"
        },
        "id": "7vRuyI1gCy9_",
        "outputId": "c8688b93-8fe8-4d26-ef83-258d4dc60977"
      },
      "outputs": [
        {
          "data": {
            "text/plain": [
              "{'history': 'AI: Legal!'}"
            ]
          },
          "execution_count": 96,
          "metadata": {},
          "output_type": "execute_result"
        }
      ],
      "source": [
        "memory_limited.load_memory_variables({})"
      ]
    },
    {
      "cell_type": "markdown",
      "metadata": {
        "id": "hs3bKUt2UlQa"
      },
      "source": [
        "Utilizando sumarização para carregar a memória. Esta funcionalidade utilizada o próprio LLM para gerar o resumo e o carrega como efeito de memória."
      ]
    },
    {
      "cell_type": "code",
      "execution_count": 97,
      "metadata": {
        "id": "xZ8UOYvODV0F"
      },
      "outputs": [],
      "source": [
        "from langchain.memory import ConversationSummaryBufferMemory"
      ]
    },
    {
      "cell_type": "code",
      "execution_count": 98,
      "metadata": {
        "id": "NOEujFNLDV2h"
      },
      "outputs": [],
      "source": [
        "memory_limited = ConversationSummaryBufferMemory(llm=chat_openai, max_token_limit=100)"
      ]
    },
    {
      "cell_type": "code",
      "execution_count": 99,
      "metadata": {
        "id": "rZKWJ6vZDV5U"
      },
      "outputs": [],
      "source": [
        "memory_limited.save_context(\n",
        "    {\"input\": \"Estudei Engenharia Elétrica na FEI em São Bernardo do Campo, referência na área e que formou muitos profissionais.\"},\n",
        "    {\"output\": \"Muito bom! É uma faculdade reconhecida nesta área.\"})\n",
        "\n",
        "memory_limited.save_context(\n",
        "    {\"input\": \"Eu nasci na cidade de São Paulo, capital do Estado. Esta cidade é uma das maiores do Brasil.\\\n",
        "    Nesta cidadade as pessoas costumam ir ao trabalho utilizando transporte público.\\\n",
        "    O transporte público mais preferido é o metrô, seguido do trem e do ônibus.\\\n",
        "    Muitas pessoas optam por ir de carro, mas as restrições como o rodízio de veículos tornam a necessidade \\\n",
        "    de ter mais de um carro ou ir de transporte público em algum dia da semana.\"},\n",
        "    {\"output\": \"Legal!\"})"
      ]
    },
    {
      "cell_type": "code",
      "execution_count": 100,
      "metadata": {
        "colab": {
          "base_uri": "https://localhost:8080/"
        },
        "id": "-iYl0lFzEnqR",
        "outputId": "daa6d737-31f7-4a3b-bf83-ed281ad305f9"
      },
      "outputs": [
        {
          "data": {
            "text/plain": [
              "{'history': 'System: O humano compartilha que estudou Engenharia Elétrica na FEI em São Bernardo do Campo, uma faculdade de referência na área. O AI elogia a faculdade. O humano então fala sobre ter nascido em São Paulo, uma das maiores cidades do Brasil, onde as pessoas costumam utilizar o transporte público para ir ao trabalho, sendo o metrô o meio mais preferido, seguido pelo trem e ônibus. Muitas pessoas também optam por ir de carro, mas as restrições como o rodízio de veículos tornam necessário ter mais de um carro ou utilizar o transporte público em algum dia da semana.\\nAI: Legal!'}"
            ]
          },
          "execution_count": 100,
          "metadata": {},
          "output_type": "execute_result"
        }
      ],
      "source": [
        "memory_limited.load_memory_variables({})"
      ]
    },
    {
      "cell_type": "code",
      "execution_count": 101,
      "metadata": {
        "id": "dGiEacjAErZy"
      },
      "outputs": [],
      "source": [
        "conversation = ConversationChain(\n",
        "    llm=chat_openai,\n",
        "    memory = memory_limited,\n",
        "    verbose=True\n",
        ")"
      ]
    },
    {
      "cell_type": "code",
      "execution_count": 102,
      "metadata": {
        "colab": {
          "base_uri": "https://localhost:8080/",
          "height": 281
        },
        "id": "cT9qdmsTE8M9",
        "outputId": "7abf65ad-5a21-4af2-b2d8-13f154d835e7"
      },
      "outputs": [
        {
          "name": "stdout",
          "output_type": "stream",
          "text": [
            "\n",
            "\n",
            "\u001b[1m> Entering new ConversationChain chain...\u001b[0m\n",
            "Prompt after formatting:\n",
            "\u001b[32;1m\u001b[1;3mThe following is a friendly conversation between a human and an AI. The AI is talkative and provides lots of specific details from its context. If the AI does not know the answer to a question, it truthfully says it does not know.\n",
            "\n",
            "Current conversation:\n",
            "System: O humano compartilha que estudou Engenharia Elétrica na FEI em São Bernardo do Campo, uma faculdade de referência na área. O AI elogia a faculdade. O humano então fala sobre ter nascido em São Paulo, uma das maiores cidades do Brasil, onde as pessoas costumam utilizar o transporte público para ir ao trabalho, sendo o metrô o meio mais preferido, seguido pelo trem e ônibus. Muitas pessoas também optam por ir de carro, mas as restrições como o rodízio de veículos tornam necessário ter mais de um carro ou utilizar o transporte público em algum dia da semana.\n",
            "AI: Legal!\n",
            "Human: Onde eu me formei?\n",
            "AI:\u001b[0m\n",
            "\n",
            "\u001b[1m> Finished chain.\u001b[0m\n"
          ]
        },
        {
          "data": {
            "text/plain": [
              "'Você se formou na FEI em Engenharia Elétrica.'"
            ]
          },
          "execution_count": 102,
          "metadata": {},
          "output_type": "execute_result"
        }
      ],
      "source": [
        "conversation.predict(input=\"Onde eu me formei?\")"
      ]
    },
    {
      "cell_type": "code",
      "execution_count": 104,
      "metadata": {
        "colab": {
          "base_uri": "https://localhost:8080/"
        },
        "id": "9nmb04RncVSg",
        "outputId": "5604a28d-e1c3-43eb-f6b6-d56b49b5d0e2"
      },
      "outputs": [
        {
          "data": {
            "text/plain": [
              "[AIMessage(content='Legal!', additional_kwargs={}, response_metadata={}),\n",
              " HumanMessage(content='Onde eu me formei?', additional_kwargs={}, response_metadata={}),\n",
              " AIMessage(content='Você se formou na FEI em Engenharia Elétrica.', additional_kwargs={}, response_metadata={})]"
            ]
          },
          "execution_count": 104,
          "metadata": {},
          "output_type": "execute_result"
        }
      ],
      "source": [
        "memory_limited.chat_memory.messages"
      ]
    },
    {
      "cell_type": "markdown",
      "metadata": {
        "id": "sZSjdlyRNaXB"
      },
      "source": [
        "##Dados externos com word embeddings\n",
        "\n",
        "O framework permite criar embeddings a partir de arquivos externos para tornar mais leve a quantidade de dados que é enviado aos LLMs.\n",
        "\n",
        "Com este técnica, suponha que tenhamos um livro com 1000 páginas, mas somente 1 página é necessária para as análises, os embeddings ajudarão a separar a parte de interesse off-line e enviará somente a página para o modelo de LLM."
      ]
    },
    {
      "cell_type": "markdown",
      "metadata": {
        "id": "chr5o7GaXE24"
      },
      "source": [
        "Vamos utilizar o mesmo dataset de avaliações de clientes."
      ]
    },
    {
      "cell_type": "code",
      "execution_count": 105,
      "metadata": {
        "colab": {
          "base_uri": "https://localhost:8080/"
        },
        "id": "4F6Zl4hjNkUk",
        "outputId": "7be05511-2709-4b2a-ac03-12ac944bfe4f"
      },
      "outputs": [
        {
          "name": "stdout",
          "output_type": "stream",
          "text": [
            "fatal: destination path 'dataset-customer-evaluations' already exists and is not an empty directory.\n"
          ]
        }
      ],
      "source": [
        "!git clone https://github.com/michelpf/dataset-customer-evaluations"
      ]
    },
    {
      "cell_type": "markdown",
      "metadata": {
        "id": "4whELFncXHz_"
      },
      "source": [
        "Neste caso, vamos utilizar os dados do Mercado Livre."
      ]
    },
    {
      "cell_type": "code",
      "execution_count": 106,
      "metadata": {
        "colab": {
          "base_uri": "https://localhost:8080/",
          "height": 293
        },
        "id": "5Kz2LuRkNpOH",
        "outputId": "53ee6fdc-6ccb-489a-c5e9-ec65dc909bb9"
      },
      "outputs": [
        {
          "data": {
            "text/html": [
              "<div>\n",
              "<style scoped>\n",
              "    .dataframe tbody tr th:only-of-type {\n",
              "        vertical-align: middle;\n",
              "    }\n",
              "\n",
              "    .dataframe tbody tr th {\n",
              "        vertical-align: top;\n",
              "    }\n",
              "\n",
              "    .dataframe thead th {\n",
              "        text-align: right;\n",
              "    }\n",
              "</style>\n",
              "<table border=\"1\" class=\"dataframe\">\n",
              "  <thead>\n",
              "    <tr style=\"text-align: right;\">\n",
              "      <th></th>\n",
              "      <th>Pesquisa</th>\n",
              "      <th>Titulo</th>\n",
              "      <th>Link</th>\n",
              "      <th>Comentario</th>\n",
              "    </tr>\n",
              "  </thead>\n",
              "  <tbody>\n",
              "    <tr>\n",
              "      <th>0</th>\n",
              "      <td>smartphone</td>\n",
              "      <td>Smartphone Samsung Galaxy A14 Dual 6.6 128gb P...</td>\n",
              "      <td>https://produto.mercadolivre.com.br/MLB-331518...</td>\n",
              "      <td>A foto fica amarelada quando eu vou fotografar...</td>\n",
              "    </tr>\n",
              "    <tr>\n",
              "      <th>1</th>\n",
              "      <td>smartphone</td>\n",
              "      <td>Smartphone Samsung Galaxy A14 Dual 6.6 128gb P...</td>\n",
              "      <td>https://produto.mercadolivre.com.br/MLB-331518...</td>\n",
              "      <td>👏🏼👏🏼👏🏼👏🏼👏🏼👏🏼.</td>\n",
              "    </tr>\n",
              "    <tr>\n",
              "      <th>2</th>\n",
              "      <td>smartphone</td>\n",
              "      <td>Smartphone Samsung Galaxy A14 Dual 6.6 128gb P...</td>\n",
              "      <td>https://produto.mercadolivre.com.br/MLB-331518...</td>\n",
              "      <td>Muito bom.</td>\n",
              "    </tr>\n",
              "    <tr>\n",
              "      <th>3</th>\n",
              "      <td>smartphone</td>\n",
              "      <td>Smartphone Samsung Galaxy A14 Dual 6.6 128gb P...</td>\n",
              "      <td>https://produto.mercadolivre.com.br/MLB-331518...</td>\n",
              "      <td>Produto muito bom dei de presente pra meu filh...</td>\n",
              "    </tr>\n",
              "    <tr>\n",
              "      <th>4</th>\n",
              "      <td>smartphone</td>\n",
              "      <td>Smartphone Samsung Galaxy A14 Dual 6.6 128gb P...</td>\n",
              "      <td>https://produto.mercadolivre.com.br/MLB-331518...</td>\n",
              "      <td>Recomendo.</td>\n",
              "    </tr>\n",
              "  </tbody>\n",
              "</table>\n",
              "</div>"
            ],
            "text/plain": [
              "     Pesquisa                                             Titulo  \\\n",
              "0  smartphone  Smartphone Samsung Galaxy A14 Dual 6.6 128gb P...   \n",
              "1  smartphone  Smartphone Samsung Galaxy A14 Dual 6.6 128gb P...   \n",
              "2  smartphone  Smartphone Samsung Galaxy A14 Dual 6.6 128gb P...   \n",
              "3  smartphone  Smartphone Samsung Galaxy A14 Dual 6.6 128gb P...   \n",
              "4  smartphone  Smartphone Samsung Galaxy A14 Dual 6.6 128gb P...   \n",
              "\n",
              "                                                Link  \\\n",
              "0  https://produto.mercadolivre.com.br/MLB-331518...   \n",
              "1  https://produto.mercadolivre.com.br/MLB-331518...   \n",
              "2  https://produto.mercadolivre.com.br/MLB-331518...   \n",
              "3  https://produto.mercadolivre.com.br/MLB-331518...   \n",
              "4  https://produto.mercadolivre.com.br/MLB-331518...   \n",
              "\n",
              "                                          Comentario  \n",
              "0  A foto fica amarelada quando eu vou fotografar...  \n",
              "1                                      👏🏼👏🏼👏🏼👏🏼👏🏼👏🏼.  \n",
              "2                                         Muito bom.  \n",
              "3  Produto muito bom dei de presente pra meu filh...  \n",
              "4                                         Recomendo.  "
            ]
          },
          "execution_count": 106,
          "metadata": {},
          "output_type": "execute_result"
        }
      ],
      "source": [
        "df = pd.read_csv(\"dataset-customer-evaluations/dataset/ml_scrape_final.csv\")\n",
        "df.head()"
      ]
    },
    {
      "cell_type": "markdown",
      "metadata": {
        "id": "YNUJqkL0XMmu"
      },
      "source": [
        "Para o arquivo não ficar muito grande, vamos limitar o produto para smartphone."
      ]
    },
    {
      "cell_type": "code",
      "execution_count": 107,
      "metadata": {
        "id": "MxE9yF6AN__C"
      },
      "outputs": [],
      "source": [
        "df.query(\"Pesquisa == 'smartphone'\").to_csv(\"smartphone_review.csv\")"
      ]
    },
    {
      "cell_type": "code",
      "execution_count": 111,
      "metadata": {
        "id": "viCPP_R4NTEc"
      },
      "outputs": [],
      "source": [
        "from langchain_openai import ChatOpenAI\n",
        "from langchain.document_loaders import CSVLoader\n",
        "from langchain.vectorstores import DocArrayInMemorySearch\n",
        "from langchain.indexes import VectorstoreIndexCreator\n",
        "from langchain_openai import OpenAIEmbeddings\n",
        "from langchain_community.vectorstores import Chroma"
      ]
    },
    {
      "cell_type": "markdown",
      "metadata": {
        "id": "erxkgMZ4XK7i"
      },
      "source": [
        "Carregamos o arquivo no CSVLoader. Cada tipo de arquivo tem um loader diferente."
      ]
    },
    {
      "cell_type": "code",
      "execution_count": 109,
      "metadata": {
        "id": "zkKzSX2HNU0r"
      },
      "outputs": [],
      "source": [
        "loader = CSVLoader(file_path=\"smartphone_review.csv\")"
      ]
    },
    {
      "cell_type": "markdown",
      "metadata": {
        "id": "x03gbEN5XUkx"
      },
      "source": [
        "É criado um armazenamento vetorial, que são os embeddings com índices associados para as buscas."
      ]
    },
    {
      "cell_type": "code",
      "execution_count": 112,
      "metadata": {
        "colab": {
          "base_uri": "https://localhost:8080/"
        },
        "id": "n2hTN6kDNU5-",
        "outputId": "18fb2f1a-05dd-4560-cfd1-a1d5273c0ef2"
      },
      "outputs": [],
      "source": [
        "embedding_model = OpenAIEmbeddings(chunk_size=10)\n",
        "index = VectorstoreIndexCreator(vectorstore_cls=Chroma, embedding=embedding_model).from_loaders([loader])"
      ]
    },
    {
      "cell_type": "code",
      "execution_count": 113,
      "metadata": {
        "id": "5bH8Lk_rOayq"
      },
      "outputs": [],
      "source": [
        "query = \"List 3 revisões muito ruins de clientes, listando com o modelo e o link do produto.\""
      ]
    },
    {
      "cell_type": "code",
      "execution_count": 114,
      "metadata": {
        "id": "0fzuGxssWWmK"
      },
      "outputs": [],
      "source": [
        "chat_openai = ChatOpenAI(temperature=0.0, model=model)"
      ]
    },
    {
      "cell_type": "code",
      "execution_count": 115,
      "metadata": {
        "colab": {
          "base_uri": "https://localhost:8080/"
        },
        "id": "E8YbpJK7Oa1S",
        "outputId": "eeddd91d-6a88-405e-ee27-64b82f42e22a"
      },
      "outputs": [
        {
          "name": "stdout",
          "output_type": "stream",
          "text": [
            "\n",
            "\n",
            "\u001b[1m> Entering new RetrievalQA chain...\u001b[0m\n",
            "\n",
            "\u001b[1m> Finished chain.\u001b[0m\n"
          ]
        }
      ],
      "source": [
        "response = index.query(query, verbose=True, llm=chat_openai)"
      ]
    },
    {
      "cell_type": "code",
      "execution_count": 116,
      "metadata": {
        "colab": {
          "base_uri": "https://localhost:8080/",
          "height": 249
        },
        "id": "shqpf6YeOa8k",
        "outputId": "b3fdfbb5-7b33-436c-9839-67a7cfa01794"
      },
      "outputs": [
        {
          "data": {
            "text/markdown": [
              "1. **Smartphone Motorola Moto G22 Dual 6,5 128gb 4gb Ram Azul**\n",
              "   - **Comentário:** O smartphone é muito lento, realmente se alguém tivesse me dito isso antes não teria comprado.\n",
              "   - **Link:** [Ver produto](https://produto.mercadolivre.com.br/MLB-2660980219-smartphone-motorola-moto-g22-dual-65-128gb-4gb-ram-azul-_JM#position=48&search_layout=stack&type=item&tracking_id=4703b69b-1b0f-4cc2-b281-a641f81b3281)\n",
              "\n",
              "2. **Smartphone Moto E13 32gb Tela 6.5'' 2gb Ram Grafite Motorola**\n",
              "   - **Comentário:** O áudio do celular estar ruim e os vídeos sair ruim tbm.\n",
              "   - **Link:** [Ver produto](https://produto.mercadolivre.com.br/MLB-3140442935-smartphone-moto-e13-32gb-tela-65-2gb-ram-grafite-motorola-_JM#position=54&search_layout=stack&type=item&tracking_id=4703b69b-1b0f-4cc2-b281-a641f81b3281)\n",
              "\n",
              "3. **Smartphone Samsung Galaxy A14 Dual 6.6 128gb Preto 4gb Ram**\n",
              "   - **Comentário:** A foto fica amarelada quando eu vou fotografar com celular.\n",
              "   - **Link:** [Ver produto](https://produto.mercadolivre.com.br/MLB-3315181641-smartphone-samsung-galaxy-a14-dual-66-128gb-preto-4gb-ram-_JM#position=46&search_layout=stack&type=item&tracking_id=4703b69b-1b0f-4cc2-b281-a641f81b3281)"
            ],
            "text/plain": [
              "<IPython.core.display.Markdown object>"
            ]
          },
          "execution_count": 116,
          "metadata": {},
          "output_type": "execute_result"
        }
      ],
      "source": [
        "display_markdown(response)"
      ]
    },
    {
      "cell_type": "markdown",
      "metadata": {
        "id": "9VY9TyTEXjWS"
      },
      "source": [
        "Também podemos citar as fontes dos documentos utilizados."
      ]
    },
    {
      "cell_type": "code",
      "execution_count": 117,
      "metadata": {
        "colab": {
          "base_uri": "https://localhost:8080/"
        },
        "id": "pBRLLGqOPUtK",
        "outputId": "7a1e3629-e989-4062-bbc3-aa93f989951c"
      },
      "outputs": [
        {
          "name": "stdout",
          "output_type": "stream",
          "text": [
            "\n",
            "\n",
            "\u001b[1m> Entering new RetrievalQAWithSourcesChain chain...\u001b[0m\n",
            "\n",
            "\u001b[1m> Finished chain.\u001b[0m\n"
          ]
        }
      ],
      "source": [
        "response = index.query_with_sources(query, verbose=True, llm=chat_openai)"
      ]
    },
    {
      "cell_type": "code",
      "execution_count": 118,
      "metadata": {
        "colab": {
          "base_uri": "https://localhost:8080/"
        },
        "id": "oBgqTT4gPYs9",
        "outputId": "569bf7ba-389e-4f22-ec42-e6dbfd786efb"
      },
      "outputs": [
        {
          "data": {
            "text/plain": [
              "{'question': 'List 3 revisões muito ruins de clientes, listando com o modelo e o link do produto.',\n",
              " 'answer': \"1. Modelo: Smartphone Motorola Moto G22 Dual 6,5 128gb 4gb Ram Azul\\n   Link: https://produto.mercadolivre.com.br/MLB-2660980219-smartphone-motorola-moto-g22-dual-65-128gb-4gb-ram-azul-_JM#position=48&search_layout=stack&type=item&tracking_id=4703b69b-1b0f-4cc2-b281-a641f81b3281\\n   Revisão Ruim: O smartphone é muito lento, realmente se alguém tivesse me dito isso antes não teria comprado.\\n\\n2. Modelo: Smartphone Moto E13 32gb Tela 6.5'' 2gb Ram Grafite Motorola\\n   Link: https://produto.mercadolivre.com.br/MLB-3140442935-smartphone-moto-e13-32gb-tela-65-2gb-ram-grafite-motorola-_JM#position=54&search_layout=stack&type=item&tracking_id=4703b69b-1b0f-4cc2-b281-a641f81b3281\\n   Revisão Ruim: O áudio do celular estar ruim e os vídeos sair ruim tbm.\\n\\n3. Modelo: Smartphone Samsung Galaxy A14 Dual 6.6 128gb Preto 4gb Ram\\n   Link: https://produto.mercadolivre.com.br/MLB-3315181641-smartphone-samsung-galaxy-a14-dual-66-128gb-preto-4gb-ram-_JM#position=46&search_layout=stack&type=item&tracking_id=4703b69b-1b0f-4cc2-b281-a641f81b3281\\n   Revisão Ruim: A foto fica amarelada quando eu vou fotografar com celular.\\n\",\n",
              " 'sources': 'smartphone_review.csv'}"
            ]
          },
          "execution_count": 118,
          "metadata": {},
          "output_type": "execute_result"
        }
      ],
      "source": [
        "response"
      ]
    },
    {
      "cell_type": "code",
      "execution_count": 119,
      "metadata": {
        "id": "QKHAEHaHpdtm"
      },
      "outputs": [],
      "source": [
        "chat_openai = ChatOpenAI(temperature=0.0, model=model)"
      ]
    },
    {
      "cell_type": "markdown",
      "metadata": {
        "id": "kRr0XTflXpfF"
      },
      "source": [
        "Adicionamente podemos utilizar um loader de PDF e utilizar outros tipos de indexação offline."
      ]
    },
    {
      "cell_type": "code",
      "execution_count": 120,
      "metadata": {
        "colab": {
          "base_uri": "https://localhost:8080/"
        },
        "id": "C5CtuHC9QzKU",
        "outputId": "727293b2-5299-4908-851a-99cdc3b370df"
      },
      "outputs": [
        {
          "name": "stdout",
          "output_type": "stream",
          "text": [
            "Collecting pypdf\n",
            "  Downloading pypdf-5.4.0-py3-none-any.whl.metadata (7.3 kB)\n",
            "Collecting faiss-cpu\n",
            "  Downloading faiss_cpu-1.11.0-cp310-cp310-macosx_14_0_arm64.whl.metadata (4.8 kB)\n",
            "Requirement already satisfied: typing_extensions>=4.0 in /Users/michelpf/.pyenv/versions/3.10.13/lib/python3.10/site-packages (from pypdf) (4.13.2)\n",
            "Requirement already satisfied: numpy<3.0,>=1.25.0 in /Users/michelpf/.pyenv/versions/3.10.13/lib/python3.10/site-packages (from faiss-cpu) (2.2.5)\n",
            "Requirement already satisfied: packaging in /Users/michelpf/.pyenv/versions/3.10.13/lib/python3.10/site-packages (from faiss-cpu) (23.2)\n",
            "Downloading pypdf-5.4.0-py3-none-any.whl (302 kB)\n",
            "Downloading faiss_cpu-1.11.0-cp310-cp310-macosx_14_0_arm64.whl (3.3 MB)\n",
            "\u001b[2K   \u001b[90m━━━━━━━━━━━━━━━━━━━━━━━━━━━━━━━━━━━━━━━━\u001b[0m \u001b[32m3.3/3.3 MB\u001b[0m \u001b[31m6.0 MB/s\u001b[0m eta \u001b[36m0:00:00\u001b[0ma \u001b[36m0:00:01\u001b[0m\n",
            "\u001b[?25hInstalling collected packages: pypdf, faiss-cpu\n",
            "\u001b[2K   \u001b[90m━━━━━━━━━━━━━━━━━━━━━━━━━━━━━━━━━━━━━━━━\u001b[0m \u001b[32m2/2\u001b[0m [faiss-cpu]/2\u001b[0m [faiss-cpu]\n",
            "\u001b[1A\u001b[2KSuccessfully installed faiss-cpu-1.11.0 pypdf-5.4.0\n"
          ]
        }
      ],
      "source": [
        "!pip install pypdf faiss-cpu"
      ]
    },
    {
      "cell_type": "code",
      "execution_count": 121,
      "metadata": {
        "id": "GCBplqqQQ13W"
      },
      "outputs": [],
      "source": [
        "from langchain.document_loaders import PyPDFLoader\n",
        "\n",
        "loader = PyPDFLoader(\"docs/SM-A146M_Emb_BR_Rev.1.2.pdf\")\n",
        "pages = loader.load_and_split()"
      ]
    },
    {
      "cell_type": "markdown",
      "metadata": {
        "id": "1JiK-NDQXvhg"
      },
      "source": [
        "A indexação offline [FAISS](https://python.langchain.com/docs/integrations/vectorstores/faiss) é do Facebook para buscar similiaridade nos textos."
      ]
    },
    {
      "cell_type": "code",
      "execution_count": 123,
      "metadata": {
        "id": "7hkVwt5GRREu"
      },
      "outputs": [],
      "source": [
        "from langchain.vectorstores import FAISS\n",
        "from langchain_openai import OpenAIEmbeddings\n",
        "\n",
        "faiss_index = FAISS.from_documents(pages, OpenAIEmbeddings(chunk_size=10))"
      ]
    },
    {
      "cell_type": "code",
      "execution_count": 124,
      "metadata": {
        "colab": {
          "base_uri": "https://localhost:8080/"
        },
        "id": "zZ_DTqH8zz01",
        "outputId": "22fddae6-2402-45d5-dd0c-ac920983ec56"
      },
      "outputs": [
        {
          "data": {
            "text/plain": [
              "[Document(id='68bf9fda-7498-42f7-9ca2-ed46d6d35c4f', metadata={'producer': 'PyPDF', 'creator': 'PyPDF', 'creationdate': '2023-02-13T14:42:22-04:00', 'moddate': '2023-02-13T14:42:22-04:00', 'source': 'docs/SM-A146M_Emb_BR_Rev.1.2.pdf', 'total_pages': 114, 'page': 12, 'page_label': '13'}, page_content='Primeiros passos\\n13\\nLigar ou desligar seu aparelho\\nSiga todos os avisos e instruções recomendadas pelo pessoal autorizado em áreas \\nonde aparelhos sem fio são proibidos, tais como aviões e hospitais.\\nTecla Lateral\\nLigar o aparelho\\nMantenha pressionada a Tecla Lateral por alguns segundos para ligar o aparelho.\\nDesligar o aparelho\\n1 Para desligar o aparelho, mantenha as teclas Lateral e Diminuir volume pressionadas \\nsimultaneamente. Como alternativa, abra o painel de notificações e toque em \\n .\\n2 Toque em Desligar.\\nPara reiniciar o aparelho, toque em Reiniciar.\\nForçar reinício\\nSe o seu aparelho estiver travado e sem operação, mantenha as teclas Lateral e \\nDiminuir volume pressionadas simultaneamente por aproximadamente 7 segundos \\npara reiniciá-lo.\\nConfiguração inicial\\nAo ligar pela primeira vez ou após executar uma restauração de dados, siga as instruções \\nna tela para configurá-lo.\\nSe você não se conectar a uma rede Wi-Fi, você não conseguirá definir algumas \\nfunções do aparelho durante a configuração inicial.'),\n",
              " Document(id='ef598c17-0184-4f31-a607-765f6d4c81ba', metadata={'producer': 'PyPDF', 'creator': 'PyPDF', 'creationdate': '2023-02-13T14:42:22-04:00', 'moddate': '2023-02-13T14:42:22-04:00', 'source': 'docs/SM-A146M_Emb_BR_Rev.1.2.pdf', 'total_pages': 114, 'page': 107, 'page_label': '108'}, page_content='Apêndice\\n108\\nApêndice\\nSolução de problemas\\nAntes de contatar a Central de Atendimento Samsung, tente as seguintes soluções. \\nAlgumas situações podem não se aplicar ao seu aparelho.\\nVocê também pode usar o Samsung Members para resolver qualquer problema que \\nencontre enquanto usa o aparelho.\\nAo ligar seu aparelho ou enquanto o usa, a inserção de um dos \\nseguintes códigos pode ser solicitada:\\n•  Senha: quando a função de bloqueio do aparelho está ativada, você precisa inserir \\na senha que configurou para desbloqueá-lo.\\n•  PIN: ao usar o aparelho pela primeira vez ou quando a solicitação de PIN está \\nativada, você precisa inserir o PIN fornecido com seu chip. Você pode desativar \\nessa função. Na tela de configurações, toque em Segurança e privacidade → \\nOutras config. de segurança → Conf. bloqueio cartão SIM.\\n•  PUK: seu chip bloqueia normalmente como resultado de inserir seu PIN \\nincorretamente várias vezes. Você deve inserir o PUK fornecido pela sua operadora \\nde serviços.\\n•  PIN2: ao acessar um menu que requer o PIN2, precisa ser inserido o PIN2 fornecido \\ncom o chip. Para maiores detalhes, contate sua operadora de serviços.\\nSeu aparelho exibe mensagens de erro de rede ou falha no serviço\\n•  Quando você está em áreas com sinal fraco ou recepção fraca, você pode perder a \\nrecepção do sinal. Vá para outra área e tente novamente. Ao se mover, mensagens \\nde erro podem aparecer repetidamente.\\n•  Você pode não acessar algumas opções sem um plano de dados. Para maiores \\ndetalhes, contate sua operadora de serviços.\\nSeu aparelho não liga\\nQuando a bateria estiver completamente descarregada, seu aparelho não ligará. \\nCarregue a bateria completamente antes de ligar o aparelho.'),\n",
              " Document(id='624d8391-7c4c-443d-ab22-b70c4fd17b8b', metadata={'producer': 'PyPDF', 'creator': 'PyPDF', 'creationdate': '2023-02-13T14:42:22-04:00', 'moddate': '2023-02-13T14:42:22-04:00', 'source': 'docs/SM-A146M_Emb_BR_Rev.1.2.pdf', 'total_pages': 114, 'page': 109, 'page_label': '110'}, page_content='Apêndice\\n110\\nAs chamadas recebidas não são conectadas\\n•  Certifique-se de que acessou a rede de telefonia correta.\\n•  Certifique-se de que não configurou a restrição de chamada para o número que \\nestá ligando.\\n•  Certifique-se de que você não configurou a restrição de chamada para o número \\nque está recebendo a chamada.\\nAs pessoas não conseguem ouvi-lo durante uma chamada\\n•  Certifique-se de que você não está bloqueando o microfone.\\n•  Certifique-se de que o microfone está próximo à sua boca.\\n•  Se você estiver utilizando um fone de ouvido, certifique-se de que ele está \\ncorretamente conectado.\\nO som ecoa durante uma chamada\\nAjuste o volume ao pressionar a Tecla Volume ou vá para outra área.\\nA rede móvel ou a internet é desconectada muitas vezes ou a \\nqualidade do áudio é ruim\\n•  Certifique-se de que você não está bloqueando a antena interna do aparelho.\\n•  Quando você está em áreas com sinal fraco ou recepção fraca, você pode perder a \\nrecepção do sinal. Você poderá ter problemas de conectividade devido a problemas \\ncom a estação rádio base da operadora. Vá para outra área e tente novamente.\\n•  Quando utilizar o aparelho em movimento, os serviços de rede sem fio poderão ser \\ndesativados devido a problemas com a rede da operadora.\\nA bateria não carrega corretamente (Em caso de utilizar \\ncarregadores Samsung)\\n•  Certifique-se de que o carregador está conectado corretamente.\\n•  Visite um Centro de Serviços Samsung para trocar a bateria.\\n•  Para carregadores não Samsung, contate o fabricante do carregador.'),\n",
              " Document(id='b09eb8aa-81ef-4329-b11f-d84f47c2e6b5', metadata={'producer': 'PyPDF', 'creator': 'PyPDF', 'creationdate': '2023-02-13T14:42:22-04:00', 'moddate': '2023-02-13T14:42:22-04:00', 'source': 'docs/SM-A146M_Emb_BR_Rev.1.2.pdf', 'total_pages': 114, 'page': 7, 'page_label': '8'}, page_content='Primeiros passos\\n8\\n • Para economizar energia, desconecte o carregador da tomada quando não \\nestiver em uso. O carregador não possui um botão de liga e desliga, então você \\ndeve retirar da tomada para evitar desperdício de energia. O carregador deve \\npermanecer na tomada e facilmente acessível enquanto carregar.\\n • Ao usar um carregador, é recomendável usar um aprovado que garanta o \\ndesempenho do carregamento.\\n • Se a bateria estiver completamente descarregada, você não conseguirá ligar o \\naparelho, mesmo que o carregador esteja conectado. Aguarde a bateria carregar \\npor alguns minutos antes de tentar ligar o aparelho.\\n • Se utilizar vários aplicativos ao mesmo tempo, tais como aplicativos de rede ou \\naplicativos que precisem da conexão de outro aparelho, a bateria descarregará \\nrapidamente. Para evitar desconexão da rede ou esgotar a bateria durante \\numa transferência de dados, use sempre esses aplicativos após carregar \\ncompletamente a bateria.\\n • Usar uma fonte de energia diferente do carregador USB, por exemplo, um \\ncomputador, pode resultar em lentidão ao carregar a bateria devido à corrente \\nelétrica ser mais baixa.\\n • O aparelho pode ser utilizado enquanto carrega, porém pode levar mais tempo \\npara carregar a bateria completamente.\\n • Se o aparelho receber uma fonte de alimentação instável enquanto carrega, o \\ntouch screen pode não funcionar. Se isto acontecer, desconecte o carregador.\\n • O aparelho pode aquecer enquanto carrega. Isto é normal e não deve afetar a \\nvida útil ou desempenho dele. Se a bateria aquecer mais do que o normal, o \\ncarregador pode parar de funcionar.\\n • Se o seu aparelho não carregar adequadamente, leve para um Centro de Serviços \\nSamsung.')]"
            ]
          },
          "execution_count": 124,
          "metadata": {},
          "output_type": "execute_result"
        }
      ],
      "source": [
        "query = \"O que fazer se o aparelho não liga?\"\n",
        "docs = faiss_index.similarity_search(query)\n",
        "docs"
      ]
    },
    {
      "cell_type": "code",
      "execution_count": 125,
      "metadata": {
        "colab": {
          "base_uri": "https://localhost:8080/"
        },
        "id": "IOgfacfn0B_8",
        "outputId": "fc6971dd-9de1-45ef-82e0-b3d18da0fb8a"
      },
      "outputs": [
        {
          "name": "stdout",
          "output_type": "stream",
          "text": [
            "12: Primeiros passos\n",
            "13\n",
            "Ligar ou desligar seu aparelho\n",
            "Siga todos os avisos e instruções recomendadas pelo pessoal autorizado em áreas \n",
            "onde aparelhos sem fio são proibidos, tais como aviões e hospitais.\n",
            "Tecla Lateral\n",
            "Ligar o aparelho\n",
            "Mantenha pressionada a Tecla Lateral por alguns segundos para ligar o aparelho.\n",
            "Desligar o aparelho\n",
            "1 Para desligar o aparelho, mantenha as teclas Lateral e Diminuir volume pressionadas \n",
            "simultaneamente. Como alternativa, abra o painel de notificações e toque em \n",
            " .\n",
            "2 Toque em Desligar.\n",
            "Para reiniciar o aparelho, toque em Reiniciar.\n",
            "Forçar reinício\n",
            "Se o seu aparelho estiver travado e sem operação, mantenha as teclas Lateral e \n",
            "Diminuir volume pressionadas simultaneamente por aproximadamente 7 segundos \n",
            "para reiniciá-lo.\n",
            "Configuração inicial\n",
            "Ao ligar pela primeira vez ou após executar uma restauração de dados, siga as instruções \n",
            "na tela para configurá-lo.\n",
            "Se você não se conectar a uma rede Wi-Fi, você não conseguirá definir algumas \n",
            "funções do aparelho durante a configuração inicial.\n",
            "107: Apêndice\n",
            "108\n",
            "Apêndice\n",
            "Solução de problemas\n",
            "Antes de contatar a Central de Atendimento Samsung, tente as seguintes soluções. \n",
            "Algumas situações podem não se aplicar ao seu aparelho.\n",
            "Você também pode usar o Samsung Members para resolver qualquer problema que \n",
            "encontre enquanto usa o aparelho.\n",
            "Ao ligar seu aparelho ou enquanto o usa, a inserção de um dos \n",
            "seguintes códigos pode ser solicitada:\n",
            "•  Senha: quando a função de bloqueio do aparelho está ativada, você precisa inserir \n",
            "a senha que configurou para desbloqueá-lo.\n",
            "•  PIN: ao usar o aparelho pela primeira vez ou quando a solicitação de PIN está \n",
            "ativada, você precisa inserir o PIN fornecido com seu chip. Você pode desativar \n",
            "essa função. Na tela de configurações, toque em Segurança e privacidade → \n",
            "Outras config. de segurança → Conf. bloqueio cartão SIM.\n",
            "•  PUK: seu chip bloqueia normalmente como resultado de inserir seu PIN \n",
            "incorretamente várias vezes. Você deve inserir o PUK fornecido pela sua operadora \n",
            "de serviços.\n",
            "•  PIN2: ao acessar um menu que requer o PIN2, precisa ser inserido o PIN2 fornecido \n",
            "com o chip. Para maiores detalhes, contate sua operadora de serviços.\n",
            "Seu aparelho exibe mensagens de erro de rede ou falha no serviço\n",
            "•  Quando você está em áreas com sinal fraco ou recepção fraca, você pode perder a \n",
            "recepção do sinal. Vá para outra área e tente novamente. Ao se mover, mensagens \n",
            "de erro podem aparecer repetidamente.\n",
            "•  Você pode não acessar algumas opções sem um plano de dados. Para maiores \n",
            "detalhes, contate sua operadora de serviços.\n",
            "Seu aparelho não liga\n",
            "Quando a bateria estiver completamente descarregada, seu aparelho não ligará. \n",
            "Carregue a bateria completamente antes de ligar o aparelho.\n",
            "109: Apêndice\n",
            "110\n",
            "As chamadas recebidas não são conectadas\n",
            "•  Certifique-se de que acessou a rede de telefonia correta.\n",
            "•  Certifique-se de que não configurou a restrição de chamada para o número que \n",
            "está ligando.\n",
            "•  Certifique-se de que você não configurou a restrição de chamada para o número \n",
            "que está recebendo a chamada.\n",
            "As pessoas não conseguem ouvi-lo durante uma chamada\n",
            "•  Certifique-se de que você não está bloqueando o microfone.\n",
            "•  Certifique-se de que o microfone está próximo à sua boca.\n",
            "•  Se você estiver utilizando um fone de ouvido, certifique-se de que ele está \n",
            "corretamente conectado.\n",
            "O som ecoa durante uma chamada\n",
            "Ajuste o volume ao pressionar a Tecla Volume ou vá para outra área.\n",
            "A rede móvel ou a internet é desconectada muitas vezes ou a \n",
            "qualidade do áudio é ruim\n",
            "•  Certifique-se de que você não está bloqueando a antena interna do aparelho.\n",
            "•  Quando você está em áreas com sinal fraco ou recepção fraca, você pode perder a \n",
            "recepção do sinal. Você poderá ter problemas de conectividade devido a problemas \n",
            "com a estação rádio base da operadora. Vá para outra área e tente novamente.\n",
            "•  Quando utilizar o aparelho em movimento, os serviços de rede sem fio poderão ser \n",
            "desativados devido a problemas com a rede da operadora.\n",
            "A bateria não carrega corretamente (Em caso de utilizar \n",
            "carregadores Samsung)\n",
            "•  Certifique-se de que o carregador está conectado corretamente.\n",
            "•  Visite um Centro de Serviços Samsung para trocar a bateria.\n",
            "•  Para carregadores não Samsung, contate o fabricante do carregador.\n",
            "7: Primeiros passos\n",
            "8\n",
            " • Para economizar energia, desconecte o carregador da tomada quando não \n",
            "estiver em uso. O carregador não possui um botão de liga e desliga, então você \n",
            "deve retirar da tomada para evitar desperdício de energia. O carregador deve \n",
            "permanecer na tomada e facilmente acessível enquanto carregar.\n",
            " • Ao usar um carregador, é recomendável usar um aprovado que garanta o \n",
            "desempenho do carregamento.\n",
            " • Se a bateria estiver completamente descarregada, você não conseguirá ligar o \n",
            "aparelho, mesmo que o carregador esteja conectado. Aguarde a bateria carregar \n",
            "por alguns minutos antes de tentar ligar o aparelho.\n",
            " • Se utilizar vários aplicativos ao mesmo tempo, tais como aplicativos de rede ou \n",
            "aplicativos que precisem da conexão de outro aparelho, a bateria descarregará \n",
            "rapidamente. Para evitar desconexão da rede ou esgotar a bateria durante \n",
            "uma transferência de dados, use sempre esses aplicativos após carregar \n",
            "completamente a bateria.\n",
            " • Usar uma fonte de energia diferente do carregador USB, por exemplo, um \n",
            "computador, pode resultar em lentidão ao carregar a bateria devido à corrente \n",
            "elétrica ser mais baixa.\n",
            " • O aparelho pode ser utilizado enquanto carrega, porém pode levar mais tempo \n",
            "para carregar a bateria completamente.\n",
            " • Se o aparelho receber uma fonte de alimentação instável enquanto carrega, o \n",
            "touch screen pode não funcionar. Se isto acontecer, desconecte o carregador.\n",
            " • O aparelho pode aquecer enquanto carrega. Isto é normal e não deve afetar a \n",
            "vida útil ou desempenho dele. Se a bateria aquecer mais do que o normal, o \n",
            "carregador pode parar de funcionar.\n",
            " • Se o seu aparelho não carregar adequadamente, leve para um Centro de Serviços \n",
            "Samsung.\n"
          ]
        }
      ],
      "source": [
        "for doc in docs:\n",
        "    print(str(doc.metadata[\"page\"]) + \":\", doc.page_content)"
      ]
    },
    {
      "cell_type": "markdown",
      "metadata": {
        "id": "0ISjbxymX4IS"
      },
      "source": [
        "Ou podemos fazer a mesma coisa que fizemos com o arquivo CSV e criar os embeddings e depois buscar pelo índice, trazendo o modelo de LLM para ajudar na busca do mesmo."
      ]
    },
    {
      "cell_type": "code",
      "execution_count": null,
      "metadata": {
        "colab": {
          "base_uri": "https://localhost:8080/"
        },
        "id": "6ch4anMRRRKH",
        "outputId": "36bd629c-3a06-4ba1-910c-e0508997b6c2"
      },
      "outputs": [],
      "source": [
        "embedding_model = OpenAIEmbeddings(chunk_size=10)\n",
        "index = VectorstoreIndexCreator(vectorstore_cls=FAISS, embedding=embedding_model).from_loaders([loader])"
      ]
    },
    {
      "cell_type": "code",
      "execution_count": 127,
      "metadata": {
        "id": "2m5zu95HSnVm"
      },
      "outputs": [],
      "source": [
        "query = \"O que fazer se o aparelho não ligar?\""
      ]
    },
    {
      "cell_type": "code",
      "execution_count": 128,
      "metadata": {
        "id": "CWzC7QV8RRMe"
      },
      "outputs": [],
      "source": [
        "response = index.query(query, llm=chat_openai)"
      ]
    },
    {
      "cell_type": "code",
      "execution_count": 129,
      "metadata": {
        "colab": {
          "base_uri": "https://localhost:8080/",
          "height": 98
        },
        "id": "sQ-IjrxrSr2W",
        "outputId": "b6f3936a-ef03-44ae-aaad-6b0ed015202b"
      },
      "outputs": [
        {
          "data": {
            "text/markdown": [
              "Se o seu aparelho não ligar, mesmo estando conectado ao carregador, pode ser necessário aguardar alguns minutos para permitir que a bateria se recarregue o suficiente para ligar o aparelho. Se mesmo após esperar um tempo a situação persistir, você pode tentar forçar o reinício do aparelho mantendo as teclas Lateral e Diminuir volume pressionadas por mais de 7 segundos. Se ainda assim o problema não for resolvido, você pode tentar restaurar o aparelho para as configurações de fábrica. Lembre-se de fazer um backup de todos os dados importantes antes de executar essa ação."
            ],
            "text/plain": [
              "<IPython.core.display.Markdown object>"
            ]
          },
          "execution_count": 129,
          "metadata": {},
          "output_type": "execute_result"
        }
      ],
      "source": [
        "display_markdown(response)"
      ]
    },
    {
      "cell_type": "code",
      "execution_count": 130,
      "metadata": {
        "id": "1fCrPWkHSzCO"
      },
      "outputs": [],
      "source": [
        "response = index.query_with_sources(query, llm=chat_openai)"
      ]
    },
    {
      "cell_type": "code",
      "execution_count": 131,
      "metadata": {
        "colab": {
          "base_uri": "https://localhost:8080/"
        },
        "id": "UgS5JemaSzJc",
        "outputId": "03b141d2-7904-43d1-9a97-ff708d0153f9"
      },
      "outputs": [
        {
          "data": {
            "text/plain": [
              "{'question': 'O que fazer se o aparelho não ligar?',\n",
              " 'answer': 'Se o aparelho não ligar, é recomendado forçar um reinício mantendo as teclas Lateral e Diminuir volume pressionadas por mais de 7 segundos. Se o problema persistir, é aconselhável executar uma restauração para o padrão de fábrica. Certifique-se de fazer um backup de todos os dados importantes antes de prosseguir com a restauração.\\n',\n",
              " 'sources': 'docs/SM-A146M_Emb_BR_Rev.1.2.pdf'}"
            ]
          },
          "execution_count": 131,
          "metadata": {},
          "output_type": "execute_result"
        }
      ],
      "source": [
        "response"
      ]
    },
    {
      "cell_type": "markdown",
      "metadata": {
        "id": "uXwNhHQDNqCy"
      },
      "source": [
        "## Agentes\n",
        "\n",
        "Os agentes são ações que podem ser disparados a partir dos modelos LLM.\n",
        "\n",
        "A idéia principal é que cada agente possui um \"pensamento\", uma determinação de qual \"ação\" realizar e depois delegar ao \"agente\" especificado, dentro das descrições passadas."
      ]
    },
    {
      "cell_type": "code",
      "execution_count": 132,
      "metadata": {
        "colab": {
          "base_uri": "https://localhost:8080/"
        },
        "id": "iS24ywdW6ld7",
        "outputId": "35b92a6c-9957-4fb1-f678-bad15af01394"
      },
      "outputs": [
        {
          "name": "stdout",
          "output_type": "stream",
          "text": [
            "Collecting langchainhub\n",
            "  Downloading langchainhub-0.1.21-py3-none-any.whl.metadata (659 bytes)\n",
            "Requirement already satisfied: packaging<25,>=23.2 in /Users/michelpf/.pyenv/versions/3.10.13/lib/python3.10/site-packages (from langchainhub) (23.2)\n",
            "Requirement already satisfied: requests<3,>=2 in /Users/michelpf/.pyenv/versions/3.10.13/lib/python3.10/site-packages (from langchainhub) (2.31.0)\n",
            "Requirement already satisfied: types-requests<3.0.0.0,>=2.31.0.2 in /Users/michelpf/.pyenv/versions/3.10.13/lib/python3.10/site-packages (from langchainhub) (2.32.0.20250328)\n",
            "Requirement already satisfied: charset-normalizer<4,>=2 in /Users/michelpf/.pyenv/versions/3.10.13/lib/python3.10/site-packages (from requests<3,>=2->langchainhub) (3.3.2)\n",
            "Requirement already satisfied: idna<4,>=2.5 in /Users/michelpf/.pyenv/versions/3.10.13/lib/python3.10/site-packages (from requests<3,>=2->langchainhub) (3.6)\n",
            "Requirement already satisfied: urllib3<3,>=1.21.1 in /Users/michelpf/.pyenv/versions/3.10.13/lib/python3.10/site-packages (from requests<3,>=2->langchainhub) (2.0.7)\n",
            "Requirement already satisfied: certifi>=2017.4.17 in /Users/michelpf/.pyenv/versions/3.10.13/lib/python3.10/site-packages (from requests<3,>=2->langchainhub) (2024.2.2)\n",
            "Downloading langchainhub-0.1.21-py3-none-any.whl (5.2 kB)\n",
            "Installing collected packages: langchainhub\n",
            "Successfully installed langchainhub-0.1.21\n"
          ]
        }
      ],
      "source": [
        "!pip install langchainhub"
      ]
    },
    {
      "cell_type": "code",
      "execution_count": 169,
      "metadata": {
        "id": "4eOFJDdkNrsV"
      },
      "outputs": [],
      "source": [
        "from langchain.agents import load_tools\n",
        "from langchain.agents import AgentType, Tool, create_json_chat_agent, create_react_agent, AgentExecutor\n",
        "from langchain_openai import ChatOpenAI"
      ]
    },
    {
      "cell_type": "code",
      "execution_count": 138,
      "metadata": {
        "id": "P6f39KTkMcEj"
      },
      "outputs": [
        {
          "name": "stderr",
          "output_type": "stream",
          "text": [
            "/Users/michelpf/.pyenv/versions/3.10.13/lib/python3.10/site-packages/langsmith/client.py:272: LangSmithMissingAPIKeyWarning: API key must be provided when using hosted LangSmith API\n",
            "  warnings.warn(\n"
          ]
        }
      ],
      "source": [
        "from langchain import hub\n",
        "\n",
        "prompt = hub.pull(\"hwchase17/react-chat-json\")"
      ]
    },
    {
      "cell_type": "code",
      "execution_count": 139,
      "metadata": {},
      "outputs": [],
      "source": [
        "model = \"gpt-4.1-mini\""
      ]
    },
    {
      "cell_type": "code",
      "execution_count": 140,
      "metadata": {
        "id": "XcWX4u4RAsLH"
      },
      "outputs": [],
      "source": [
        "chat_openai = ChatOpenAI(temperature=0, model=model)"
      ]
    },
    {
      "cell_type": "markdown",
      "metadata": {
        "id": "LSSS0TgYYQxW"
      },
      "source": [
        "Vamos carregar a ferramenta (ou agente) para operações matemáticas."
      ]
    },
    {
      "cell_type": "code",
      "execution_count": 142,
      "metadata": {},
      "outputs": [
        {
          "name": "stdout",
          "output_type": "stream",
          "text": [
            "Collecting numexpr\n",
            "  Downloading numexpr-2.10.2-cp310-cp310-macosx_11_0_arm64.whl.metadata (8.1 kB)\n",
            "Requirement already satisfied: numpy>=1.23.0 in /Users/michelpf/.pyenv/versions/3.10.13/lib/python3.10/site-packages (from numexpr) (2.2.5)\n",
            "Downloading numexpr-2.10.2-cp310-cp310-macosx_11_0_arm64.whl (134 kB)\n",
            "Installing collected packages: numexpr\n",
            "Successfully installed numexpr-2.10.2\n"
          ]
        }
      ],
      "source": [
        "!pip install numexpr"
      ]
    },
    {
      "cell_type": "code",
      "execution_count": 143,
      "metadata": {
        "id": "FptZBDmdAzgF"
      },
      "outputs": [],
      "source": [
        "tools = load_tools([\"llm-math\"], llm=chat_openai)"
      ]
    },
    {
      "cell_type": "code",
      "execution_count": 144,
      "metadata": {
        "id": "YEttIBDN7b2D"
      },
      "outputs": [],
      "source": [
        "agent = create_json_chat_agent(\n",
        "    chat_openai,\n",
        "    tools,\n",
        "    prompt)"
      ]
    },
    {
      "cell_type": "code",
      "execution_count": 145,
      "metadata": {
        "id": "dtTt2UviM-vw"
      },
      "outputs": [],
      "source": [
        "agent_executor = AgentExecutor(\n",
        "    agent=agent, tools=tools, verbose=True, handle_parsing_errors=True\n",
        ")"
      ]
    },
    {
      "cell_type": "code",
      "execution_count": 146,
      "metadata": {
        "colab": {
          "base_uri": "https://localhost:8080/"
        },
        "id": "dR-7m-npNCfa",
        "outputId": "8534436c-7f94-432c-b0cd-dd062fc6d28c"
      },
      "outputs": [
        {
          "name": "stdout",
          "output_type": "stream",
          "text": [
            "\n",
            "\n",
            "\u001b[1m> Entering new AgentExecutor chain...\u001b[0m\n",
            "\u001b[32;1m\u001b[1;3m```json\n",
            "{\n",
            "  \"action\": \"Calculator\",\n",
            "  \"action_input\": \"sqrt(5) - 0.75\"\n",
            "}\n",
            "```\u001b[0m\u001b[36;1m\u001b[1;3mAnswer: 1.4860679774997898\u001b[0m\u001b[32;1m\u001b[1;3m```json\n",
            "{\n",
            "  \"action\": \"Final Answer\",\n",
            "  \"action_input\": \"A raiz quadrada de 5 menos 0,75 é aproximadamente 1,49.\"\n",
            "}\n",
            "```\u001b[0m\n",
            "\n",
            "\u001b[1m> Finished chain.\u001b[0m\n"
          ]
        },
        {
          "data": {
            "text/plain": [
              "{'input': 'Quanto é raiz quadrada de 5 menos 0,75?',\n",
              " 'output': 'A raiz quadrada de 5 menos 0,75 é aproximadamente 1,49.'}"
            ]
          },
          "execution_count": 146,
          "metadata": {},
          "output_type": "execute_result"
        }
      ],
      "source": [
        "agent_executor.invoke({\"input\": \"Quanto é raiz quadrada de 5 menos 0,75?\"})"
      ]
    },
    {
      "cell_type": "markdown",
      "metadata": {
        "id": "gsOf02KgYla3"
      },
      "source": [
        "Podemos escolher outra ferramenta, neste caso o Wikipedia, para interagir com os dados armazenados."
      ]
    },
    {
      "cell_type": "code",
      "execution_count": 147,
      "metadata": {
        "id": "7iicA-9jOSJq"
      },
      "outputs": [],
      "source": [
        "tools = load_tools([\"wikipedia\"], llm=chat_openai)"
      ]
    },
    {
      "cell_type": "code",
      "execution_count": 148,
      "metadata": {
        "id": "T8zGlR_DNyzB"
      },
      "outputs": [
        {
          "name": "stderr",
          "output_type": "stream",
          "text": [
            "/Users/michelpf/.pyenv/versions/3.10.13/lib/python3.10/site-packages/langsmith/client.py:272: LangSmithMissingAPIKeyWarning: API key must be provided when using hosted LangSmith API\n",
            "  warnings.warn(\n"
          ]
        }
      ],
      "source": [
        "prompt = hub.pull(\"hwchase17/react\")"
      ]
    },
    {
      "cell_type": "code",
      "execution_count": 149,
      "metadata": {
        "id": "6ShsI5iINcb8"
      },
      "outputs": [],
      "source": [
        "agent = create_react_agent(\n",
        "    chat_openai,\n",
        "    tools,\n",
        "    prompt)"
      ]
    },
    {
      "cell_type": "code",
      "execution_count": 150,
      "metadata": {
        "id": "MpwxW5WLNcvy"
      },
      "outputs": [],
      "source": [
        "agent_executor = AgentExecutor(\n",
        "    agent=agent, tools=tools, verbose=True, handle_parsing_errors=True\n",
        ")"
      ]
    },
    {
      "cell_type": "code",
      "execution_count": 151,
      "metadata": {
        "colab": {
          "base_uri": "https://localhost:8080/"
        },
        "id": "QPWu3mXGPe1h",
        "outputId": "6c466f9e-54f9-4226-a2c3-8abebc5d2c4b"
      },
      "outputs": [
        {
          "name": "stdout",
          "output_type": "stream",
          "text": [
            "\n",
            "\n",
            "\u001b[1m> Entering new AgentExecutor chain...\u001b[0m\n",
            "\u001b[32;1m\u001b[1;3mQuestion: Quem é o fundador da Gurgel?\n",
            "Thought: Para responder a essa pergunta, vou buscar informações sobre a Gurgel no Wikipedia para identificar quem é o fundador da empresa.\n",
            "Action: wikipedia\n",
            "Action Input: Gurgel (empresa)\u001b[0m\u001b[36;1m\u001b[1;3mPage: Flávio Rocha\n",
            "Summary: Flávio Gurgel Rocha (born 14 February 1958) is a Brazilian former federal deputy and businessman, current CEO and Chairman of Lojas Riachuelo, one of the largest retailers in the country.\n",
            "\n",
            "Page: Social security in Brazil\n",
            "Summary: Social security in Brazil has its origins in the 1824 Constitution, through a 'public aid' system supported by private initiatives, such as the Santa Casa de Misericórdia. Social security, along with public health and social assistance, forms part of the broader social welfare system. The Instituto Nacional do Seguro Social (National Social Security Institute - INSS), responsible for managing social security benefits, was established by Decree No. 99,350 on June 27, 1990. The INSS resulted from the merger of the Instituto de Administração Financeira da Previdência e Assistência Social (IAPAS), founded in 1977, and the Instituto Nacional de Previdência Social (INPS), created in 1966.\n",
            "\n",
            "\n",
            "\n",
            "Page: Automotive industry in Brazil\n",
            "Summary: The Brazilian automotive industry is coordinated by the Associação Nacional dos Fabricantes de Veículos Automotores (Anfavea), created in 1956, which includes automakers (cars, light vehicles, trucks, buses and agriculture machines) with factories in Brazil. Anfavea is part of the Organisation Internationale des Constructeurs d'Automobiles (OICA), based in Paris. In 2021, the annual production exceeded 2.2 million vehicles, the 8th largest in the world.\n",
            "Most large global automotive companies are present in Brazil, such as: BMW, BYD, Chery, Fiat, Ford, Geely, General Motors, Honda, Hyundai, JAC Motors, Kia, Land Rover, Lexus, Lifan, Mercedes-Benz, Mitsubishi, Nissan Motors, Renault, Stellantis, Subaru, Toyota, Volkswagen, Volvo Trucks, among others, as well as national companies such as Agrale, Marcopolo, Randon, and more. In the past there were national brands such as DKW Vemag, FNM, Gurgel, and Troller. Some traditionally produced modern equipped replicas of older models.\u001b[0m\u001b[32;1m\u001b[1;3mThought: The search for \"Gurgel (empresa)\" did not return a direct answer about the founder of Gurgel, but it did mention the company in the context of the Brazilian automotive industry. I know Gurgel is a Brazilian car manufacturer. I will try searching specifically for \"Gurgel fundador\" to find the founder's name.\n",
            "\n",
            "Action: wikipedia\n",
            "Action Input: Gurgel fundador\u001b[0m\u001b[36;1m\u001b[1;3mPage: João do Amaral Gurgel\n",
            "Summary: João Augusto Conrado do Amaral Gurgel (March 26, 1926 – January 30, 2009) was a Brazilian engineer and businessman. He founded Gurgel Motores, a Brazilian automobile manufacturer, in 1969, with the aim of producing vehicles entirely made in Brazil. The company's initial models featured fiberglass bodies mounted on Volkswagen Beetle (Fusca) chassis and machinery.\n",
            "During the São Paulo International Motor Show in 1974, Gurgel presented the Itaipu, a two-seater minicar that became the first electric vehicle developed in Latin America. Later on, he introduced the BR-800, the first fully designed and manufactured car made in Brazil.\n",
            "However, Gurgel faced challenges over the years and eventually ceased operations in 1996.\n",
            "\n",
            "Page: Deaths in January 2009\n",
            "Summary: \n",
            "\n",
            "Page: 2017 in Brazil\n",
            "Summary: Events in the year 2017 in Brazil.\u001b[0m\u001b[32;1m\u001b[1;3mThought: The search for \"Gurgel fundador\" returned a clear answer that João Augusto Conrado do Amaral Gurgel is the founder of Gurgel Motores, a Brazilian automobile manufacturer.\n",
            "Final Answer: O fundador da Gurgel é João Augusto Conrado do Amaral Gurgel.\u001b[0m\n",
            "\n",
            "\u001b[1m> Finished chain.\u001b[0m\n"
          ]
        },
        {
          "data": {
            "text/plain": [
              "{'input': 'Quem é o fundador da Gurgel?',\n",
              " 'output': 'O fundador da Gurgel é João Augusto Conrado do Amaral Gurgel.'}"
            ]
          },
          "execution_count": 151,
          "metadata": {},
          "output_type": "execute_result"
        }
      ],
      "source": [
        "agent_executor.invoke({\"input\": \"Quem é o fundador da Gurgel?\"})"
      ]
    },
    {
      "cell_type": "markdown",
      "metadata": {
        "id": "VhuECQOAYtIS"
      },
      "source": [
        "Existem diversos tipos de ferramentas que podem ser utilizadas, como por exemplo o acesso ao Pubmed, um repositório de artigos médicos."
      ]
    },
    {
      "cell_type": "code",
      "execution_count": 168,
      "metadata": {
        "id": "hmmzdVdIPwSz"
      },
      "outputs": [],
      "source": [
        "from langchain_community.tools.pubmed.tool import PubmedQueryRun"
      ]
    },
    {
      "cell_type": "code",
      "execution_count": null,
      "metadata": {
        "colab": {
          "base_uri": "https://localhost:8080/",
          "height": 174
        },
        "id": "nIFkeCIBPx07",
        "outputId": "d9c6b086-677d-4f4b-9f09-dc892faf50e2"
      },
      "outputs": [
        {
          "data": {
            "text/plain": [
              "'Published: 2017-03-23\\nTitle: Clinical outcomes and survival in AA amyloidosis patients.\\nCopyright Information: Copyright © 2017. Published by Elsevier Editora Ltda.\\nSummary::\\nAIM: Amyloid A amyloidosis is a rare complication of chronic inflammatory conditions. Most patients with amyloid A amyloidosis present with nephropathy and it leads to renal failure and death. We studied clinical characteristics and survival in patients with amyloid A amyloidosis.\\nMETHODS: A total of 81 patients (51 males, 30 females) with renal biopsy proven amyloid A amyloidosis were analyzed retrospectively. The patients were divided into good and poor outcomes groups according to survival results.\\nRESULTS: Most of the patients (55.6%) had nephrotic range proteinuria at diagnosis. Most frequent underlying disorders were familial Mediterranean fever (21.2%) and rheumatoid arthritis (10.6%) in the good outcome group and malignancy (20%) in the poor outcome group. Only diastolic blood pressure in the good outcome group and phosphorus level in the poor outcome group was higher. Serum creatinine levels increased after treatment in both groups, while proteinuria in the good outcome group decreased. Increase in serum creatinine and decrease in estimated glomerular filtration rate of the poor outcome group were more significant in the good outcome group. At the time of diagnosis 18.5% and 27.2% of all patients had advanced chronic kidney disease (stage 4 and 5, respectively). Median duration of renal survival was 65±3.54 months. Among all patients, 27.1% were started dialysis treatment during the follow-up period and 7.4% of all patients underwent kidney transplantation. Higher levels of systolic blood pressure [hazard ratios 1.03, 95% confidence interval: 1-1.06, p=0.036], serum creatinine (hazard ratios 1.25, 95% confidence interval: 1.07-1.46, p=0.006) and urinary protein excretion (hazard ratios 1.08, 95% confidence interval: 1.01-1.16, p=0.027) were predictors of end-stage renal disease. Median'"
            ]
          },
          "execution_count": 153,
          "metadata": {},
          "output_type": "execute_result"
        }
      ],
      "source": [
        "tool = PubmedQueryRun()\n",
        "\n",
        "tool.run(\"Febre Familiar do Mediterrâneo\")"
      ]
    },
    {
      "cell_type": "code",
      "execution_count": 154,
      "metadata": {
        "id": "Liy2b1uWN792"
      },
      "outputs": [
        {
          "name": "stderr",
          "output_type": "stream",
          "text": [
            "/Users/michelpf/.pyenv/versions/3.10.13/lib/python3.10/site-packages/langsmith/client.py:272: LangSmithMissingAPIKeyWarning: API key must be provided when using hosted LangSmith API\n",
            "  warnings.warn(\n"
          ]
        }
      ],
      "source": [
        "prompt = hub.pull(\"hwchase17/react\")"
      ]
    },
    {
      "cell_type": "code",
      "execution_count": 170,
      "metadata": {},
      "outputs": [],
      "source": [
        "pubmed_tool = PubmedQueryRun()\n",
        "\n",
        "tool = Tool(\n",
        "    name=\"PubMed\",\n",
        "    func=pubmed_tool.run,\n",
        "    description=\"Use esta ferramenta para pesquisar artigos científicos no PubMed. Forneça um termo de busca como entrada.\"\n",
        ")\n"
      ]
    },
    {
      "cell_type": "code",
      "execution_count": 171,
      "metadata": {
        "id": "NUS-mJ_qN-wx"
      },
      "outputs": [],
      "source": [
        "agent = create_react_agent(\n",
        "    chat_openai,\n",
        "    [tool],\n",
        "    prompt)"
      ]
    },
    {
      "cell_type": "code",
      "execution_count": 172,
      "metadata": {
        "id": "KCJQ3vN5OBka"
      },
      "outputs": [],
      "source": [
        "agent_executor = AgentExecutor(\n",
        "    agent=agent, tools=[tool], verbose=True, handle_parsing_errors=True\n",
        ")"
      ]
    },
    {
      "cell_type": "code",
      "execution_count": 174,
      "metadata": {
        "colab": {
          "base_uri": "https://localhost:8080/"
        },
        "id": "QVkbQB16QISn",
        "outputId": "3e48b947-c0ee-4f74-b873-826a43470beb"
      },
      "outputs": [
        {
          "name": "stdout",
          "output_type": "stream",
          "text": [
            "\n",
            "\n",
            "\u001b[1m> Entering new AgentExecutor chain...\u001b[0m\n",
            "\u001b[32;1m\u001b[1;3mThought: Para relacionar a Febre Familiar do Mediterrâneo (FFM) com alergias, preciso buscar artigos científicos que abordem a associação entre essa doença autoinflamatória e manifestações alérgicas ou condições alérgicas. Vou pesquisar no PubMed usando termos que combinem \"Familial Mediterranean Fever\" e \"allergies\" ou \"allergic reactions\".\n",
            "\n",
            "Action: PubMed\n",
            "Action Input: \"Familial Mediterranean Fever AND allergies\"\n",
            "\u001b[0m\u001b[36;1m\u001b[1;3mPublished: 2025-04-29\n",
            "Title: Pediatric Systemic Autoinflammatory Disorders: An Overview.\n",
            "Copyright Information: © 2025. The Author(s), under exclusive licence to Springer Science+Business Media, LLC, part of Springer Nature.\n",
            "Summary::\n",
            "PURPOSE OF REVIEW: Systemic autoinflammatory disorders (SAIDs) are a group of diseases that are characterized by recurrent or persistent unprovoked attacks of inflammation resulting from innate immunity dysregulation and leading to significant sequelae in many cases. The concept of autoinflammatory disorders has been widely studied in the last 28 years since the genetic mutation responsible for familial Mediterranean fever (FMF) was discovered. These disorders are mainly hereditary autoinflammatory diseases with key immunological pathways affected and particularly involving inflammasomes, nuclear factor-κB dysregulation and interferon upregulation. This article serves as an overview of pediatric systemic autoinflammatory disorders, their presentation, workup, complications, and therapeutic management.\n",
            "RECENT FINDINGS: Advances in genetic analysis have allowed for the rapid identification of mutations responsible for many autoinflammatory disorders. Advances in biomolecular techniques, which have allowed for identifying key players such as inflammasomes, have led to treatment options that have significantly improved morbidity and mortality in affected patients. This review provides an overview of the proposed pathogenesis, presenting features, potential complications and suggested therapies of systemic autoinflammatory disorders. Providers should have a high clinical suspicion for autoinflammatory disorders in children who present with fever, a heightened inflammatory response and negative evaluation for an infectious, malignant, and autoimmune etiology. Understanding and identifying these disorders in a timely manner and implementing prompt treatment allow for the best possible outcome for these patients.\n",
            "\n",
            "Published: 2025-04-07\n",
            "Title: \u001b[0m\u001b[32;1m\u001b[1;3mThought: O artigo encontrado é uma revisão geral sobre doenças autoinflamatórias sistêmicas pediátricas, incluindo a Febre Familiar do Mediterrâneo (FFM), mas não menciona especificamente a relação entre FFM e alergias. Para aprofundar, preciso buscar artigos que abordem diretamente a associação entre FFM e manifestações alérgicas, como asma, dermatite atópica ou outras reações alérgicas.\n",
            "\n",
            "Action: PubMed\n",
            "Action Input: \"Familial Mediterranean Fever AND allergic diseases\"\n",
            "\u001b[0m\u001b[36;1m\u001b[1;3mPublished: 2025-04-23\n",
            "Title: Amyloidosis in Human Inborn Errors of Immunity Predicts Poor Prognosis.\n",
            "Copyright Information: © 2025. The Author(s).\n",
            "Summary::\n",
            "PURPOSE: Chronic inflammation in inborn errors of immunity(IEI) caused by the infections or immune dysregulation is associated with the amyloid A (AA) amyloidosis development. This study aims to analyze the clinical characteristics, management strategies, and outcomes of patients with IEI complicated by AA amyloidosis, focusing on demographics, disease manifestations, treatment modalities, and survival rates.\n",
            "METHODS: Thirteen patients diagnosed with IEI and AA amyloidosis, along with an additional 10 patients previously reported from Türkiye, were reviewed retrospectively.\n",
            "RESULTS: The median ages at diagnosis of IEI and amyloidosis were 20 years (2-61) and 25 years (7-70), respectively. Renal (74%) and gastrointestinal involvement (44%) were the most common, followed by skin(9%), pulmonary (9%), and cardiac involvement (9%). Primary antibody deficiencies(48%), combined immunodeficiencies(31%), hyperimmunoglobulin E syndrome(9%), congenital neutropenia (4%), autoinflammatory disorders (4%), and chronic mucocutaneous candidiasis (4%) were the IEI types associated with amyloidosis. Bronchiectasis (74%) and malignancy (17%) were observed in given ratio of patients. Treatment modalities for amyloidosis include colchicine (n = 12, 52%), steroids (n = 5, 22%) and tocilizumab (n = 2, 9%) without significant benefit. Thirteen patients (57%) died with a median age of 24 years (8-45), predominantly due to sepsis (52%). Familial Mediterranean fever (FMF) gene analysis was negative in all patients except for one, who had a heterozygous MEFV gene defect (M694V).\n",
            "CONCLUSION: AA amyloidosis in IEI is associated with severe morbidity and mortality. Early diagnosis and management of IEI are crucial to prevent amyloidosis development. However, colchicine appears ineffective once amyloidosis has occurred, highlighting the need fo\u001b[0m\u001b[32;1m\u001b[1;3mThought: O segundo artigo aborda a associação de doenças imunológicas hereditárias com complicações como amiloidose, mencionando a Febre Familiar do Mediterrâneo (FFM) como uma das condições autoinflamatórias, mas não discute diretamente a relação entre FFM e alergias. Até agora, não encontrei evidências claras ou estudos que relacionem diretamente FFM com alergias ou doenças alérgicas. Vou tentar uma busca mais específica por termos como \"Familial Mediterranean Fever AND asthma\" ou \"Familial Mediterranean Fever AND atopy\" para verificar se há alguma associação com manifestações alérgicas específicas.\n",
            "\n",
            "Action: PubMed  \n",
            "Action Input: \"Familial Mediterranean Fever AND asthma\"\n",
            "\u001b[0m\u001b[36;1m\u001b[1;3mPublished: 2025-04-29\n",
            "Title: Pediatric Systemic Autoinflammatory Disorders: An Overview.\n",
            "Copyright Information: © 2025. The Author(s), under exclusive licence to Springer Science+Business Media, LLC, part of Springer Nature.\n",
            "Summary::\n",
            "PURPOSE OF REVIEW: Systemic autoinflammatory disorders (SAIDs) are a group of diseases that are characterized by recurrent or persistent unprovoked attacks of inflammation resulting from innate immunity dysregulation and leading to significant sequelae in many cases. The concept of autoinflammatory disorders has been widely studied in the last 28 years since the genetic mutation responsible for familial Mediterranean fever (FMF) was discovered. These disorders are mainly hereditary autoinflammatory diseases with key immunological pathways affected and particularly involving inflammasomes, nuclear factor-κB dysregulation and interferon upregulation. This article serves as an overview of pediatric systemic autoinflammatory disorders, their presentation, workup, complications, and therapeutic management.\n",
            "RECENT FINDINGS: Advances in genetic analysis have allowed for the rapid identification of mutations responsible for many autoinflammatory disorders. Advances in biomolecular techniques, which have allowed for identifying key players such as inflammasomes, have led to treatment options that have significantly improved morbidity and mortality in affected patients. This review provides an overview of the proposed pathogenesis, presenting features, potential complications and suggested therapies of systemic autoinflammatory disorders. Providers should have a high clinical suspicion for autoinflammatory disorders in children who present with fever, a heightened inflammatory response and negative evaluation for an infectious, malignant, and autoimmune etiology. Understanding and identifying these disorders in a timely manner and implementing prompt treatment allow for the best possible outcome for these patients.\n",
            "\n",
            "Published: 2024-05-23\n",
            "Title: \u001b[0m\u001b[32;1m\u001b[1;3mThought: As buscas realizadas não retornaram evidências claras ou estudos que relacionem diretamente a Febre Familiar do Mediterrâneo (FFM) com alergias ou doenças alérgicas específicas como asma ou atopia. A FFM é uma doença autoinflamatória hereditária caracterizada por episódios recorrentes de inflamação, mas não há dados robustos que indiquem uma associação direta com alergias. A literatura disponível destaca mais a disfunção da imunidade inata e inflamação do que uma predisposição a reações alérgicas mediadas por imunidade adaptativa, típicas das alergias.\n",
            "\n",
            "Final Answer: A Febre Familiar do Mediterrâneo (FFM) é uma doença autoinflamatória hereditária caracterizada por episódios recorrentes de inflamação devido à disfunção da imunidade inata. Até o momento, não há evidências científicas claras que relacionem diretamente a FFM com alergias ou doenças alérgicas, como asma ou dermatite atópica. Portanto, a FFM não é considerada uma condição associada a alergias, e suas manifestações clínicas estão mais relacionadas a processos inflamatórios autoinflamatórios do que a reações alérgicas.\u001b[0m\n",
            "\n",
            "\u001b[1m> Finished chain.\u001b[0m\n"
          ]
        },
        {
          "data": {
            "text/plain": [
              "{'input': 'Relacione a Febre Familiar do Mediterrâneo com Alergias.',\n",
              " 'output': 'A Febre Familiar do Mediterrâneo (FFM) é uma doença autoinflamatória hereditária caracterizada por episódios recorrentes de inflamação devido à disfunção da imunidade inata. Até o momento, não há evidências científicas claras que relacionem diretamente a FFM com alergias ou doenças alérgicas, como asma ou dermatite atópica. Portanto, a FFM não é considerada uma condição associada a alergias, e suas manifestações clínicas estão mais relacionadas a processos inflamatórios autoinflamatórios do que a reações alérgicas.'}"
            ]
          },
          "execution_count": 174,
          "metadata": {},
          "output_type": "execute_result"
        }
      ],
      "source": [
        "agent_executor.invoke({\"input\": \"Relacione a Febre Familiar do Mediterrâneo com Alergias.\"})"
      ]
    },
    {
      "cell_type": "markdown",
      "metadata": {
        "id": "CoWcReHqY0Zl"
      },
      "source": [
        "E por fim, podemos criar nossa própria ferramenta.\n",
        "O exemplo a seguir será de consumir 2 APIs de testes (mock) que traz uma lista de produtos ou um produto individual, de acordo com um identificador."
      ]
    },
    {
      "cell_type": "code",
      "execution_count": 175,
      "metadata": {
        "id": "N1T6A0BAKMVC"
      },
      "outputs": [],
      "source": [
        "import requests\n",
        "from langchain.agents import tool"
      ]
    },
    {
      "cell_type": "markdown",
      "metadata": {
        "id": "vSC-JmQcZACq"
      },
      "source": [
        "Incluímos a anotação \"@tool\" na função e obrigatóriamente precisa ter entrada e saída em String.\n",
        "\n",
        "Se não for utiliar a entrada, envie um parâmetro vazio.\n",
        "\n",
        "Importante é detalhar no comentário da função sobre o que faz e qual parâmetro necessita."
      ]
    },
    {
      "cell_type": "code",
      "execution_count": 176,
      "metadata": {
        "colab": {
          "base_uri": "https://localhost:8080/"
        },
        "id": "Kz_01EqHKonS",
        "outputId": "6b8acc47-537d-4c5c-f147-7f612c0b1280"
      },
      "outputs": [
        {
          "data": {
            "text/plain": [
              "{'products': [{'id': 1,\n",
              "   'title': 'Essence Mascara Lash Princess',\n",
              "   'description': 'The Essence Mascara Lash Princess is a popular mascara known for its volumizing and lengthening effects. Achieve dramatic lashes with this long-lasting and cruelty-free formula.',\n",
              "   'category': 'beauty',\n",
              "   'price': 9.99,\n",
              "   'discountPercentage': 10.48,\n",
              "   'rating': 2.56,\n",
              "   'stock': 99,\n",
              "   'tags': ['beauty', 'mascara'],\n",
              "   'brand': 'Essence',\n",
              "   'sku': 'BEA-ESS-ESS-001',\n",
              "   'weight': 4,\n",
              "   'dimensions': {'width': 15.14, 'height': 13.08, 'depth': 22.99},\n",
              "   'warrantyInformation': '1 week warranty',\n",
              "   'shippingInformation': 'Ships in 3-5 business days',\n",
              "   'availabilityStatus': 'In Stock',\n",
              "   'reviews': [{'rating': 3,\n",
              "     'comment': 'Would not recommend!',\n",
              "     'date': '2025-04-30T09:41:02.053Z',\n",
              "     'reviewerName': 'Eleanor Collins',\n",
              "     'reviewerEmail': 'eleanor.collins@x.dummyjson.com'},\n",
              "    {'rating': 4,\n",
              "     'comment': 'Very satisfied!',\n",
              "     'date': '2025-04-30T09:41:02.053Z',\n",
              "     'reviewerName': 'Lucas Gordon',\n",
              "     'reviewerEmail': 'lucas.gordon@x.dummyjson.com'},\n",
              "    {'rating': 5,\n",
              "     'comment': 'Highly impressed!',\n",
              "     'date': '2025-04-30T09:41:02.053Z',\n",
              "     'reviewerName': 'Eleanor Collins',\n",
              "     'reviewerEmail': 'eleanor.collins@x.dummyjson.com'}],\n",
              "   'returnPolicy': 'No return policy',\n",
              "   'minimumOrderQuantity': 48,\n",
              "   'meta': {'createdAt': '2025-04-30T09:41:02.053Z',\n",
              "    'updatedAt': '2025-04-30T09:41:02.053Z',\n",
              "    'barcode': '5784719087687',\n",
              "    'qrCode': 'https://cdn.dummyjson.com/public/qr-code.png'},\n",
              "   'images': ['https://cdn.dummyjson.com/product-images/beauty/essence-mascara-lash-princess/1.webp'],\n",
              "   'thumbnail': 'https://cdn.dummyjson.com/product-images/beauty/essence-mascara-lash-princess/thumbnail.webp'},\n",
              "  {'id': 2,\n",
              "   'title': 'Eyeshadow Palette with Mirror',\n",
              "   'description': \"The Eyeshadow Palette with Mirror offers a versatile range of eyeshadow shades for creating stunning eye looks. With a built-in mirror, it's convenient for on-the-go makeup application.\",\n",
              "   'category': 'beauty',\n",
              "   'price': 19.99,\n",
              "   'discountPercentage': 18.19,\n",
              "   'rating': 2.86,\n",
              "   'stock': 34,\n",
              "   'tags': ['beauty', 'eyeshadow'],\n",
              "   'brand': 'Glamour Beauty',\n",
              "   'sku': 'BEA-GLA-EYE-002',\n",
              "   'weight': 9,\n",
              "   'dimensions': {'width': 9.26, 'height': 22.47, 'depth': 27.67},\n",
              "   'warrantyInformation': '1 year warranty',\n",
              "   'shippingInformation': 'Ships in 2 weeks',\n",
              "   'availabilityStatus': 'In Stock',\n",
              "   'reviews': [{'rating': 5,\n",
              "     'comment': 'Great product!',\n",
              "     'date': '2025-04-30T09:41:02.053Z',\n",
              "     'reviewerName': 'Savannah Gomez',\n",
              "     'reviewerEmail': 'savannah.gomez@x.dummyjson.com'},\n",
              "    {'rating': 4,\n",
              "     'comment': 'Awesome product!',\n",
              "     'date': '2025-04-30T09:41:02.053Z',\n",
              "     'reviewerName': 'Christian Perez',\n",
              "     'reviewerEmail': 'christian.perez@x.dummyjson.com'},\n",
              "    {'rating': 1,\n",
              "     'comment': 'Poor quality!',\n",
              "     'date': '2025-04-30T09:41:02.053Z',\n",
              "     'reviewerName': 'Nicholas Bailey',\n",
              "     'reviewerEmail': 'nicholas.bailey@x.dummyjson.com'}],\n",
              "   'returnPolicy': '7 days return policy',\n",
              "   'minimumOrderQuantity': 20,\n",
              "   'meta': {'createdAt': '2025-04-30T09:41:02.053Z',\n",
              "    'updatedAt': '2025-04-30T09:41:02.053Z',\n",
              "    'barcode': '9170275171413',\n",
              "    'qrCode': 'https://cdn.dummyjson.com/public/qr-code.png'},\n",
              "   'images': ['https://cdn.dummyjson.com/product-images/beauty/eyeshadow-palette-with-mirror/1.webp'],\n",
              "   'thumbnail': 'https://cdn.dummyjson.com/product-images/beauty/eyeshadow-palette-with-mirror/thumbnail.webp'},\n",
              "  {'id': 3,\n",
              "   'title': 'Powder Canister',\n",
              "   'description': 'The Powder Canister is a finely milled setting powder designed to set makeup and control shine. With a lightweight and translucent formula, it provides a smooth and matte finish.',\n",
              "   'category': 'beauty',\n",
              "   'price': 14.99,\n",
              "   'discountPercentage': 9.84,\n",
              "   'rating': 4.64,\n",
              "   'stock': 89,\n",
              "   'tags': ['beauty', 'face powder'],\n",
              "   'brand': 'Velvet Touch',\n",
              "   'sku': 'BEA-VEL-POW-003',\n",
              "   'weight': 8,\n",
              "   'dimensions': {'width': 29.27, 'height': 27.93, 'depth': 20.59},\n",
              "   'warrantyInformation': '3 months warranty',\n",
              "   'shippingInformation': 'Ships in 1-2 business days',\n",
              "   'availabilityStatus': 'In Stock',\n",
              "   'reviews': [{'rating': 4,\n",
              "     'comment': 'Would buy again!',\n",
              "     'date': '2025-04-30T09:41:02.053Z',\n",
              "     'reviewerName': 'Alexander Jones',\n",
              "     'reviewerEmail': 'alexander.jones@x.dummyjson.com'},\n",
              "    {'rating': 5,\n",
              "     'comment': 'Highly impressed!',\n",
              "     'date': '2025-04-30T09:41:02.053Z',\n",
              "     'reviewerName': 'Elijah Cruz',\n",
              "     'reviewerEmail': 'elijah.cruz@x.dummyjson.com'},\n",
              "    {'rating': 1,\n",
              "     'comment': 'Very dissatisfied!',\n",
              "     'date': '2025-04-30T09:41:02.053Z',\n",
              "     'reviewerName': 'Avery Perez',\n",
              "     'reviewerEmail': 'avery.perez@x.dummyjson.com'}],\n",
              "   'returnPolicy': 'No return policy',\n",
              "   'minimumOrderQuantity': 22,\n",
              "   'meta': {'createdAt': '2025-04-30T09:41:02.053Z',\n",
              "    'updatedAt': '2025-04-30T09:41:02.053Z',\n",
              "    'barcode': '8418883906837',\n",
              "    'qrCode': 'https://cdn.dummyjson.com/public/qr-code.png'},\n",
              "   'images': ['https://cdn.dummyjson.com/product-images/beauty/powder-canister/1.webp'],\n",
              "   'thumbnail': 'https://cdn.dummyjson.com/product-images/beauty/powder-canister/thumbnail.webp'},\n",
              "  {'id': 4,\n",
              "   'title': 'Red Lipstick',\n",
              "   'description': 'The Red Lipstick is a classic and bold choice for adding a pop of color to your lips. With a creamy and pigmented formula, it provides a vibrant and long-lasting finish.',\n",
              "   'category': 'beauty',\n",
              "   'price': 12.99,\n",
              "   'discountPercentage': 12.16,\n",
              "   'rating': 4.36,\n",
              "   'stock': 91,\n",
              "   'tags': ['beauty', 'lipstick'],\n",
              "   'brand': 'Chic Cosmetics',\n",
              "   'sku': 'BEA-CHI-LIP-004',\n",
              "   'weight': 1,\n",
              "   'dimensions': {'width': 18.11, 'height': 28.38, 'depth': 22.17},\n",
              "   'warrantyInformation': '3 year warranty',\n",
              "   'shippingInformation': 'Ships in 1 week',\n",
              "   'availabilityStatus': 'In Stock',\n",
              "   'reviews': [{'rating': 4,\n",
              "     'comment': 'Great product!',\n",
              "     'date': '2025-04-30T09:41:02.053Z',\n",
              "     'reviewerName': 'Liam Garcia',\n",
              "     'reviewerEmail': 'liam.garcia@x.dummyjson.com'},\n",
              "    {'rating': 5,\n",
              "     'comment': 'Great product!',\n",
              "     'date': '2025-04-30T09:41:02.053Z',\n",
              "     'reviewerName': 'Ruby Andrews',\n",
              "     'reviewerEmail': 'ruby.andrews@x.dummyjson.com'},\n",
              "    {'rating': 5,\n",
              "     'comment': 'Would buy again!',\n",
              "     'date': '2025-04-30T09:41:02.053Z',\n",
              "     'reviewerName': 'Clara Berry',\n",
              "     'reviewerEmail': 'clara.berry@x.dummyjson.com'}],\n",
              "   'returnPolicy': '7 days return policy',\n",
              "   'minimumOrderQuantity': 40,\n",
              "   'meta': {'createdAt': '2025-04-30T09:41:02.053Z',\n",
              "    'updatedAt': '2025-04-30T09:41:02.053Z',\n",
              "    'barcode': '9467746727219',\n",
              "    'qrCode': 'https://cdn.dummyjson.com/public/qr-code.png'},\n",
              "   'images': ['https://cdn.dummyjson.com/product-images/beauty/red-lipstick/1.webp'],\n",
              "   'thumbnail': 'https://cdn.dummyjson.com/product-images/beauty/red-lipstick/thumbnail.webp'},\n",
              "  {'id': 5,\n",
              "   'title': 'Red Nail Polish',\n",
              "   'description': 'The Red Nail Polish offers a rich and glossy red hue for vibrant and polished nails. With a quick-drying formula, it provides a salon-quality finish at home.',\n",
              "   'category': 'beauty',\n",
              "   'price': 8.99,\n",
              "   'discountPercentage': 11.44,\n",
              "   'rating': 4.32,\n",
              "   'stock': 79,\n",
              "   'tags': ['beauty', 'nail polish'],\n",
              "   'brand': 'Nail Couture',\n",
              "   'sku': 'BEA-NAI-NAI-005',\n",
              "   'weight': 8,\n",
              "   'dimensions': {'width': 21.63, 'height': 16.48, 'depth': 29.84},\n",
              "   'warrantyInformation': '1 month warranty',\n",
              "   'shippingInformation': 'Ships overnight',\n",
              "   'availabilityStatus': 'In Stock',\n",
              "   'reviews': [{'rating': 2,\n",
              "     'comment': 'Poor quality!',\n",
              "     'date': '2025-04-30T09:41:02.053Z',\n",
              "     'reviewerName': 'Benjamin Wilson',\n",
              "     'reviewerEmail': 'benjamin.wilson@x.dummyjson.com'},\n",
              "    {'rating': 5,\n",
              "     'comment': 'Great product!',\n",
              "     'date': '2025-04-30T09:41:02.053Z',\n",
              "     'reviewerName': 'Liam Smith',\n",
              "     'reviewerEmail': 'liam.smith@x.dummyjson.com'},\n",
              "    {'rating': 1,\n",
              "     'comment': 'Very unhappy with my purchase!',\n",
              "     'date': '2025-04-30T09:41:02.053Z',\n",
              "     'reviewerName': 'Clara Berry',\n",
              "     'reviewerEmail': 'clara.berry@x.dummyjson.com'}],\n",
              "   'returnPolicy': 'No return policy',\n",
              "   'minimumOrderQuantity': 22,\n",
              "   'meta': {'createdAt': '2025-04-30T09:41:02.053Z',\n",
              "    'updatedAt': '2025-04-30T09:41:02.053Z',\n",
              "    'barcode': '4063010628104',\n",
              "    'qrCode': 'https://cdn.dummyjson.com/public/qr-code.png'},\n",
              "   'images': ['https://cdn.dummyjson.com/product-images/beauty/red-nail-polish/1.webp'],\n",
              "   'thumbnail': 'https://cdn.dummyjson.com/product-images/beauty/red-nail-polish/thumbnail.webp'},\n",
              "  {'id': 6,\n",
              "   'title': 'Calvin Klein CK One',\n",
              "   'description': \"CK One by Calvin Klein is a classic unisex fragrance, known for its fresh and clean scent. It's a versatile fragrance suitable for everyday wear.\",\n",
              "   'category': 'fragrances',\n",
              "   'price': 49.99,\n",
              "   'discountPercentage': 1.89,\n",
              "   'rating': 4.37,\n",
              "   'stock': 29,\n",
              "   'tags': ['fragrances', 'perfumes'],\n",
              "   'brand': 'Calvin Klein',\n",
              "   'sku': 'FRA-CAL-CAL-006',\n",
              "   'weight': 7,\n",
              "   'dimensions': {'width': 29.36, 'height': 27.76, 'depth': 20.72},\n",
              "   'warrantyInformation': '1 week warranty',\n",
              "   'shippingInformation': 'Ships overnight',\n",
              "   'availabilityStatus': 'In Stock',\n",
              "   'reviews': [{'rating': 2,\n",
              "     'comment': 'Very disappointed!',\n",
              "     'date': '2025-04-30T09:41:02.053Z',\n",
              "     'reviewerName': 'Layla Young',\n",
              "     'reviewerEmail': 'layla.young@x.dummyjson.com'},\n",
              "    {'rating': 4,\n",
              "     'comment': 'Fast shipping!',\n",
              "     'date': '2025-04-30T09:41:02.053Z',\n",
              "     'reviewerName': 'Daniel Cook',\n",
              "     'reviewerEmail': 'daniel.cook@x.dummyjson.com'},\n",
              "    {'rating': 3,\n",
              "     'comment': 'Not as described!',\n",
              "     'date': '2025-04-30T09:41:02.053Z',\n",
              "     'reviewerName': 'Jacob Cooper',\n",
              "     'reviewerEmail': 'jacob.cooper@x.dummyjson.com'}],\n",
              "   'returnPolicy': '90 days return policy',\n",
              "   'minimumOrderQuantity': 9,\n",
              "   'meta': {'createdAt': '2025-04-30T09:41:02.053Z',\n",
              "    'updatedAt': '2025-04-30T09:41:02.053Z',\n",
              "    'barcode': '2451534060749',\n",
              "    'qrCode': 'https://cdn.dummyjson.com/public/qr-code.png'},\n",
              "   'images': ['https://cdn.dummyjson.com/product-images/fragrances/calvin-klein-ck-one/1.webp',\n",
              "    'https://cdn.dummyjson.com/product-images/fragrances/calvin-klein-ck-one/2.webp',\n",
              "    'https://cdn.dummyjson.com/product-images/fragrances/calvin-klein-ck-one/3.webp'],\n",
              "   'thumbnail': 'https://cdn.dummyjson.com/product-images/fragrances/calvin-klein-ck-one/thumbnail.webp'},\n",
              "  {'id': 7,\n",
              "   'title': 'Chanel Coco Noir Eau De',\n",
              "   'description': 'Coco Noir by Chanel is an elegant and mysterious fragrance, featuring notes of grapefruit, rose, and sandalwood. Perfect for evening occasions.',\n",
              "   'category': 'fragrances',\n",
              "   'price': 129.99,\n",
              "   'discountPercentage': 16.51,\n",
              "   'rating': 4.26,\n",
              "   'stock': 58,\n",
              "   'tags': ['fragrances', 'perfumes'],\n",
              "   'brand': 'Chanel',\n",
              "   'sku': 'FRA-CHA-CHA-007',\n",
              "   'weight': 7,\n",
              "   'dimensions': {'width': 24.5, 'height': 25.7, 'depth': 25.98},\n",
              "   'warrantyInformation': '3 year warranty',\n",
              "   'shippingInformation': 'Ships overnight',\n",
              "   'availabilityStatus': 'In Stock',\n",
              "   'reviews': [{'rating': 4,\n",
              "     'comment': 'Highly impressed!',\n",
              "     'date': '2025-04-30T09:41:02.053Z',\n",
              "     'reviewerName': 'Ruby Andrews',\n",
              "     'reviewerEmail': 'ruby.andrews@x.dummyjson.com'},\n",
              "    {'rating': 5,\n",
              "     'comment': 'Awesome product!',\n",
              "     'date': '2025-04-30T09:41:02.053Z',\n",
              "     'reviewerName': 'Leah Henderson',\n",
              "     'reviewerEmail': 'leah.henderson@x.dummyjson.com'},\n",
              "    {'rating': 5,\n",
              "     'comment': 'Very happy with my purchase!',\n",
              "     'date': '2025-04-30T09:41:02.053Z',\n",
              "     'reviewerName': 'Xavier Wright',\n",
              "     'reviewerEmail': 'xavier.wright@x.dummyjson.com'}],\n",
              "   'returnPolicy': 'No return policy',\n",
              "   'minimumOrderQuantity': 1,\n",
              "   'meta': {'createdAt': '2025-04-30T09:41:02.053Z',\n",
              "    'updatedAt': '2025-04-30T09:41:02.053Z',\n",
              "    'barcode': '4091737746820',\n",
              "    'qrCode': 'https://cdn.dummyjson.com/public/qr-code.png'},\n",
              "   'images': ['https://cdn.dummyjson.com/product-images/fragrances/chanel-coco-noir-eau-de/1.webp',\n",
              "    'https://cdn.dummyjson.com/product-images/fragrances/chanel-coco-noir-eau-de/2.webp',\n",
              "    'https://cdn.dummyjson.com/product-images/fragrances/chanel-coco-noir-eau-de/3.webp'],\n",
              "   'thumbnail': 'https://cdn.dummyjson.com/product-images/fragrances/chanel-coco-noir-eau-de/thumbnail.webp'},\n",
              "  {'id': 8,\n",
              "   'title': \"Dior J'adore\",\n",
              "   'description': \"J'adore by Dior is a luxurious and floral fragrance, known for its blend of ylang-ylang, rose, and jasmine. It embodies femininity and sophistication.\",\n",
              "   'category': 'fragrances',\n",
              "   'price': 89.99,\n",
              "   'discountPercentage': 14.72,\n",
              "   'rating': 3.8,\n",
              "   'stock': 98,\n",
              "   'tags': ['fragrances', 'perfumes'],\n",
              "   'brand': 'Dior',\n",
              "   'sku': 'FRA-DIO-DIO-008',\n",
              "   'weight': 4,\n",
              "   'dimensions': {'width': 27.67, 'height': 28.28, 'depth': 11.83},\n",
              "   'warrantyInformation': '1 week warranty',\n",
              "   'shippingInformation': 'Ships in 2 weeks',\n",
              "   'availabilityStatus': 'In Stock',\n",
              "   'reviews': [{'rating': 5,\n",
              "     'comment': 'Great value for money!',\n",
              "     'date': '2025-04-30T09:41:02.053Z',\n",
              "     'reviewerName': 'Nicholas Bailey',\n",
              "     'reviewerEmail': 'nicholas.bailey@x.dummyjson.com'},\n",
              "    {'rating': 4,\n",
              "     'comment': 'Great value for money!',\n",
              "     'date': '2025-04-30T09:41:02.053Z',\n",
              "     'reviewerName': 'Penelope Harper',\n",
              "     'reviewerEmail': 'penelope.harper@x.dummyjson.com'},\n",
              "    {'rating': 4,\n",
              "     'comment': 'Great product!',\n",
              "     'date': '2025-04-30T09:41:02.053Z',\n",
              "     'reviewerName': 'Emma Miller',\n",
              "     'reviewerEmail': 'emma.miller@x.dummyjson.com'}],\n",
              "   'returnPolicy': '7 days return policy',\n",
              "   'minimumOrderQuantity': 10,\n",
              "   'meta': {'createdAt': '2025-04-30T09:41:02.053Z',\n",
              "    'updatedAt': '2025-04-30T09:41:02.053Z',\n",
              "    'barcode': '1445086097250',\n",
              "    'qrCode': 'https://cdn.dummyjson.com/public/qr-code.png'},\n",
              "   'images': [\"https://cdn.dummyjson.com/product-images/fragrances/dior-j'adore/1.webp\",\n",
              "    \"https://cdn.dummyjson.com/product-images/fragrances/dior-j'adore/2.webp\",\n",
              "    \"https://cdn.dummyjson.com/product-images/fragrances/dior-j'adore/3.webp\"],\n",
              "   'thumbnail': \"https://cdn.dummyjson.com/product-images/fragrances/dior-j'adore/thumbnail.webp\"},\n",
              "  {'id': 9,\n",
              "   'title': 'Dolce Shine Eau de',\n",
              "   'description': \"Dolce Shine by Dolce & Gabbana is a vibrant and fruity fragrance, featuring notes of mango, jasmine, and blonde woods. It's a joyful and youthful scent.\",\n",
              "   'category': 'fragrances',\n",
              "   'price': 69.99,\n",
              "   'discountPercentage': 0.62,\n",
              "   'rating': 3.96,\n",
              "   'stock': 4,\n",
              "   'tags': ['fragrances', 'perfumes'],\n",
              "   'brand': 'Dolce & Gabbana',\n",
              "   'sku': 'FRA-DOL-DOL-009',\n",
              "   'weight': 6,\n",
              "   'dimensions': {'width': 27.28, 'height': 29.88, 'depth': 18.3},\n",
              "   'warrantyInformation': '3 year warranty',\n",
              "   'shippingInformation': 'Ships in 1 month',\n",
              "   'availabilityStatus': 'Low Stock',\n",
              "   'reviews': [{'rating': 4,\n",
              "     'comment': 'Would buy again!',\n",
              "     'date': '2025-04-30T09:41:02.053Z',\n",
              "     'reviewerName': 'Mateo Bennett',\n",
              "     'reviewerEmail': 'mateo.bennett@x.dummyjson.com'},\n",
              "    {'rating': 4,\n",
              "     'comment': 'Highly recommended!',\n",
              "     'date': '2025-04-30T09:41:02.053Z',\n",
              "     'reviewerName': 'Nolan Gonzalez',\n",
              "     'reviewerEmail': 'nolan.gonzalez@x.dummyjson.com'},\n",
              "    {'rating': 5,\n",
              "     'comment': 'Very happy with my purchase!',\n",
              "     'date': '2025-04-30T09:41:02.053Z',\n",
              "     'reviewerName': 'Aurora Lawson',\n",
              "     'reviewerEmail': 'aurora.lawson@x.dummyjson.com'}],\n",
              "   'returnPolicy': '7 days return policy',\n",
              "   'minimumOrderQuantity': 2,\n",
              "   'meta': {'createdAt': '2025-04-30T09:41:02.053Z',\n",
              "    'updatedAt': '2025-04-30T09:41:02.053Z',\n",
              "    'barcode': '3023868210708',\n",
              "    'qrCode': 'https://cdn.dummyjson.com/public/qr-code.png'},\n",
              "   'images': ['https://cdn.dummyjson.com/product-images/fragrances/dolce-shine-eau-de/1.webp',\n",
              "    'https://cdn.dummyjson.com/product-images/fragrances/dolce-shine-eau-de/2.webp',\n",
              "    'https://cdn.dummyjson.com/product-images/fragrances/dolce-shine-eau-de/3.webp'],\n",
              "   'thumbnail': 'https://cdn.dummyjson.com/product-images/fragrances/dolce-shine-eau-de/thumbnail.webp'},\n",
              "  {'id': 10,\n",
              "   'title': 'Gucci Bloom Eau de',\n",
              "   'description': \"Gucci Bloom by Gucci is a floral and captivating fragrance, with notes of tuberose, jasmine, and Rangoon creeper. It's a modern and romantic scent.\",\n",
              "   'category': 'fragrances',\n",
              "   'price': 79.99,\n",
              "   'discountPercentage': 14.39,\n",
              "   'rating': 2.74,\n",
              "   'stock': 91,\n",
              "   'tags': ['fragrances', 'perfumes'],\n",
              "   'brand': 'Gucci',\n",
              "   'sku': 'FRA-GUC-GUC-010',\n",
              "   'weight': 7,\n",
              "   'dimensions': {'width': 20.92, 'height': 21.68, 'depth': 11.2},\n",
              "   'warrantyInformation': '6 months warranty',\n",
              "   'shippingInformation': 'Ships overnight',\n",
              "   'availabilityStatus': 'In Stock',\n",
              "   'reviews': [{'rating': 1,\n",
              "     'comment': 'Very dissatisfied!',\n",
              "     'date': '2025-04-30T09:41:02.053Z',\n",
              "     'reviewerName': 'Cameron Perez',\n",
              "     'reviewerEmail': 'cameron.perez@x.dummyjson.com'},\n",
              "    {'rating': 5,\n",
              "     'comment': 'Very happy with my purchase!',\n",
              "     'date': '2025-04-30T09:41:02.053Z',\n",
              "     'reviewerName': 'Daniel Cook',\n",
              "     'reviewerEmail': 'daniel.cook@x.dummyjson.com'},\n",
              "    {'rating': 4,\n",
              "     'comment': 'Highly impressed!',\n",
              "     'date': '2025-04-30T09:41:02.053Z',\n",
              "     'reviewerName': 'Addison Wright',\n",
              "     'reviewerEmail': 'addison.wright@x.dummyjson.com'}],\n",
              "   'returnPolicy': 'No return policy',\n",
              "   'minimumOrderQuantity': 2,\n",
              "   'meta': {'createdAt': '2025-04-30T09:41:02.053Z',\n",
              "    'updatedAt': '2025-04-30T09:41:02.053Z',\n",
              "    'barcode': '3170832177880',\n",
              "    'qrCode': 'https://cdn.dummyjson.com/public/qr-code.png'},\n",
              "   'images': ['https://cdn.dummyjson.com/product-images/fragrances/gucci-bloom-eau-de/1.webp',\n",
              "    'https://cdn.dummyjson.com/product-images/fragrances/gucci-bloom-eau-de/2.webp',\n",
              "    'https://cdn.dummyjson.com/product-images/fragrances/gucci-bloom-eau-de/3.webp'],\n",
              "   'thumbnail': 'https://cdn.dummyjson.com/product-images/fragrances/gucci-bloom-eau-de/thumbnail.webp'},\n",
              "  {'id': 11,\n",
              "   'title': 'Annibale Colombo Bed',\n",
              "   'description': 'The Annibale Colombo Bed is a luxurious and elegant bed frame, crafted with high-quality materials for a comfortable and stylish bedroom.',\n",
              "   'category': 'furniture',\n",
              "   'price': 1899.99,\n",
              "   'discountPercentage': 8.57,\n",
              "   'rating': 4.77,\n",
              "   'stock': 88,\n",
              "   'tags': ['furniture', 'beds'],\n",
              "   'brand': 'Annibale Colombo',\n",
              "   'sku': 'FUR-ANN-ANN-011',\n",
              "   'weight': 10,\n",
              "   'dimensions': {'width': 28.16, 'height': 25.36, 'depth': 17.28},\n",
              "   'warrantyInformation': '1 year warranty',\n",
              "   'shippingInformation': 'Ships in 1 month',\n",
              "   'availabilityStatus': 'In Stock',\n",
              "   'reviews': [{'rating': 2,\n",
              "     'comment': 'Would not recommend!',\n",
              "     'date': '2025-04-30T09:41:02.053Z',\n",
              "     'reviewerName': 'Christopher West',\n",
              "     'reviewerEmail': 'christopher.west@x.dummyjson.com'},\n",
              "    {'rating': 4,\n",
              "     'comment': 'Highly impressed!',\n",
              "     'date': '2025-04-30T09:41:02.053Z',\n",
              "     'reviewerName': 'Vivian Carter',\n",
              "     'reviewerEmail': 'vivian.carter@x.dummyjson.com'},\n",
              "    {'rating': 1,\n",
              "     'comment': 'Poor quality!',\n",
              "     'date': '2025-04-30T09:41:02.053Z',\n",
              "     'reviewerName': 'Mason Wright',\n",
              "     'reviewerEmail': 'mason.wright@x.dummyjson.com'}],\n",
              "   'returnPolicy': 'No return policy',\n",
              "   'minimumOrderQuantity': 1,\n",
              "   'meta': {'createdAt': '2025-04-30T09:41:02.053Z',\n",
              "    'updatedAt': '2025-04-30T09:41:02.053Z',\n",
              "    'barcode': '3610757456581',\n",
              "    'qrCode': 'https://cdn.dummyjson.com/public/qr-code.png'},\n",
              "   'images': ['https://cdn.dummyjson.com/product-images/furniture/annibale-colombo-bed/1.webp',\n",
              "    'https://cdn.dummyjson.com/product-images/furniture/annibale-colombo-bed/2.webp',\n",
              "    'https://cdn.dummyjson.com/product-images/furniture/annibale-colombo-bed/3.webp'],\n",
              "   'thumbnail': 'https://cdn.dummyjson.com/product-images/furniture/annibale-colombo-bed/thumbnail.webp'},\n",
              "  {'id': 12,\n",
              "   'title': 'Annibale Colombo Sofa',\n",
              "   'description': 'The Annibale Colombo Sofa is a sophisticated and comfortable seating option, featuring exquisite design and premium upholstery for your living room.',\n",
              "   'category': 'furniture',\n",
              "   'price': 2499.99,\n",
              "   'discountPercentage': 14.4,\n",
              "   'rating': 3.92,\n",
              "   'stock': 60,\n",
              "   'tags': ['furniture', 'sofas'],\n",
              "   'brand': 'Annibale Colombo',\n",
              "   'sku': 'FUR-ANN-ANN-012',\n",
              "   'weight': 6,\n",
              "   'dimensions': {'width': 12.75, 'height': 20.55, 'depth': 19.06},\n",
              "   'warrantyInformation': 'Lifetime warranty',\n",
              "   'shippingInformation': 'Ships in 1 week',\n",
              "   'availabilityStatus': 'In Stock',\n",
              "   'reviews': [{'rating': 3,\n",
              "     'comment': 'Very unhappy with my purchase!',\n",
              "     'date': '2025-04-30T09:41:02.053Z',\n",
              "     'reviewerName': 'Christian Perez',\n",
              "     'reviewerEmail': 'christian.perez@x.dummyjson.com'},\n",
              "    {'rating': 5,\n",
              "     'comment': 'Fast shipping!',\n",
              "     'date': '2025-04-30T09:41:02.053Z',\n",
              "     'reviewerName': 'Lillian Bishop',\n",
              "     'reviewerEmail': 'lillian.bishop@x.dummyjson.com'},\n",
              "    {'rating': 1,\n",
              "     'comment': 'Poor quality!',\n",
              "     'date': '2025-04-30T09:41:02.053Z',\n",
              "     'reviewerName': 'Lillian Simmons',\n",
              "     'reviewerEmail': 'lillian.simmons@x.dummyjson.com'}],\n",
              "   'returnPolicy': '7 days return policy',\n",
              "   'minimumOrderQuantity': 1,\n",
              "   'meta': {'createdAt': '2025-04-30T09:41:02.053Z',\n",
              "    'updatedAt': '2025-04-30T09:41:02.053Z',\n",
              "    'barcode': '1777662847736',\n",
              "    'qrCode': 'https://cdn.dummyjson.com/public/qr-code.png'},\n",
              "   'images': ['https://cdn.dummyjson.com/product-images/furniture/annibale-colombo-sofa/1.webp',\n",
              "    'https://cdn.dummyjson.com/product-images/furniture/annibale-colombo-sofa/2.webp',\n",
              "    'https://cdn.dummyjson.com/product-images/furniture/annibale-colombo-sofa/3.webp'],\n",
              "   'thumbnail': 'https://cdn.dummyjson.com/product-images/furniture/annibale-colombo-sofa/thumbnail.webp'},\n",
              "  {'id': 13,\n",
              "   'title': 'Bedside Table African Cherry',\n",
              "   'description': 'The Bedside Table in African Cherry is a stylish and functional addition to your bedroom, providing convenient storage space and a touch of elegance.',\n",
              "   'category': 'furniture',\n",
              "   'price': 299.99,\n",
              "   'discountPercentage': 19.09,\n",
              "   'rating': 2.87,\n",
              "   'stock': 64,\n",
              "   'tags': ['furniture', 'bedside tables'],\n",
              "   'brand': 'Furniture Co.',\n",
              "   'sku': 'FUR-FUR-BED-013',\n",
              "   'weight': 2,\n",
              "   'dimensions': {'width': 13.47, 'height': 24.99, 'depth': 27.35},\n",
              "   'warrantyInformation': '5 year warranty',\n",
              "   'shippingInformation': 'Ships overnight',\n",
              "   'availabilityStatus': 'In Stock',\n",
              "   'reviews': [{'rating': 4,\n",
              "     'comment': 'Excellent quality!',\n",
              "     'date': '2025-04-30T09:41:02.053Z',\n",
              "     'reviewerName': 'Aaliyah Hanson',\n",
              "     'reviewerEmail': 'aaliyah.hanson@x.dummyjson.com'},\n",
              "    {'rating': 4,\n",
              "     'comment': 'Excellent quality!',\n",
              "     'date': '2025-04-30T09:41:02.053Z',\n",
              "     'reviewerName': 'Liam Smith',\n",
              "     'reviewerEmail': 'liam.smith@x.dummyjson.com'},\n",
              "    {'rating': 4,\n",
              "     'comment': 'Highly recommended!',\n",
              "     'date': '2025-04-30T09:41:02.053Z',\n",
              "     'reviewerName': 'Avery Barnes',\n",
              "     'reviewerEmail': 'avery.barnes@x.dummyjson.com'}],\n",
              "   'returnPolicy': '7 days return policy',\n",
              "   'minimumOrderQuantity': 3,\n",
              "   'meta': {'createdAt': '2025-04-30T09:41:02.053Z',\n",
              "    'updatedAt': '2025-04-30T09:41:02.053Z',\n",
              "    'barcode': '6441287925979',\n",
              "    'qrCode': 'https://cdn.dummyjson.com/public/qr-code.png'},\n",
              "   'images': ['https://cdn.dummyjson.com/product-images/furniture/bedside-table-african-cherry/1.webp',\n",
              "    'https://cdn.dummyjson.com/product-images/furniture/bedside-table-african-cherry/2.webp',\n",
              "    'https://cdn.dummyjson.com/product-images/furniture/bedside-table-african-cherry/3.webp'],\n",
              "   'thumbnail': 'https://cdn.dummyjson.com/product-images/furniture/bedside-table-african-cherry/thumbnail.webp'},\n",
              "  {'id': 14,\n",
              "   'title': 'Knoll Saarinen Executive Conference Chair',\n",
              "   'description': 'The Knoll Saarinen Executive Conference Chair is a modern and ergonomic chair, perfect for your office or conference room with its timeless design.',\n",
              "   'category': 'furniture',\n",
              "   'price': 499.99,\n",
              "   'discountPercentage': 2.01,\n",
              "   'rating': 4.88,\n",
              "   'stock': 26,\n",
              "   'tags': ['furniture', 'office chairs'],\n",
              "   'brand': 'Knoll',\n",
              "   'sku': 'FUR-KNO-KNO-014',\n",
              "   'weight': 10,\n",
              "   'dimensions': {'width': 13.81, 'height': 7.5, 'depth': 5.62},\n",
              "   'warrantyInformation': '2 year warranty',\n",
              "   'shippingInformation': 'Ships overnight',\n",
              "   'availabilityStatus': 'In Stock',\n",
              "   'reviews': [{'rating': 2,\n",
              "     'comment': 'Waste of money!',\n",
              "     'date': '2025-04-30T09:41:02.053Z',\n",
              "     'reviewerName': 'Ella Cook',\n",
              "     'reviewerEmail': 'ella.cook@x.dummyjson.com'},\n",
              "    {'rating': 2,\n",
              "     'comment': 'Very dissatisfied!',\n",
              "     'date': '2025-04-30T09:41:02.053Z',\n",
              "     'reviewerName': 'Clara Berry',\n",
              "     'reviewerEmail': 'clara.berry@x.dummyjson.com'},\n",
              "    {'rating': 5,\n",
              "     'comment': 'Would buy again!',\n",
              "     'date': '2025-04-30T09:41:02.053Z',\n",
              "     'reviewerName': 'Elena Long',\n",
              "     'reviewerEmail': 'elena.long@x.dummyjson.com'}],\n",
              "   'returnPolicy': '60 days return policy',\n",
              "   'minimumOrderQuantity': 5,\n",
              "   'meta': {'createdAt': '2025-04-30T09:41:02.053Z',\n",
              "    'updatedAt': '2025-04-30T09:41:02.053Z',\n",
              "    'barcode': '8919386859966',\n",
              "    'qrCode': 'https://cdn.dummyjson.com/public/qr-code.png'},\n",
              "   'images': ['https://cdn.dummyjson.com/product-images/furniture/knoll-saarinen-executive-conference-chair/1.webp',\n",
              "    'https://cdn.dummyjson.com/product-images/furniture/knoll-saarinen-executive-conference-chair/2.webp',\n",
              "    'https://cdn.dummyjson.com/product-images/furniture/knoll-saarinen-executive-conference-chair/3.webp'],\n",
              "   'thumbnail': 'https://cdn.dummyjson.com/product-images/furniture/knoll-saarinen-executive-conference-chair/thumbnail.webp'},\n",
              "  {'id': 15,\n",
              "   'title': 'Wooden Bathroom Sink With Mirror',\n",
              "   'description': 'The Wooden Bathroom Sink with Mirror is a unique and stylish addition to your bathroom, featuring a wooden sink countertop and a matching mirror.',\n",
              "   'category': 'furniture',\n",
              "   'price': 799.99,\n",
              "   'discountPercentage': 8.8,\n",
              "   'rating': 3.59,\n",
              "   'stock': 7,\n",
              "   'tags': ['furniture', 'bathroom'],\n",
              "   'brand': 'Bath Trends',\n",
              "   'sku': 'FUR-BAT-WOO-015',\n",
              "   'weight': 10,\n",
              "   'dimensions': {'width': 7.98, 'height': 8.88, 'depth': 28.46},\n",
              "   'warrantyInformation': '3 year warranty',\n",
              "   'shippingInformation': 'Ships in 3-5 business days',\n",
              "   'availabilityStatus': 'Low Stock',\n",
              "   'reviews': [{'rating': 4,\n",
              "     'comment': 'Fast shipping!',\n",
              "     'date': '2025-04-30T09:41:02.053Z',\n",
              "     'reviewerName': 'Logan Torres',\n",
              "     'reviewerEmail': 'logan.torres@x.dummyjson.com'},\n",
              "    {'rating': 5,\n",
              "     'comment': 'Very pleased!',\n",
              "     'date': '2025-04-30T09:41:02.053Z',\n",
              "     'reviewerName': 'Aria Parker',\n",
              "     'reviewerEmail': 'aria.parker@x.dummyjson.com'},\n",
              "    {'rating': 3,\n",
              "     'comment': 'Poor quality!',\n",
              "     'date': '2025-04-30T09:41:02.053Z',\n",
              "     'reviewerName': 'Dylan Wells',\n",
              "     'reviewerEmail': 'dylan.wells@x.dummyjson.com'}],\n",
              "   'returnPolicy': '60 days return policy',\n",
              "   'minimumOrderQuantity': 2,\n",
              "   'meta': {'createdAt': '2025-04-30T09:41:02.053Z',\n",
              "    'updatedAt': '2025-04-30T09:41:02.053Z',\n",
              "    'barcode': '1958104402873',\n",
              "    'qrCode': 'https://cdn.dummyjson.com/public/qr-code.png'},\n",
              "   'images': ['https://cdn.dummyjson.com/product-images/furniture/wooden-bathroom-sink-with-mirror/1.webp',\n",
              "    'https://cdn.dummyjson.com/product-images/furniture/wooden-bathroom-sink-with-mirror/2.webp',\n",
              "    'https://cdn.dummyjson.com/product-images/furniture/wooden-bathroom-sink-with-mirror/3.webp'],\n",
              "   'thumbnail': 'https://cdn.dummyjson.com/product-images/furniture/wooden-bathroom-sink-with-mirror/thumbnail.webp'},\n",
              "  {'id': 16,\n",
              "   'title': 'Apple',\n",
              "   'description': 'Fresh and crisp apples, perfect for snacking or incorporating into various recipes.',\n",
              "   'category': 'groceries',\n",
              "   'price': 1.99,\n",
              "   'discountPercentage': 12.62,\n",
              "   'rating': 4.19,\n",
              "   'stock': 8,\n",
              "   'tags': ['fruits'],\n",
              "   'sku': 'GRO-BRD-APP-016',\n",
              "   'weight': 9,\n",
              "   'dimensions': {'width': 13.66, 'height': 11.01, 'depth': 9.73},\n",
              "   'warrantyInformation': '3 year warranty',\n",
              "   'shippingInformation': 'Ships in 2 weeks',\n",
              "   'availabilityStatus': 'In Stock',\n",
              "   'reviews': [{'rating': 5,\n",
              "     'comment': 'Very satisfied!',\n",
              "     'date': '2025-04-30T09:41:02.053Z',\n",
              "     'reviewerName': 'Sophia Brown',\n",
              "     'reviewerEmail': 'sophia.brown@x.dummyjson.com'},\n",
              "    {'rating': 1,\n",
              "     'comment': 'Very dissatisfied!',\n",
              "     'date': '2025-04-30T09:41:02.053Z',\n",
              "     'reviewerName': 'Scarlett Bowman',\n",
              "     'reviewerEmail': 'scarlett.bowman@x.dummyjson.com'},\n",
              "    {'rating': 3,\n",
              "     'comment': 'Very unhappy with my purchase!',\n",
              "     'date': '2025-04-30T09:41:02.053Z',\n",
              "     'reviewerName': 'William Gonzalez',\n",
              "     'reviewerEmail': 'william.gonzalez@x.dummyjson.com'}],\n",
              "   'returnPolicy': '90 days return policy',\n",
              "   'minimumOrderQuantity': 7,\n",
              "   'meta': {'createdAt': '2025-04-30T09:41:02.053Z',\n",
              "    'updatedAt': '2025-04-30T09:41:02.053Z',\n",
              "    'barcode': '7962803553314',\n",
              "    'qrCode': 'https://cdn.dummyjson.com/public/qr-code.png'},\n",
              "   'images': ['https://cdn.dummyjson.com/product-images/groceries/apple/1.webp'],\n",
              "   'thumbnail': 'https://cdn.dummyjson.com/product-images/groceries/apple/thumbnail.webp'},\n",
              "  {'id': 17,\n",
              "   'title': 'Beef Steak',\n",
              "   'description': 'High-quality beef steak, great for grilling or cooking to your preferred level of doneness.',\n",
              "   'category': 'groceries',\n",
              "   'price': 12.99,\n",
              "   'discountPercentage': 9.61,\n",
              "   'rating': 4.47,\n",
              "   'stock': 86,\n",
              "   'tags': ['meat'],\n",
              "   'sku': 'GRO-BRD-BEE-017',\n",
              "   'weight': 10,\n",
              "   'dimensions': {'width': 18.9, 'height': 5.77, 'depth': 18.57},\n",
              "   'warrantyInformation': '3 year warranty',\n",
              "   'shippingInformation': 'Ships overnight',\n",
              "   'availabilityStatus': 'In Stock',\n",
              "   'reviews': [{'rating': 3,\n",
              "     'comment': 'Would not recommend!',\n",
              "     'date': '2025-04-30T09:41:02.053Z',\n",
              "     'reviewerName': 'Eleanor Tyler',\n",
              "     'reviewerEmail': 'eleanor.tyler@x.dummyjson.com'},\n",
              "    {'rating': 4,\n",
              "     'comment': 'Fast shipping!',\n",
              "     'date': '2025-04-30T09:41:02.053Z',\n",
              "     'reviewerName': 'Alexander Jones',\n",
              "     'reviewerEmail': 'alexander.jones@x.dummyjson.com'},\n",
              "    {'rating': 5,\n",
              "     'comment': 'Great value for money!',\n",
              "     'date': '2025-04-30T09:41:02.053Z',\n",
              "     'reviewerName': 'Natalie Harris',\n",
              "     'reviewerEmail': 'natalie.harris@x.dummyjson.com'}],\n",
              "   'returnPolicy': '60 days return policy',\n",
              "   'minimumOrderQuantity': 43,\n",
              "   'meta': {'createdAt': '2025-04-30T09:41:02.053Z',\n",
              "    'updatedAt': '2025-04-30T09:41:02.053Z',\n",
              "    'barcode': '5640063409695',\n",
              "    'qrCode': 'https://cdn.dummyjson.com/public/qr-code.png'},\n",
              "   'images': ['https://cdn.dummyjson.com/product-images/groceries/beef-steak/1.webp'],\n",
              "   'thumbnail': 'https://cdn.dummyjson.com/product-images/groceries/beef-steak/thumbnail.webp'},\n",
              "  {'id': 18,\n",
              "   'title': 'Cat Food',\n",
              "   'description': 'Nutritious cat food formulated to meet the dietary needs of your feline friend.',\n",
              "   'category': 'groceries',\n",
              "   'price': 8.99,\n",
              "   'discountPercentage': 9.58,\n",
              "   'rating': 3.13,\n",
              "   'stock': 46,\n",
              "   'tags': ['pet supplies', 'cat food'],\n",
              "   'sku': 'GRO-BRD-FOO-018',\n",
              "   'weight': 10,\n",
              "   'dimensions': {'width': 18.08, 'height': 9.26, 'depth': 21.86},\n",
              "   'warrantyInformation': '1 year warranty',\n",
              "   'shippingInformation': 'Ships overnight',\n",
              "   'availabilityStatus': 'In Stock',\n",
              "   'reviews': [{'rating': 3,\n",
              "     'comment': 'Would not recommend!',\n",
              "     'date': '2025-04-30T09:41:02.053Z',\n",
              "     'reviewerName': 'Noah Lewis',\n",
              "     'reviewerEmail': 'noah.lewis@x.dummyjson.com'},\n",
              "    {'rating': 3,\n",
              "     'comment': 'Very unhappy with my purchase!',\n",
              "     'date': '2025-04-30T09:41:02.053Z',\n",
              "     'reviewerName': 'Ruby Andrews',\n",
              "     'reviewerEmail': 'ruby.andrews@x.dummyjson.com'},\n",
              "    {'rating': 2,\n",
              "     'comment': 'Very disappointed!',\n",
              "     'date': '2025-04-30T09:41:02.053Z',\n",
              "     'reviewerName': 'Ethan Thompson',\n",
              "     'reviewerEmail': 'ethan.thompson@x.dummyjson.com'}],\n",
              "   'returnPolicy': 'No return policy',\n",
              "   'minimumOrderQuantity': 18,\n",
              "   'meta': {'createdAt': '2025-04-30T09:41:02.053Z',\n",
              "    'updatedAt': '2025-04-30T09:41:02.053Z',\n",
              "    'barcode': '1483991328610',\n",
              "    'qrCode': 'https://cdn.dummyjson.com/public/qr-code.png'},\n",
              "   'images': ['https://cdn.dummyjson.com/product-images/groceries/cat-food/1.webp'],\n",
              "   'thumbnail': 'https://cdn.dummyjson.com/product-images/groceries/cat-food/thumbnail.webp'},\n",
              "  {'id': 19,\n",
              "   'title': 'Chicken Meat',\n",
              "   'description': 'Fresh and tender chicken meat, suitable for various culinary preparations.',\n",
              "   'category': 'groceries',\n",
              "   'price': 9.99,\n",
              "   'discountPercentage': 13.7,\n",
              "   'rating': 3.19,\n",
              "   'stock': 97,\n",
              "   'tags': ['meat'],\n",
              "   'sku': 'GRO-BRD-CHI-019',\n",
              "   'weight': 1,\n",
              "   'dimensions': {'width': 11.03, 'height': 22.11, 'depth': 16.01},\n",
              "   'warrantyInformation': '1 year warranty',\n",
              "   'shippingInformation': 'Ships in 1 month',\n",
              "   'availabilityStatus': 'In Stock',\n",
              "   'reviews': [{'rating': 5,\n",
              "     'comment': 'Great product!',\n",
              "     'date': '2025-04-30T09:41:02.053Z',\n",
              "     'reviewerName': 'Mateo Bennett',\n",
              "     'reviewerEmail': 'mateo.bennett@x.dummyjson.com'},\n",
              "    {'rating': 4,\n",
              "     'comment': 'Highly recommended!',\n",
              "     'date': '2025-04-30T09:41:02.053Z',\n",
              "     'reviewerName': 'Jackson Evans',\n",
              "     'reviewerEmail': 'jackson.evans@x.dummyjson.com'},\n",
              "    {'rating': 3,\n",
              "     'comment': 'Not worth the price!',\n",
              "     'date': '2025-04-30T09:41:02.053Z',\n",
              "     'reviewerName': 'Sadie Morales',\n",
              "     'reviewerEmail': 'sadie.morales@x.dummyjson.com'}],\n",
              "   'returnPolicy': '7 days return policy',\n",
              "   'minimumOrderQuantity': 22,\n",
              "   'meta': {'createdAt': '2025-04-30T09:41:02.053Z',\n",
              "    'updatedAt': '2025-04-30T09:41:02.053Z',\n",
              "    'barcode': '8829514594521',\n",
              "    'qrCode': 'https://cdn.dummyjson.com/public/qr-code.png'},\n",
              "   'images': ['https://cdn.dummyjson.com/product-images/groceries/chicken-meat/1.webp',\n",
              "    'https://cdn.dummyjson.com/product-images/groceries/chicken-meat/2.webp'],\n",
              "   'thumbnail': 'https://cdn.dummyjson.com/product-images/groceries/chicken-meat/thumbnail.webp'},\n",
              "  {'id': 20,\n",
              "   'title': 'Cooking Oil',\n",
              "   'description': 'Versatile cooking oil suitable for frying, sautéing, and various culinary applications.',\n",
              "   'category': 'groceries',\n",
              "   'price': 4.99,\n",
              "   'discountPercentage': 9.33,\n",
              "   'rating': 4.8,\n",
              "   'stock': 10,\n",
              "   'tags': ['cooking essentials'],\n",
              "   'sku': 'GRO-BRD-COO-020',\n",
              "   'weight': 5,\n",
              "   'dimensions': {'width': 19.95, 'height': 27.54, 'depth': 24.86},\n",
              "   'warrantyInformation': 'Lifetime warranty',\n",
              "   'shippingInformation': 'Ships in 1-2 business days',\n",
              "   'availabilityStatus': 'In Stock',\n",
              "   'reviews': [{'rating': 5,\n",
              "     'comment': 'Very happy with my purchase!',\n",
              "     'date': '2025-04-30T09:41:02.053Z',\n",
              "     'reviewerName': 'Victoria McDonald',\n",
              "     'reviewerEmail': 'victoria.mcdonald@x.dummyjson.com'},\n",
              "    {'rating': 2,\n",
              "     'comment': 'Would not recommend!',\n",
              "     'date': '2025-04-30T09:41:02.053Z',\n",
              "     'reviewerName': 'Hazel Evans',\n",
              "     'reviewerEmail': 'hazel.evans@x.dummyjson.com'},\n",
              "    {'rating': 5,\n",
              "     'comment': 'Would buy again!',\n",
              "     'date': '2025-04-30T09:41:02.053Z',\n",
              "     'reviewerName': 'Zoe Bennett',\n",
              "     'reviewerEmail': 'zoe.bennett@x.dummyjson.com'}],\n",
              "   'returnPolicy': '30 days return policy',\n",
              "   'minimumOrderQuantity': 46,\n",
              "   'meta': {'createdAt': '2025-04-30T09:41:02.053Z',\n",
              "    'updatedAt': '2025-04-30T09:41:02.053Z',\n",
              "    'barcode': '4874727824518',\n",
              "    'qrCode': 'https://cdn.dummyjson.com/public/qr-code.png'},\n",
              "   'images': ['https://cdn.dummyjson.com/product-images/groceries/cooking-oil/1.webp'],\n",
              "   'thumbnail': 'https://cdn.dummyjson.com/product-images/groceries/cooking-oil/thumbnail.webp'},\n",
              "  {'id': 21,\n",
              "   'title': 'Cucumber',\n",
              "   'description': 'Crisp and hydrating cucumbers, ideal for salads, snacks, or as a refreshing side.',\n",
              "   'category': 'groceries',\n",
              "   'price': 1.49,\n",
              "   'discountPercentage': 0.16,\n",
              "   'rating': 4.07,\n",
              "   'stock': 84,\n",
              "   'tags': ['vegetables'],\n",
              "   'sku': 'GRO-BRD-CUC-021',\n",
              "   'weight': 4,\n",
              "   'dimensions': {'width': 12.8, 'height': 28.38, 'depth': 21.34},\n",
              "   'warrantyInformation': '2 year warranty',\n",
              "   'shippingInformation': 'Ships in 1-2 business days',\n",
              "   'availabilityStatus': 'In Stock',\n",
              "   'reviews': [{'rating': 4,\n",
              "     'comment': 'Great product!',\n",
              "     'date': '2025-04-30T09:41:02.053Z',\n",
              "     'reviewerName': 'Lincoln Kelly',\n",
              "     'reviewerEmail': 'lincoln.kelly@x.dummyjson.com'},\n",
              "    {'rating': 4,\n",
              "     'comment': 'Great value for money!',\n",
              "     'date': '2025-04-30T09:41:02.053Z',\n",
              "     'reviewerName': 'Savannah Gomez',\n",
              "     'reviewerEmail': 'savannah.gomez@x.dummyjson.com'},\n",
              "    {'rating': 2,\n",
              "     'comment': 'Poor quality!',\n",
              "     'date': '2025-04-30T09:41:02.053Z',\n",
              "     'reviewerName': 'James Davis',\n",
              "     'reviewerEmail': 'james.davis@x.dummyjson.com'}],\n",
              "   'returnPolicy': '7 days return policy',\n",
              "   'minimumOrderQuantity': 2,\n",
              "   'meta': {'createdAt': '2025-04-30T09:41:02.053Z',\n",
              "    'updatedAt': '2025-04-30T09:41:02.053Z',\n",
              "    'barcode': '5300066378225',\n",
              "    'qrCode': 'https://cdn.dummyjson.com/public/qr-code.png'},\n",
              "   'images': ['https://cdn.dummyjson.com/product-images/groceries/cucumber/1.webp'],\n",
              "   'thumbnail': 'https://cdn.dummyjson.com/product-images/groceries/cucumber/thumbnail.webp'},\n",
              "  {'id': 22,\n",
              "   'title': 'Dog Food',\n",
              "   'description': 'Specially formulated dog food designed to provide essential nutrients for your canine companion.',\n",
              "   'category': 'groceries',\n",
              "   'price': 10.99,\n",
              "   'discountPercentage': 10.27,\n",
              "   'rating': 4.55,\n",
              "   'stock': 71,\n",
              "   'tags': ['pet supplies', 'dog food'],\n",
              "   'sku': 'GRO-BRD-FOO-022',\n",
              "   'weight': 10,\n",
              "   'dimensions': {'width': 16.93, 'height': 27.15, 'depth': 9.29},\n",
              "   'warrantyInformation': 'No warranty',\n",
              "   'shippingInformation': 'Ships in 1-2 business days',\n",
              "   'availabilityStatus': 'In Stock',\n",
              "   'reviews': [{'rating': 5,\n",
              "     'comment': 'Excellent quality!',\n",
              "     'date': '2025-04-30T09:41:02.053Z',\n",
              "     'reviewerName': 'Nicholas Edwards',\n",
              "     'reviewerEmail': 'nicholas.edwards@x.dummyjson.com'},\n",
              "    {'rating': 5,\n",
              "     'comment': 'Awesome product!',\n",
              "     'date': '2025-04-30T09:41:02.053Z',\n",
              "     'reviewerName': 'Zachary Lee',\n",
              "     'reviewerEmail': 'zachary.lee@x.dummyjson.com'},\n",
              "    {'rating': 4,\n",
              "     'comment': 'Great product!',\n",
              "     'date': '2025-04-30T09:41:02.053Z',\n",
              "     'reviewerName': 'Nova Cooper',\n",
              "     'reviewerEmail': 'nova.cooper@x.dummyjson.com'}],\n",
              "   'returnPolicy': '60 days return policy',\n",
              "   'minimumOrderQuantity': 43,\n",
              "   'meta': {'createdAt': '2025-04-30T09:41:02.053Z',\n",
              "    'updatedAt': '2025-04-30T09:41:02.053Z',\n",
              "    'barcode': '5906686116469',\n",
              "    'qrCode': 'https://cdn.dummyjson.com/public/qr-code.png'},\n",
              "   'images': ['https://cdn.dummyjson.com/product-images/groceries/dog-food/1.webp'],\n",
              "   'thumbnail': 'https://cdn.dummyjson.com/product-images/groceries/dog-food/thumbnail.webp'},\n",
              "  {'id': 23,\n",
              "   'title': 'Eggs',\n",
              "   'description': 'Fresh eggs, a versatile ingredient for baking, cooking, or breakfast.',\n",
              "   'category': 'groceries',\n",
              "   'price': 2.99,\n",
              "   'discountPercentage': 11.05,\n",
              "   'rating': 2.53,\n",
              "   'stock': 9,\n",
              "   'tags': ['dairy'],\n",
              "   'sku': 'GRO-BRD-EGG-023',\n",
              "   'weight': 2,\n",
              "   'dimensions': {'width': 11.42, 'height': 7.44, 'depth': 16.95},\n",
              "   'warrantyInformation': '1 week warranty',\n",
              "   'shippingInformation': 'Ships in 1 week',\n",
              "   'availabilityStatus': 'In Stock',\n",
              "   'reviews': [{'rating': 3,\n",
              "     'comment': 'Disappointing product!',\n",
              "     'date': '2025-04-30T09:41:02.053Z',\n",
              "     'reviewerName': 'Penelope King',\n",
              "     'reviewerEmail': 'penelope.king@x.dummyjson.com'},\n",
              "    {'rating': 3,\n",
              "     'comment': 'Poor quality!',\n",
              "     'date': '2025-04-30T09:41:02.053Z',\n",
              "     'reviewerName': 'Eleanor Tyler',\n",
              "     'reviewerEmail': 'eleanor.tyler@x.dummyjson.com'},\n",
              "    {'rating': 4,\n",
              "     'comment': 'Very pleased!',\n",
              "     'date': '2025-04-30T09:41:02.053Z',\n",
              "     'reviewerName': 'Benjamin Foster',\n",
              "     'reviewerEmail': 'benjamin.foster@x.dummyjson.com'}],\n",
              "   'returnPolicy': 'No return policy',\n",
              "   'minimumOrderQuantity': 32,\n",
              "   'meta': {'createdAt': '2025-04-30T09:41:02.053Z',\n",
              "    'updatedAt': '2025-04-30T09:41:02.053Z',\n",
              "    'barcode': '3478638588469',\n",
              "    'qrCode': 'https://cdn.dummyjson.com/public/qr-code.png'},\n",
              "   'images': ['https://cdn.dummyjson.com/product-images/groceries/eggs/1.webp'],\n",
              "   'thumbnail': 'https://cdn.dummyjson.com/product-images/groceries/eggs/thumbnail.webp'},\n",
              "  {'id': 24,\n",
              "   'title': 'Fish Steak',\n",
              "   'description': 'Quality fish steak, suitable for grilling, baking, or pan-searing.',\n",
              "   'category': 'groceries',\n",
              "   'price': 14.99,\n",
              "   'discountPercentage': 4.23,\n",
              "   'rating': 3.78,\n",
              "   'stock': 74,\n",
              "   'tags': ['seafood'],\n",
              "   'sku': 'GRO-BRD-FIS-024',\n",
              "   'weight': 6,\n",
              "   'dimensions': {'width': 14.95, 'height': 26.31, 'depth': 11.27},\n",
              "   'warrantyInformation': '1 month warranty',\n",
              "   'shippingInformation': 'Ships in 3-5 business days',\n",
              "   'availabilityStatus': 'In Stock',\n",
              "   'reviews': [{'rating': 2,\n",
              "     'comment': 'Would not buy again!',\n",
              "     'date': '2025-04-30T09:41:02.053Z',\n",
              "     'reviewerName': 'Caleb Perkins',\n",
              "     'reviewerEmail': 'caleb.perkins@x.dummyjson.com'},\n",
              "    {'rating': 5,\n",
              "     'comment': 'Excellent quality!',\n",
              "     'date': '2025-04-30T09:41:02.053Z',\n",
              "     'reviewerName': 'Isabella Jackson',\n",
              "     'reviewerEmail': 'isabella.jackson@x.dummyjson.com'},\n",
              "    {'rating': 4,\n",
              "     'comment': 'Great value for money!',\n",
              "     'date': '2025-04-30T09:41:02.053Z',\n",
              "     'reviewerName': 'Nathan Dixon',\n",
              "     'reviewerEmail': 'nathan.dixon@x.dummyjson.com'}],\n",
              "   'returnPolicy': '60 days return policy',\n",
              "   'minimumOrderQuantity': 50,\n",
              "   'meta': {'createdAt': '2025-04-30T09:41:02.053Z',\n",
              "    'updatedAt': '2025-04-30T09:41:02.053Z',\n",
              "    'barcode': '9595036192098',\n",
              "    'qrCode': 'https://cdn.dummyjson.com/public/qr-code.png'},\n",
              "   'images': ['https://cdn.dummyjson.com/product-images/groceries/fish-steak/1.webp'],\n",
              "   'thumbnail': 'https://cdn.dummyjson.com/product-images/groceries/fish-steak/thumbnail.webp'},\n",
              "  {'id': 25,\n",
              "   'title': 'Green Bell Pepper',\n",
              "   'description': 'Fresh and vibrant green bell pepper, perfect for adding color and flavor to your dishes.',\n",
              "   'category': 'groceries',\n",
              "   'price': 1.29,\n",
              "   'discountPercentage': 0.16,\n",
              "   'rating': 3.25,\n",
              "   'stock': 33,\n",
              "   'tags': ['vegetables'],\n",
              "   'sku': 'GRO-BRD-GRE-025',\n",
              "   'weight': 2,\n",
              "   'dimensions': {'width': 15.33, 'height': 26.65, 'depth': 14.44},\n",
              "   'warrantyInformation': '1 month warranty',\n",
              "   'shippingInformation': 'Ships in 1 week',\n",
              "   'availabilityStatus': 'In Stock',\n",
              "   'reviews': [{'rating': 4,\n",
              "     'comment': 'Highly recommended!',\n",
              "     'date': '2025-04-30T09:41:02.053Z',\n",
              "     'reviewerName': 'Avery Carter',\n",
              "     'reviewerEmail': 'avery.carter@x.dummyjson.com'},\n",
              "    {'rating': 3,\n",
              "     'comment': 'Would not recommend!',\n",
              "     'date': '2025-04-30T09:41:02.053Z',\n",
              "     'reviewerName': 'Henry Hill',\n",
              "     'reviewerEmail': 'henry.hill@x.dummyjson.com'},\n",
              "    {'rating': 5,\n",
              "     'comment': 'Excellent quality!',\n",
              "     'date': '2025-04-30T09:41:02.053Z',\n",
              "     'reviewerName': 'Addison Wright',\n",
              "     'reviewerEmail': 'addison.wright@x.dummyjson.com'}],\n",
              "   'returnPolicy': '30 days return policy',\n",
              "   'minimumOrderQuantity': 12,\n",
              "   'meta': {'createdAt': '2025-04-30T09:41:02.053Z',\n",
              "    'updatedAt': '2025-04-30T09:41:02.053Z',\n",
              "    'barcode': '2365227493323',\n",
              "    'qrCode': 'https://cdn.dummyjson.com/public/qr-code.png'},\n",
              "   'images': ['https://cdn.dummyjson.com/product-images/groceries/green-bell-pepper/1.webp'],\n",
              "   'thumbnail': 'https://cdn.dummyjson.com/product-images/groceries/green-bell-pepper/thumbnail.webp'},\n",
              "  {'id': 26,\n",
              "   'title': 'Green Chili Pepper',\n",
              "   'description': 'Spicy green chili pepper, ideal for adding heat to your favorite recipes.',\n",
              "   'category': 'groceries',\n",
              "   'price': 0.99,\n",
              "   'discountPercentage': 1,\n",
              "   'rating': 3.66,\n",
              "   'stock': 3,\n",
              "   'tags': ['vegetables'],\n",
              "   'sku': 'GRO-BRD-GRE-026',\n",
              "   'weight': 7,\n",
              "   'dimensions': {'width': 15.38, 'height': 18.12, 'depth': 19.92},\n",
              "   'warrantyInformation': '2 year warranty',\n",
              "   'shippingInformation': 'Ships in 1 week',\n",
              "   'availabilityStatus': 'Low Stock',\n",
              "   'reviews': [{'rating': 4,\n",
              "     'comment': 'Great product!',\n",
              "     'date': '2025-04-30T09:41:02.053Z',\n",
              "     'reviewerName': 'Luna Russell',\n",
              "     'reviewerEmail': 'luna.russell@x.dummyjson.com'},\n",
              "    {'rating': 1,\n",
              "     'comment': 'Waste of money!',\n",
              "     'date': '2025-04-30T09:41:02.053Z',\n",
              "     'reviewerName': 'Noah Lewis',\n",
              "     'reviewerEmail': 'noah.lewis@x.dummyjson.com'},\n",
              "    {'rating': 3,\n",
              "     'comment': 'Very disappointed!',\n",
              "     'date': '2025-04-30T09:41:02.053Z',\n",
              "     'reviewerName': 'Clara Berry',\n",
              "     'reviewerEmail': 'clara.berry@x.dummyjson.com'}],\n",
              "   'returnPolicy': '30 days return policy',\n",
              "   'minimumOrderQuantity': 39,\n",
              "   'meta': {'createdAt': '2025-04-30T09:41:02.053Z',\n",
              "    'updatedAt': '2025-04-30T09:41:02.053Z',\n",
              "    'barcode': '9335000538563',\n",
              "    'qrCode': 'https://cdn.dummyjson.com/public/qr-code.png'},\n",
              "   'images': ['https://cdn.dummyjson.com/product-images/groceries/green-chili-pepper/1.webp'],\n",
              "   'thumbnail': 'https://cdn.dummyjson.com/product-images/groceries/green-chili-pepper/thumbnail.webp'},\n",
              "  {'id': 27,\n",
              "   'title': 'Honey Jar',\n",
              "   'description': 'Pure and natural honey in a convenient jar, perfect for sweetening beverages or drizzling over food.',\n",
              "   'category': 'groceries',\n",
              "   'price': 6.99,\n",
              "   'discountPercentage': 14.4,\n",
              "   'rating': 3.97,\n",
              "   'stock': 34,\n",
              "   'tags': ['condiments'],\n",
              "   'sku': 'GRO-BRD-HON-027',\n",
              "   'weight': 2,\n",
              "   'dimensions': {'width': 9.28, 'height': 21.72, 'depth': 17.74},\n",
              "   'warrantyInformation': '1 month warranty',\n",
              "   'shippingInformation': 'Ships in 1-2 business days',\n",
              "   'availabilityStatus': 'In Stock',\n",
              "   'reviews': [{'rating': 1,\n",
              "     'comment': 'Very disappointed!',\n",
              "     'date': '2025-04-30T09:41:02.053Z',\n",
              "     'reviewerName': 'Autumn Gomez',\n",
              "     'reviewerEmail': 'autumn.gomez@x.dummyjson.com'},\n",
              "    {'rating': 4,\n",
              "     'comment': 'Highly impressed!',\n",
              "     'date': '2025-04-30T09:41:02.053Z',\n",
              "     'reviewerName': 'Benjamin Wilson',\n",
              "     'reviewerEmail': 'benjamin.wilson@x.dummyjson.com'},\n",
              "    {'rating': 2,\n",
              "     'comment': 'Very disappointed!',\n",
              "     'date': '2025-04-30T09:41:02.053Z',\n",
              "     'reviewerName': 'Nicholas Edwards',\n",
              "     'reviewerEmail': 'nicholas.edwards@x.dummyjson.com'}],\n",
              "   'returnPolicy': '90 days return policy',\n",
              "   'minimumOrderQuantity': 47,\n",
              "   'meta': {'createdAt': '2025-04-30T09:41:02.053Z',\n",
              "    'updatedAt': '2025-04-30T09:41:02.053Z',\n",
              "    'barcode': '6354306346329',\n",
              "    'qrCode': 'https://cdn.dummyjson.com/public/qr-code.png'},\n",
              "   'images': ['https://cdn.dummyjson.com/product-images/groceries/honey-jar/1.webp'],\n",
              "   'thumbnail': 'https://cdn.dummyjson.com/product-images/groceries/honey-jar/thumbnail.webp'},\n",
              "  {'id': 28,\n",
              "   'title': 'Ice Cream',\n",
              "   'description': 'Creamy and delicious ice cream, available in various flavors for a delightful treat.',\n",
              "   'category': 'groceries',\n",
              "   'price': 5.49,\n",
              "   'discountPercentage': 8.69,\n",
              "   'rating': 3.39,\n",
              "   'stock': 27,\n",
              "   'tags': ['desserts'],\n",
              "   'sku': 'GRO-BRD-CRE-028',\n",
              "   'weight': 1,\n",
              "   'dimensions': {'width': 14.83, 'height': 15.07, 'depth': 24.2},\n",
              "   'warrantyInformation': '1 month warranty',\n",
              "   'shippingInformation': 'Ships in 2 weeks',\n",
              "   'availabilityStatus': 'In Stock',\n",
              "   'reviews': [{'rating': 5,\n",
              "     'comment': 'Very pleased!',\n",
              "     'date': '2025-04-30T09:41:02.053Z',\n",
              "     'reviewerName': 'Elijah Cruz',\n",
              "     'reviewerEmail': 'elijah.cruz@x.dummyjson.com'},\n",
              "    {'rating': 4,\n",
              "     'comment': 'Excellent quality!',\n",
              "     'date': '2025-04-30T09:41:02.053Z',\n",
              "     'reviewerName': 'Jace Smith',\n",
              "     'reviewerEmail': 'jace.smith@x.dummyjson.com'},\n",
              "    {'rating': 5,\n",
              "     'comment': 'Highly impressed!',\n",
              "     'date': '2025-04-30T09:41:02.053Z',\n",
              "     'reviewerName': 'Sadie Morales',\n",
              "     'reviewerEmail': 'sadie.morales@x.dummyjson.com'}],\n",
              "   'returnPolicy': 'No return policy',\n",
              "   'minimumOrderQuantity': 42,\n",
              "   'meta': {'createdAt': '2025-04-30T09:41:02.053Z',\n",
              "    'updatedAt': '2025-04-30T09:41:02.053Z',\n",
              "    'barcode': '0788954559076',\n",
              "    'qrCode': 'https://cdn.dummyjson.com/public/qr-code.png'},\n",
              "   'images': ['https://cdn.dummyjson.com/product-images/groceries/ice-cream/1.webp',\n",
              "    'https://cdn.dummyjson.com/product-images/groceries/ice-cream/2.webp',\n",
              "    'https://cdn.dummyjson.com/product-images/groceries/ice-cream/3.webp',\n",
              "    'https://cdn.dummyjson.com/product-images/groceries/ice-cream/4.webp'],\n",
              "   'thumbnail': 'https://cdn.dummyjson.com/product-images/groceries/ice-cream/thumbnail.webp'},\n",
              "  {'id': 29,\n",
              "   'title': 'Juice',\n",
              "   'description': 'Refreshing fruit juice, packed with vitamins and great for staying hydrated.',\n",
              "   'category': 'groceries',\n",
              "   'price': 3.99,\n",
              "   'discountPercentage': 12.06,\n",
              "   'rating': 3.94,\n",
              "   'stock': 50,\n",
              "   'tags': ['beverages'],\n",
              "   'sku': 'GRO-BRD-JUI-029',\n",
              "   'weight': 1,\n",
              "   'dimensions': {'width': 18.56, 'height': 21.46, 'depth': 28.02},\n",
              "   'warrantyInformation': '6 months warranty',\n",
              "   'shippingInformation': 'Ships in 1 week',\n",
              "   'availabilityStatus': 'In Stock',\n",
              "   'reviews': [{'rating': 5,\n",
              "     'comment': 'Excellent quality!',\n",
              "     'date': '2025-04-30T09:41:02.053Z',\n",
              "     'reviewerName': 'Nolan Gonzalez',\n",
              "     'reviewerEmail': 'nolan.gonzalez@x.dummyjson.com'},\n",
              "    {'rating': 4,\n",
              "     'comment': 'Would buy again!',\n",
              "     'date': '2025-04-30T09:41:02.053Z',\n",
              "     'reviewerName': 'Bella Grant',\n",
              "     'reviewerEmail': 'bella.grant@x.dummyjson.com'},\n",
              "    {'rating': 5,\n",
              "     'comment': 'Awesome product!',\n",
              "     'date': '2025-04-30T09:41:02.053Z',\n",
              "     'reviewerName': 'Aria Flores',\n",
              "     'reviewerEmail': 'aria.flores@x.dummyjson.com'}],\n",
              "   'returnPolicy': 'No return policy',\n",
              "   'minimumOrderQuantity': 25,\n",
              "   'meta': {'createdAt': '2025-04-30T09:41:02.053Z',\n",
              "    'updatedAt': '2025-04-30T09:41:02.053Z',\n",
              "    'barcode': '6936112580956',\n",
              "    'qrCode': 'https://cdn.dummyjson.com/public/qr-code.png'},\n",
              "   'images': ['https://cdn.dummyjson.com/product-images/groceries/juice/1.webp'],\n",
              "   'thumbnail': 'https://cdn.dummyjson.com/product-images/groceries/juice/thumbnail.webp'},\n",
              "  {'id': 30,\n",
              "   'title': 'Kiwi',\n",
              "   'description': 'Nutrient-rich kiwi, perfect for snacking or adding a tropical twist to your dishes.',\n",
              "   'category': 'groceries',\n",
              "   'price': 2.49,\n",
              "   'discountPercentage': 15.22,\n",
              "   'rating': 4.93,\n",
              "   'stock': 99,\n",
              "   'tags': ['fruits'],\n",
              "   'sku': 'GRO-BRD-KIW-030',\n",
              "   'weight': 5,\n",
              "   'dimensions': {'width': 19.4, 'height': 18.67, 'depth': 17.13},\n",
              "   'warrantyInformation': '6 months warranty',\n",
              "   'shippingInformation': 'Ships overnight',\n",
              "   'availabilityStatus': 'In Stock',\n",
              "   'reviews': [{'rating': 4,\n",
              "     'comment': 'Highly recommended!',\n",
              "     'date': '2025-04-30T09:41:02.053Z',\n",
              "     'reviewerName': 'Emily Brown',\n",
              "     'reviewerEmail': 'emily.brown@x.dummyjson.com'},\n",
              "    {'rating': 2,\n",
              "     'comment': 'Would not buy again!',\n",
              "     'date': '2025-04-30T09:41:02.053Z',\n",
              "     'reviewerName': 'Jackson Morales',\n",
              "     'reviewerEmail': 'jackson.morales@x.dummyjson.com'},\n",
              "    {'rating': 4,\n",
              "     'comment': 'Fast shipping!',\n",
              "     'date': '2025-04-30T09:41:02.053Z',\n",
              "     'reviewerName': 'Nora Russell',\n",
              "     'reviewerEmail': 'nora.russell@x.dummyjson.com'}],\n",
              "   'returnPolicy': '7 days return policy',\n",
              "   'minimumOrderQuantity': 30,\n",
              "   'meta': {'createdAt': '2025-04-30T09:41:02.053Z',\n",
              "    'updatedAt': '2025-04-30T09:41:02.053Z',\n",
              "    'barcode': '2530169917252',\n",
              "    'qrCode': 'https://cdn.dummyjson.com/public/qr-code.png'},\n",
              "   'images': ['https://cdn.dummyjson.com/product-images/groceries/kiwi/1.webp'],\n",
              "   'thumbnail': 'https://cdn.dummyjson.com/product-images/groceries/kiwi/thumbnail.webp'}],\n",
              " 'total': 194,\n",
              " 'skip': 0,\n",
              " 'limit': 30}"
            ]
          },
          "execution_count": 176,
          "metadata": {},
          "output_type": "execute_result"
        }
      ],
      "source": [
        "retorno = requests.get(\"https://dummyjson.com/products\")\n",
        "products = json.loads(retorno.content)\n",
        "products"
      ]
    },
    {
      "cell_type": "code",
      "execution_count": 177,
      "metadata": {
        "id": "l98JFXMDBA4h"
      },
      "outputs": [],
      "source": [
        "import requests\n",
        "\n",
        "@tool\n",
        "def products(text: str) -> str:\n",
        "    \"\"\"Retorna lista de produtos de uma loja de\n",
        "    comércio eletrônico chamada ShopAI.\n",
        "    Não requer parâmetro de entrada, se necessário informe vazio.\n",
        "    O resultado será na forma JSON somente com o campo title e price.\"\"\"\n",
        "\n",
        "    retorno = requests.get(\"https://dummyjson.com/products\")\n",
        "    items = json.loads(retorno.content)\n",
        "    items = items[\"products\"][:3]\n",
        "\n",
        "    return items"
      ]
    },
    {
      "cell_type": "code",
      "execution_count": 178,
      "metadata": {
        "colab": {
          "base_uri": "https://localhost:8080/"
        },
        "id": "Obxe6dILKaSv",
        "outputId": "66876720-4da9-49b0-a460-eaac7b67892f"
      },
      "outputs": [
        {
          "name": "stderr",
          "output_type": "stream",
          "text": [
            "/var/folders/wg/hmxmh5ds0x73wpdxzt6w7k340000gn/T/ipykernel_11510/2952740257.py:1: LangChainDeprecationWarning: The method `BaseTool.__call__` was deprecated in langchain-core 0.1.47 and will be removed in 1.0. Use :meth:`~invoke` instead.\n",
            "  products(\"\")\n"
          ]
        },
        {
          "data": {
            "text/plain": [
              "[{'id': 1,\n",
              "  'title': 'Essence Mascara Lash Princess',\n",
              "  'description': 'The Essence Mascara Lash Princess is a popular mascara known for its volumizing and lengthening effects. Achieve dramatic lashes with this long-lasting and cruelty-free formula.',\n",
              "  'category': 'beauty',\n",
              "  'price': 9.99,\n",
              "  'discountPercentage': 10.48,\n",
              "  'rating': 2.56,\n",
              "  'stock': 99,\n",
              "  'tags': ['beauty', 'mascara'],\n",
              "  'brand': 'Essence',\n",
              "  'sku': 'BEA-ESS-ESS-001',\n",
              "  'weight': 4,\n",
              "  'dimensions': {'width': 15.14, 'height': 13.08, 'depth': 22.99},\n",
              "  'warrantyInformation': '1 week warranty',\n",
              "  'shippingInformation': 'Ships in 3-5 business days',\n",
              "  'availabilityStatus': 'In Stock',\n",
              "  'reviews': [{'rating': 3,\n",
              "    'comment': 'Would not recommend!',\n",
              "    'date': '2025-04-30T09:41:02.053Z',\n",
              "    'reviewerName': 'Eleanor Collins',\n",
              "    'reviewerEmail': 'eleanor.collins@x.dummyjson.com'},\n",
              "   {'rating': 4,\n",
              "    'comment': 'Very satisfied!',\n",
              "    'date': '2025-04-30T09:41:02.053Z',\n",
              "    'reviewerName': 'Lucas Gordon',\n",
              "    'reviewerEmail': 'lucas.gordon@x.dummyjson.com'},\n",
              "   {'rating': 5,\n",
              "    'comment': 'Highly impressed!',\n",
              "    'date': '2025-04-30T09:41:02.053Z',\n",
              "    'reviewerName': 'Eleanor Collins',\n",
              "    'reviewerEmail': 'eleanor.collins@x.dummyjson.com'}],\n",
              "  'returnPolicy': 'No return policy',\n",
              "  'minimumOrderQuantity': 48,\n",
              "  'meta': {'createdAt': '2025-04-30T09:41:02.053Z',\n",
              "   'updatedAt': '2025-04-30T09:41:02.053Z',\n",
              "   'barcode': '5784719087687',\n",
              "   'qrCode': 'https://cdn.dummyjson.com/public/qr-code.png'},\n",
              "  'images': ['https://cdn.dummyjson.com/product-images/beauty/essence-mascara-lash-princess/1.webp'],\n",
              "  'thumbnail': 'https://cdn.dummyjson.com/product-images/beauty/essence-mascara-lash-princess/thumbnail.webp'},\n",
              " {'id': 2,\n",
              "  'title': 'Eyeshadow Palette with Mirror',\n",
              "  'description': \"The Eyeshadow Palette with Mirror offers a versatile range of eyeshadow shades for creating stunning eye looks. With a built-in mirror, it's convenient for on-the-go makeup application.\",\n",
              "  'category': 'beauty',\n",
              "  'price': 19.99,\n",
              "  'discountPercentage': 18.19,\n",
              "  'rating': 2.86,\n",
              "  'stock': 34,\n",
              "  'tags': ['beauty', 'eyeshadow'],\n",
              "  'brand': 'Glamour Beauty',\n",
              "  'sku': 'BEA-GLA-EYE-002',\n",
              "  'weight': 9,\n",
              "  'dimensions': {'width': 9.26, 'height': 22.47, 'depth': 27.67},\n",
              "  'warrantyInformation': '1 year warranty',\n",
              "  'shippingInformation': 'Ships in 2 weeks',\n",
              "  'availabilityStatus': 'In Stock',\n",
              "  'reviews': [{'rating': 5,\n",
              "    'comment': 'Great product!',\n",
              "    'date': '2025-04-30T09:41:02.053Z',\n",
              "    'reviewerName': 'Savannah Gomez',\n",
              "    'reviewerEmail': 'savannah.gomez@x.dummyjson.com'},\n",
              "   {'rating': 4,\n",
              "    'comment': 'Awesome product!',\n",
              "    'date': '2025-04-30T09:41:02.053Z',\n",
              "    'reviewerName': 'Christian Perez',\n",
              "    'reviewerEmail': 'christian.perez@x.dummyjson.com'},\n",
              "   {'rating': 1,\n",
              "    'comment': 'Poor quality!',\n",
              "    'date': '2025-04-30T09:41:02.053Z',\n",
              "    'reviewerName': 'Nicholas Bailey',\n",
              "    'reviewerEmail': 'nicholas.bailey@x.dummyjson.com'}],\n",
              "  'returnPolicy': '7 days return policy',\n",
              "  'minimumOrderQuantity': 20,\n",
              "  'meta': {'createdAt': '2025-04-30T09:41:02.053Z',\n",
              "   'updatedAt': '2025-04-30T09:41:02.053Z',\n",
              "   'barcode': '9170275171413',\n",
              "   'qrCode': 'https://cdn.dummyjson.com/public/qr-code.png'},\n",
              "  'images': ['https://cdn.dummyjson.com/product-images/beauty/eyeshadow-palette-with-mirror/1.webp'],\n",
              "  'thumbnail': 'https://cdn.dummyjson.com/product-images/beauty/eyeshadow-palette-with-mirror/thumbnail.webp'},\n",
              " {'id': 3,\n",
              "  'title': 'Powder Canister',\n",
              "  'description': 'The Powder Canister is a finely milled setting powder designed to set makeup and control shine. With a lightweight and translucent formula, it provides a smooth and matte finish.',\n",
              "  'category': 'beauty',\n",
              "  'price': 14.99,\n",
              "  'discountPercentage': 9.84,\n",
              "  'rating': 4.64,\n",
              "  'stock': 89,\n",
              "  'tags': ['beauty', 'face powder'],\n",
              "  'brand': 'Velvet Touch',\n",
              "  'sku': 'BEA-VEL-POW-003',\n",
              "  'weight': 8,\n",
              "  'dimensions': {'width': 29.27, 'height': 27.93, 'depth': 20.59},\n",
              "  'warrantyInformation': '3 months warranty',\n",
              "  'shippingInformation': 'Ships in 1-2 business days',\n",
              "  'availabilityStatus': 'In Stock',\n",
              "  'reviews': [{'rating': 4,\n",
              "    'comment': 'Would buy again!',\n",
              "    'date': '2025-04-30T09:41:02.053Z',\n",
              "    'reviewerName': 'Alexander Jones',\n",
              "    'reviewerEmail': 'alexander.jones@x.dummyjson.com'},\n",
              "   {'rating': 5,\n",
              "    'comment': 'Highly impressed!',\n",
              "    'date': '2025-04-30T09:41:02.053Z',\n",
              "    'reviewerName': 'Elijah Cruz',\n",
              "    'reviewerEmail': 'elijah.cruz@x.dummyjson.com'},\n",
              "   {'rating': 1,\n",
              "    'comment': 'Very dissatisfied!',\n",
              "    'date': '2025-04-30T09:41:02.053Z',\n",
              "    'reviewerName': 'Avery Perez',\n",
              "    'reviewerEmail': 'avery.perez@x.dummyjson.com'}],\n",
              "  'returnPolicy': 'No return policy',\n",
              "  'minimumOrderQuantity': 22,\n",
              "  'meta': {'createdAt': '2025-04-30T09:41:02.053Z',\n",
              "   'updatedAt': '2025-04-30T09:41:02.053Z',\n",
              "   'barcode': '8418883906837',\n",
              "   'qrCode': 'https://cdn.dummyjson.com/public/qr-code.png'},\n",
              "  'images': ['https://cdn.dummyjson.com/product-images/beauty/powder-canister/1.webp'],\n",
              "  'thumbnail': 'https://cdn.dummyjson.com/product-images/beauty/powder-canister/thumbnail.webp'}]"
            ]
          },
          "execution_count": 178,
          "metadata": {},
          "output_type": "execute_result"
        }
      ],
      "source": [
        "products(\"\")"
      ]
    },
    {
      "cell_type": "code",
      "execution_count": 179,
      "metadata": {
        "id": "bX2FyvI3NG0U"
      },
      "outputs": [],
      "source": [
        "@tool\n",
        "def product(text: str) -> str:\n",
        "    \"\"\"Retorna o produto baseado na sua identificação.\n",
        "    Ela é numérica, mas deve ser enviado no formato texto e é obrigatória ser passado.\n",
        "    Esse é um produto do comércio eletrônico chamada ShopAI.\n",
        "    O resultado será na forma JSON ou dicionário.\"\"\"\n",
        "\n",
        "    retorno = requests.get(\"https://dummyjson.com/products/\"+text)\n",
        "    item = json.loads(retorno.content)\n",
        "\n",
        "    return item"
      ]
    },
    {
      "cell_type": "code",
      "execution_count": 180,
      "metadata": {
        "colab": {
          "base_uri": "https://localhost:8080/"
        },
        "id": "U3GgM3AtNeV1",
        "outputId": "d5599c7c-a424-4777-dbfb-7107c8823b6a"
      },
      "outputs": [
        {
          "data": {
            "text/plain": [
              "{'id': 1,\n",
              " 'title': 'Essence Mascara Lash Princess',\n",
              " 'description': 'The Essence Mascara Lash Princess is a popular mascara known for its volumizing and lengthening effects. Achieve dramatic lashes with this long-lasting and cruelty-free formula.',\n",
              " 'category': 'beauty',\n",
              " 'price': 9.99,\n",
              " 'discountPercentage': 10.48,\n",
              " 'rating': 2.56,\n",
              " 'stock': 99,\n",
              " 'tags': ['beauty', 'mascara'],\n",
              " 'brand': 'Essence',\n",
              " 'sku': 'BEA-ESS-ESS-001',\n",
              " 'weight': 4,\n",
              " 'dimensions': {'width': 15.14, 'height': 13.08, 'depth': 22.99},\n",
              " 'warrantyInformation': '1 week warranty',\n",
              " 'shippingInformation': 'Ships in 3-5 business days',\n",
              " 'availabilityStatus': 'In Stock',\n",
              " 'reviews': [{'rating': 3,\n",
              "   'comment': 'Would not recommend!',\n",
              "   'date': '2025-04-30T09:41:02.053Z',\n",
              "   'reviewerName': 'Eleanor Collins',\n",
              "   'reviewerEmail': 'eleanor.collins@x.dummyjson.com'},\n",
              "  {'rating': 4,\n",
              "   'comment': 'Very satisfied!',\n",
              "   'date': '2025-04-30T09:41:02.053Z',\n",
              "   'reviewerName': 'Lucas Gordon',\n",
              "   'reviewerEmail': 'lucas.gordon@x.dummyjson.com'},\n",
              "  {'rating': 5,\n",
              "   'comment': 'Highly impressed!',\n",
              "   'date': '2025-04-30T09:41:02.053Z',\n",
              "   'reviewerName': 'Eleanor Collins',\n",
              "   'reviewerEmail': 'eleanor.collins@x.dummyjson.com'}],\n",
              " 'returnPolicy': 'No return policy',\n",
              " 'minimumOrderQuantity': 48,\n",
              " 'meta': {'createdAt': '2025-04-30T09:41:02.053Z',\n",
              "  'updatedAt': '2025-04-30T09:41:02.053Z',\n",
              "  'barcode': '5784719087687',\n",
              "  'qrCode': 'https://cdn.dummyjson.com/public/qr-code.png'},\n",
              " 'images': ['https://cdn.dummyjson.com/product-images/beauty/essence-mascara-lash-princess/1.webp'],\n",
              " 'thumbnail': 'https://cdn.dummyjson.com/product-images/beauty/essence-mascara-lash-princess/thumbnail.webp'}"
            ]
          },
          "execution_count": 180,
          "metadata": {},
          "output_type": "execute_result"
        }
      ],
      "source": [
        "product(\"1\")"
      ]
    },
    {
      "cell_type": "markdown",
      "metadata": {
        "id": "XO1_qPmeZSPp"
      },
      "source": [
        "Iniciamos o agente como os anteriores."
      ]
    },
    {
      "cell_type": "code",
      "execution_count": 181,
      "metadata": {
        "id": "07wJZAVuOiIV"
      },
      "outputs": [
        {
          "name": "stderr",
          "output_type": "stream",
          "text": [
            "/Users/michelpf/.pyenv/versions/3.10.13/lib/python3.10/site-packages/langsmith/client.py:272: LangSmithMissingAPIKeyWarning: API key must be provided when using hosted LangSmith API\n",
            "  warnings.warn(\n"
          ]
        }
      ],
      "source": [
        "prompt = hub.pull(\"hwchase17/react\")"
      ]
    },
    {
      "cell_type": "code",
      "execution_count": 182,
      "metadata": {
        "id": "4KVbNrXLOoxL"
      },
      "outputs": [],
      "source": [
        "tools = [products, product]"
      ]
    },
    {
      "cell_type": "code",
      "execution_count": 183,
      "metadata": {
        "id": "B8TEi5-WOiq7"
      },
      "outputs": [],
      "source": [
        "agent = create_react_agent(\n",
        "    chat_openai,\n",
        "    tools,\n",
        "    prompt)"
      ]
    },
    {
      "cell_type": "code",
      "execution_count": 184,
      "metadata": {
        "id": "wLpTndUyOivG"
      },
      "outputs": [],
      "source": [
        "agent_executor = AgentExecutor(\n",
        "    agent=agent, tools=tools, verbose=True, handle_parsing_errors=True\n",
        ")"
      ]
    },
    {
      "cell_type": "markdown",
      "metadata": {
        "id": "g6asjKJcZUtF"
      },
      "source": [
        "Pelas descrições, o modelo LLM será capaz de realizar um \"planejamento\" sobre que ação tomar e quais dados precisa para cada ação."
      ]
    },
    {
      "cell_type": "code",
      "execution_count": 185,
      "metadata": {
        "colab": {
          "base_uri": "https://localhost:8080/"
        },
        "id": "Jhjy4RlNOt_Q",
        "outputId": "6af59384-c75c-4a7e-ed7a-b3ac0c1f724a"
      },
      "outputs": [
        {
          "name": "stdout",
          "output_type": "stream",
          "text": [
            "\n",
            "\n",
            "\u001b[1m> Entering new AgentExecutor chain...\u001b[0m\n",
            "\u001b[32;1m\u001b[1;3mThought: Para responder à pergunta, preciso obter a lista de produtos da loja ShopAI usando a função products.\n",
            "Action: products\n",
            "Action Input: \u001b[0m\u001b[36;1m\u001b[1;3m[{'id': 1, 'title': 'Essence Mascara Lash Princess', 'description': 'The Essence Mascara Lash Princess is a popular mascara known for its volumizing and lengthening effects. Achieve dramatic lashes with this long-lasting and cruelty-free formula.', 'category': 'beauty', 'price': 9.99, 'discountPercentage': 10.48, 'rating': 2.56, 'stock': 99, 'tags': ['beauty', 'mascara'], 'brand': 'Essence', 'sku': 'BEA-ESS-ESS-001', 'weight': 4, 'dimensions': {'width': 15.14, 'height': 13.08, 'depth': 22.99}, 'warrantyInformation': '1 week warranty', 'shippingInformation': 'Ships in 3-5 business days', 'availabilityStatus': 'In Stock', 'reviews': [{'rating': 3, 'comment': 'Would not recommend!', 'date': '2025-04-30T09:41:02.053Z', 'reviewerName': 'Eleanor Collins', 'reviewerEmail': 'eleanor.collins@x.dummyjson.com'}, {'rating': 4, 'comment': 'Very satisfied!', 'date': '2025-04-30T09:41:02.053Z', 'reviewerName': 'Lucas Gordon', 'reviewerEmail': 'lucas.gordon@x.dummyjson.com'}, {'rating': 5, 'comment': 'Highly impressed!', 'date': '2025-04-30T09:41:02.053Z', 'reviewerName': 'Eleanor Collins', 'reviewerEmail': 'eleanor.collins@x.dummyjson.com'}], 'returnPolicy': 'No return policy', 'minimumOrderQuantity': 48, 'meta': {'createdAt': '2025-04-30T09:41:02.053Z', 'updatedAt': '2025-04-30T09:41:02.053Z', 'barcode': '5784719087687', 'qrCode': 'https://cdn.dummyjson.com/public/qr-code.png'}, 'images': ['https://cdn.dummyjson.com/product-images/beauty/essence-mascara-lash-princess/1.webp'], 'thumbnail': 'https://cdn.dummyjson.com/product-images/beauty/essence-mascara-lash-princess/thumbnail.webp'}, {'id': 2, 'title': 'Eyeshadow Palette with Mirror', 'description': \"The Eyeshadow Palette with Mirror offers a versatile range of eyeshadow shades for creating stunning eye looks. With a built-in mirror, it's convenient for on-the-go makeup application.\", 'category': 'beauty', 'price': 19.99, 'discountPercentage': 18.19, 'rating': 2.86, 'stock': 34, 'tags': ['beauty', 'eyeshadow'], 'brand': 'Glamour Beauty', 'sku': 'BEA-GLA-EYE-002', 'weight': 9, 'dimensions': {'width': 9.26, 'height': 22.47, 'depth': 27.67}, 'warrantyInformation': '1 year warranty', 'shippingInformation': 'Ships in 2 weeks', 'availabilityStatus': 'In Stock', 'reviews': [{'rating': 5, 'comment': 'Great product!', 'date': '2025-04-30T09:41:02.053Z', 'reviewerName': 'Savannah Gomez', 'reviewerEmail': 'savannah.gomez@x.dummyjson.com'}, {'rating': 4, 'comment': 'Awesome product!', 'date': '2025-04-30T09:41:02.053Z', 'reviewerName': 'Christian Perez', 'reviewerEmail': 'christian.perez@x.dummyjson.com'}, {'rating': 1, 'comment': 'Poor quality!', 'date': '2025-04-30T09:41:02.053Z', 'reviewerName': 'Nicholas Bailey', 'reviewerEmail': 'nicholas.bailey@x.dummyjson.com'}], 'returnPolicy': '7 days return policy', 'minimumOrderQuantity': 20, 'meta': {'createdAt': '2025-04-30T09:41:02.053Z', 'updatedAt': '2025-04-30T09:41:02.053Z', 'barcode': '9170275171413', 'qrCode': 'https://cdn.dummyjson.com/public/qr-code.png'}, 'images': ['https://cdn.dummyjson.com/product-images/beauty/eyeshadow-palette-with-mirror/1.webp'], 'thumbnail': 'https://cdn.dummyjson.com/product-images/beauty/eyeshadow-palette-with-mirror/thumbnail.webp'}, {'id': 3, 'title': 'Powder Canister', 'description': 'The Powder Canister is a finely milled setting powder designed to set makeup and control shine. With a lightweight and translucent formula, it provides a smooth and matte finish.', 'category': 'beauty', 'price': 14.99, 'discountPercentage': 9.84, 'rating': 4.64, 'stock': 89, 'tags': ['beauty', 'face powder'], 'brand': 'Velvet Touch', 'sku': 'BEA-VEL-POW-003', 'weight': 8, 'dimensions': {'width': 29.27, 'height': 27.93, 'depth': 20.59}, 'warrantyInformation': '3 months warranty', 'shippingInformation': 'Ships in 1-2 business days', 'availabilityStatus': 'In Stock', 'reviews': [{'rating': 4, 'comment': 'Would buy again!', 'date': '2025-04-30T09:41:02.053Z', 'reviewerName': 'Alexander Jones', 'reviewerEmail': 'alexander.jones@x.dummyjson.com'}, {'rating': 5, 'comment': 'Highly impressed!', 'date': '2025-04-30T09:41:02.053Z', 'reviewerName': 'Elijah Cruz', 'reviewerEmail': 'elijah.cruz@x.dummyjson.com'}, {'rating': 1, 'comment': 'Very dissatisfied!', 'date': '2025-04-30T09:41:02.053Z', 'reviewerName': 'Avery Perez', 'reviewerEmail': 'avery.perez@x.dummyjson.com'}], 'returnPolicy': 'No return policy', 'minimumOrderQuantity': 22, 'meta': {'createdAt': '2025-04-30T09:41:02.053Z', 'updatedAt': '2025-04-30T09:41:02.053Z', 'barcode': '8418883906837', 'qrCode': 'https://cdn.dummyjson.com/public/qr-code.png'}, 'images': ['https://cdn.dummyjson.com/product-images/beauty/powder-canister/1.webp'], 'thumbnail': 'https://cdn.dummyjson.com/product-images/beauty/powder-canister/thumbnail.webp'}]\u001b[0m\u001b[32;1m\u001b[1;3mThought: Já tenho a lista de produtos da loja ShopAI, com título e preço de cada um.\n",
            "Final Answer: A lista de produtos da loja ShopAI é:\n",
            "1. Essence Mascara Lash Princess - R$ 9,99\n",
            "2. Eyeshadow Palette with Mirror - R$ 19,99\n",
            "3. Powder Canister - R$ 14,99\u001b[0m\n",
            "\n",
            "\u001b[1m> Finished chain.\u001b[0m\n"
          ]
        },
        {
          "data": {
            "text/plain": [
              "{'input': 'Traga a lista de produtos da loja ShopAI.',\n",
              " 'output': 'A lista de produtos da loja ShopAI é:\\n1. Essence Mascara Lash Princess - R$ 9,99\\n2. Eyeshadow Palette with Mirror - R$ 19,99\\n3. Powder Canister - R$ 14,99'}"
            ]
          },
          "execution_count": 185,
          "metadata": {},
          "output_type": "execute_result"
        }
      ],
      "source": [
        "agent_executor.invoke({\"input\": \"Traga a lista de produtos da loja ShopAI.\"})"
      ]
    },
    {
      "cell_type": "code",
      "execution_count": 186,
      "metadata": {
        "colab": {
          "base_uri": "https://localhost:8080/"
        },
        "id": "1U08B0j6EJfi",
        "outputId": "985558c3-ba58-4a10-c1cb-1746cfcbaa82"
      },
      "outputs": [
        {
          "name": "stdout",
          "output_type": "stream",
          "text": [
            "\n",
            "\n",
            "\u001b[1m> Entering new AgentExecutor chain...\u001b[0m\n",
            "\u001b[32;1m\u001b[1;3mThought: Vou buscar o produto com a identificação \"1\" na loja ShopAI usando a função product.\n",
            "Action: product\n",
            "Action Input: \"1\"\u001b[0m\u001b[33;1m\u001b[1;3m{'id': 1, 'title': 'Essence Mascara Lash Princess', 'description': 'The Essence Mascara Lash Princess is a popular mascara known for its volumizing and lengthening effects. Achieve dramatic lashes with this long-lasting and cruelty-free formula.', 'category': 'beauty', 'price': 9.99, 'discountPercentage': 10.48, 'rating': 2.56, 'stock': 99, 'tags': ['beauty', 'mascara'], 'brand': 'Essence', 'sku': 'BEA-ESS-ESS-001', 'weight': 4, 'dimensions': {'width': 15.14, 'height': 13.08, 'depth': 22.99}, 'warrantyInformation': '1 week warranty', 'shippingInformation': 'Ships in 3-5 business days', 'availabilityStatus': 'In Stock', 'reviews': [{'rating': 3, 'comment': 'Would not recommend!', 'date': '2025-04-30T09:41:02.053Z', 'reviewerName': 'Eleanor Collins', 'reviewerEmail': 'eleanor.collins@x.dummyjson.com'}, {'rating': 4, 'comment': 'Very satisfied!', 'date': '2025-04-30T09:41:02.053Z', 'reviewerName': 'Lucas Gordon', 'reviewerEmail': 'lucas.gordon@x.dummyjson.com'}, {'rating': 5, 'comment': 'Highly impressed!', 'date': '2025-04-30T09:41:02.053Z', 'reviewerName': 'Eleanor Collins', 'reviewerEmail': 'eleanor.collins@x.dummyjson.com'}], 'returnPolicy': 'No return policy', 'minimumOrderQuantity': 48, 'meta': {'createdAt': '2025-04-30T09:41:02.053Z', 'updatedAt': '2025-04-30T09:41:02.053Z', 'barcode': '5784719087687', 'qrCode': 'https://cdn.dummyjson.com/public/qr-code.png'}, 'images': ['https://cdn.dummyjson.com/product-images/beauty/essence-mascara-lash-princess/1.webp'], 'thumbnail': 'https://cdn.dummyjson.com/product-images/beauty/essence-mascara-lash-princess/thumbnail.webp'}\u001b[0m\u001b[32;1m\u001b[1;3mThought: Já obtive as informações do produto com identificação 1, que é a Essence Mascara Lash Princess, incluindo detalhes como preço, descrição, avaliações e imagens.\n",
            "Final Answer: O produto com identificação 1 é a Essence Mascara Lash Princess. É uma máscara de cílios conhecida por seus efeitos de volume e alongamento, com preço de 9,99. Está disponível em estoque, possui garantia de 1 semana e não aceita devolução. Aqui está a imagem do produto: https://cdn.dummyjson.com/product-images/beauty/essence-mascara-lash-princess/1.webp\u001b[0m\n",
            "\n",
            "\u001b[1m> Finished chain.\u001b[0m\n"
          ]
        },
        {
          "data": {
            "text/plain": [
              "{'input': 'Traga o produto com identificação 1 da loja ShopAI.',\n",
              " 'output': 'O produto com identificação 1 é a Essence Mascara Lash Princess. É uma máscara de cílios conhecida por seus efeitos de volume e alongamento, com preço de 9,99. Está disponível em estoque, possui garantia de 1 semana e não aceita devolução. Aqui está a imagem do produto: https://cdn.dummyjson.com/product-images/beauty/essence-mascara-lash-princess/1.webp'}"
            ]
          },
          "execution_count": 186,
          "metadata": {},
          "output_type": "execute_result"
        }
      ],
      "source": [
        "agent_executor.invoke({\"input\": \"Traga o produto com identificação 1 da loja ShopAI.\"})"
      ]
    }
  ],
  "metadata": {
    "colab": {
      "provenance": [],
      "toc_visible": true
    },
    "kernelspec": {
      "display_name": "3.10.13",
      "language": "python",
      "name": "python3"
    },
    "language_info": {
      "codemirror_mode": {
        "name": "ipython",
        "version": 3
      },
      "file_extension": ".py",
      "mimetype": "text/x-python",
      "name": "python",
      "nbconvert_exporter": "python",
      "pygments_lexer": "ipython3",
      "version": "3.10.13"
    }
  },
  "nbformat": 4,
  "nbformat_minor": 0
}
